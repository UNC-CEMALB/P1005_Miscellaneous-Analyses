{
 "cells": [
  {
   "cell_type": "code",
   "execution_count": 1,
   "id": "8a1521d3-8ea7-4387-83e4-dc20bdfe33d2",
   "metadata": {},
   "outputs": [
    {
     "name": "stderr",
     "output_type": "stream",
     "text": [
      "── \u001b[1mAttaching core tidyverse packages\u001b[22m ──────────────────────── tidyverse 2.0.0 ──\n",
      "\u001b[32m✔\u001b[39m \u001b[34mdplyr    \u001b[39m 1.1.3     \u001b[32m✔\u001b[39m \u001b[34mreadr    \u001b[39m 2.1.4\n",
      "\u001b[32m✔\u001b[39m \u001b[34mforcats  \u001b[39m 1.0.0     \u001b[32m✔\u001b[39m \u001b[34mstringr  \u001b[39m 1.5.0\n",
      "\u001b[32m✔\u001b[39m \u001b[34mggplot2  \u001b[39m 3.4.3     \u001b[32m✔\u001b[39m \u001b[34mtibble   \u001b[39m 3.2.1\n",
      "\u001b[32m✔\u001b[39m \u001b[34mlubridate\u001b[39m 1.9.2     \u001b[32m✔\u001b[39m \u001b[34mtidyr    \u001b[39m 1.3.0\n",
      "\u001b[32m✔\u001b[39m \u001b[34mpurrr    \u001b[39m 1.0.2     \n",
      "── \u001b[1mConflicts\u001b[22m ────────────────────────────────────────── tidyverse_conflicts() ──\n",
      "\u001b[31m✖\u001b[39m \u001b[34mdplyr\u001b[39m::\u001b[32mfilter()\u001b[39m masks \u001b[34mstats\u001b[39m::filter()\n",
      "\u001b[31m✖\u001b[39m \u001b[34mdplyr\u001b[39m::\u001b[32mlag()\u001b[39m    masks \u001b[34mstats\u001b[39m::lag()\n",
      "\u001b[36mℹ\u001b[39m Use the conflicted package (\u001b[3m\u001b[34m<http://conflicted.r-lib.org/>\u001b[39m\u001b[23m) to force all conflicts to become errors\n",
      "\n",
      "Attaching package: ‘reshape2’\n",
      "\n",
      "\n",
      "The following object is masked from ‘package:tidyr’:\n",
      "\n",
      "    smiths\n",
      "\n",
      "\n"
     ]
    }
   ],
   "source": [
    "Output = ('/Users/alexis/Library/CloudStorage/OneDrive-UniversityofNorthCarolinaatChapelHill/CEMALB_DataAnalysisPM/Projects/P1005. Miscellaneous Analyses/P1005.7. EV Proteomics/P1005.7.3. Analyses/P1005.7.3.2. Group Distribution Analysis/Output')\n",
    "cur_date = \"013124\"\n",
    "\n",
    "library(readxl)\n",
    "library(tidyverse)\n",
    "library(reshape2)\n",
    "library(openxlsx)\n",
    "\n",
    "# reading in file\n",
    "proteomics_df = data.frame(read_excel(\"Input/Imputed_Proteomics_Data_013024.xlsx\"))"
   ]
  },
  {
   "cell_type": "code",
   "execution_count": 2,
   "id": "1ffbdd0d-7c7b-4dd6-a36a-784fcdac95e2",
   "metadata": {},
   "outputs": [
    {
     "data": {
      "text/html": [
       "<table class=\"dataframe\">\n",
       "<caption>A data.frame: 6 × 4</caption>\n",
       "<thead>\n",
       "\t<tr><th></th><th scope=col>ID</th><th scope=col>Treatment</th><th scope=col>Protein</th><th scope=col>Value</th></tr>\n",
       "\t<tr><th></th><th scope=col>&lt;chr&gt;</th><th scope=col>&lt;chr&gt;</th><th scope=col>&lt;chr&gt;</th><th scope=col>&lt;dbl&gt;</th></tr>\n",
       "</thead>\n",
       "<tbody>\n",
       "\t<tr><th scope=row>1</th><td>Control_R1</td><td>Control</td><td>P00761                     </td><td>48817715</td></tr>\n",
       "\t<tr><th scope=row>2</th><td>Control_R1</td><td>Control</td><td>P60709                     </td><td>15596874</td></tr>\n",
       "\t<tr><th scope=row>3</th><td>Control_R1</td><td>Control</td><td>P0C0S8.Q96KK5.Q99878.Q9BTM1</td><td> 2070354</td></tr>\n",
       "\t<tr><th scope=row>4</th><td>Control_R1</td><td>Control</td><td>P23527                     </td><td> 1429094</td></tr>\n",
       "\t<tr><th scope=row>5</th><td>Control_R1</td><td>Control</td><td>P68104                     </td><td>13350056</td></tr>\n",
       "\t<tr><th scope=row>6</th><td>Control_R1</td><td>Control</td><td>P06733                     </td><td> 9269053</td></tr>\n",
       "</tbody>\n",
       "</table>\n"
      ],
      "text/latex": [
       "A data.frame: 6 × 4\n",
       "\\begin{tabular}{r|llll}\n",
       "  & ID & Treatment & Protein & Value\\\\\n",
       "  & <chr> & <chr> & <chr> & <dbl>\\\\\n",
       "\\hline\n",
       "\t1 & Control\\_R1 & Control & P00761                      & 48817715\\\\\n",
       "\t2 & Control\\_R1 & Control & P60709                      & 15596874\\\\\n",
       "\t3 & Control\\_R1 & Control & P0C0S8.Q96KK5.Q99878.Q9BTM1 &  2070354\\\\\n",
       "\t4 & Control\\_R1 & Control & P23527                      &  1429094\\\\\n",
       "\t5 & Control\\_R1 & Control & P68104                      & 13350056\\\\\n",
       "\t6 & Control\\_R1 & Control & P06733                      &  9269053\\\\\n",
       "\\end{tabular}\n"
      ],
      "text/markdown": [
       "\n",
       "A data.frame: 6 × 4\n",
       "\n",
       "| <!--/--> | ID &lt;chr&gt; | Treatment &lt;chr&gt; | Protein &lt;chr&gt; | Value &lt;dbl&gt; |\n",
       "|---|---|---|---|---|\n",
       "| 1 | Control_R1 | Control | P00761                      | 48817715 |\n",
       "| 2 | Control_R1 | Control | P60709                      | 15596874 |\n",
       "| 3 | Control_R1 | Control | P0C0S8.Q96KK5.Q99878.Q9BTM1 |  2070354 |\n",
       "| 4 | Control_R1 | Control | P23527                      |  1429094 |\n",
       "| 5 | Control_R1 | Control | P68104                      | 13350056 |\n",
       "| 6 | Control_R1 | Control | P06733                      |  9269053 |\n",
       "\n"
      ],
      "text/plain": [
       "  ID         Treatment Protein                     Value   \n",
       "1 Control_R1 Control   P00761                      48817715\n",
       "2 Control_R1 Control   P60709                      15596874\n",
       "3 Control_R1 Control   P0C0S8.Q96KK5.Q99878.Q9BTM1  2070354\n",
       "4 Control_R1 Control   P23527                       1429094\n",
       "5 Control_R1 Control   P68104                      13350056\n",
       "6 Control_R1 Control   P06733                       9269053"
      ]
     },
     "metadata": {},
     "output_type": "display_data"
    }
   ],
   "source": [
    "head(proteomics_df)"
   ]
  },
  {
   "cell_type": "code",
   "execution_count": 3,
   "id": "10f6c4cd-0bbd-4607-8576-8db5d2d5a7dd",
   "metadata": {},
   "outputs": [
    {
     "data": {
      "text/html": [
       "<table class=\"dataframe\">\n",
       "<caption>A data.frame: 6 × 5</caption>\n",
       "<thead>\n",
       "\t<tr><th></th><th scope=col>ID</th><th scope=col>Treatment</th><th scope=col>Protein</th><th scope=col>Value</th><th scope=col>log2Value</th></tr>\n",
       "\t<tr><th></th><th scope=col>&lt;chr&gt;</th><th scope=col>&lt;chr&gt;</th><th scope=col>&lt;chr&gt;</th><th scope=col>&lt;dbl&gt;</th><th scope=col>&lt;dbl&gt;</th></tr>\n",
       "</thead>\n",
       "<tbody>\n",
       "\t<tr><th scope=row>1</th><td>Control_R1</td><td>Control</td><td>P00761                     </td><td>48817715</td><td>25.54090</td></tr>\n",
       "\t<tr><th scope=row>2</th><td>Control_R1</td><td>Control</td><td>P60709                     </td><td>15596874</td><td>23.89475</td></tr>\n",
       "\t<tr><th scope=row>3</th><td>Control_R1</td><td>Control</td><td>P0C0S8.Q96KK5.Q99878.Q9BTM1</td><td> 2070354</td><td>20.98145</td></tr>\n",
       "\t<tr><th scope=row>4</th><td>Control_R1</td><td>Control</td><td>P23527                     </td><td> 1429094</td><td>20.44667</td></tr>\n",
       "\t<tr><th scope=row>5</th><td>Control_R1</td><td>Control</td><td>P68104                     </td><td>13350056</td><td>23.67034</td></tr>\n",
       "\t<tr><th scope=row>6</th><td>Control_R1</td><td>Control</td><td>P06733                     </td><td> 9269053</td><td>23.14399</td></tr>\n",
       "</tbody>\n",
       "</table>\n"
      ],
      "text/latex": [
       "A data.frame: 6 × 5\n",
       "\\begin{tabular}{r|lllll}\n",
       "  & ID & Treatment & Protein & Value & log2Value\\\\\n",
       "  & <chr> & <chr> & <chr> & <dbl> & <dbl>\\\\\n",
       "\\hline\n",
       "\t1 & Control\\_R1 & Control & P00761                      & 48817715 & 25.54090\\\\\n",
       "\t2 & Control\\_R1 & Control & P60709                      & 15596874 & 23.89475\\\\\n",
       "\t3 & Control\\_R1 & Control & P0C0S8.Q96KK5.Q99878.Q9BTM1 &  2070354 & 20.98145\\\\\n",
       "\t4 & Control\\_R1 & Control & P23527                      &  1429094 & 20.44667\\\\\n",
       "\t5 & Control\\_R1 & Control & P68104                      & 13350056 & 23.67034\\\\\n",
       "\t6 & Control\\_R1 & Control & P06733                      &  9269053 & 23.14399\\\\\n",
       "\\end{tabular}\n"
      ],
      "text/markdown": [
       "\n",
       "A data.frame: 6 × 5\n",
       "\n",
       "| <!--/--> | ID &lt;chr&gt; | Treatment &lt;chr&gt; | Protein &lt;chr&gt; | Value &lt;dbl&gt; | log2Value &lt;dbl&gt; |\n",
       "|---|---|---|---|---|---|\n",
       "| 1 | Control_R1 | Control | P00761                      | 48817715 | 25.54090 |\n",
       "| 2 | Control_R1 | Control | P60709                      | 15596874 | 23.89475 |\n",
       "| 3 | Control_R1 | Control | P0C0S8.Q96KK5.Q99878.Q9BTM1 |  2070354 | 20.98145 |\n",
       "| 4 | Control_R1 | Control | P23527                      |  1429094 | 20.44667 |\n",
       "| 5 | Control_R1 | Control | P68104                      | 13350056 | 23.67034 |\n",
       "| 6 | Control_R1 | Control | P06733                      |  9269053 | 23.14399 |\n",
       "\n"
      ],
      "text/plain": [
       "  ID         Treatment Protein                     Value    log2Value\n",
       "1 Control_R1 Control   P00761                      48817715 25.54090 \n",
       "2 Control_R1 Control   P60709                      15596874 23.89475 \n",
       "3 Control_R1 Control   P0C0S8.Q96KK5.Q99878.Q9BTM1  2070354 20.98145 \n",
       "4 Control_R1 Control   P23527                       1429094 20.44667 \n",
       "5 Control_R1 Control   P68104                      13350056 23.67034 \n",
       "6 Control_R1 Control   P06733                       9269053 23.14399 "
      ]
     },
     "metadata": {},
     "output_type": "display_data"
    }
   ],
   "source": [
    "# splitting dfs for analyses and adding a log2 value\n",
    "proteomics_df$log2Value = log2(proteomics_df$Value)\n",
    "\n",
    "cev_df = proteomics_df %>%\n",
    "    filter(Treatment == 'Control' | Treatment == 'CEV')\n",
    "pev_df = proteomics_df %>%\n",
    "    filter(Treatment == 'Control' | Treatment == 'PEV')\n",
    "pfas_df = proteomics_df %>%\n",
    "    filter(Treatment == 'Control' | Treatment == 'PFAS')\n",
    "pfas_cev_df = proteomics_df %>%\n",
    "    filter(Treatment == 'Control' | Treatment == 'PFAS.CEV')\n",
    "pfas_pev_df = proteomics_df %>%\n",
    "    filter(Treatment == 'Control' | Treatment == 'PFAS.PEV')\n",
    "\n",
    "head(cev_df)"
   ]
  },
  {
   "cell_type": "code",
   "execution_count": 4,
   "id": "7eeefd6c-3b42-4e6e-bcfb-4efe2e87f200",
   "metadata": {},
   "outputs": [
    {
     "data": {
      "text/html": [
       "<style>\n",
       ".list-inline {list-style: none; margin:0; padding: 0}\n",
       ".list-inline>li {display: inline-block}\n",
       ".list-inline>li:not(:last-child)::after {content: \"\\00b7\"; padding: 0 .5ex}\n",
       "</style>\n",
       "<ol class=list-inline><li>'Control'</li><li>'CEV'</li><li>'PEV'</li><li>'PFAS'</li><li>'PFAS.CEV'</li><li>'PFAS.PEV'</li></ol>\n"
      ],
      "text/latex": [
       "\\begin{enumerate*}\n",
       "\\item 'Control'\n",
       "\\item 'CEV'\n",
       "\\item 'PEV'\n",
       "\\item 'PFAS'\n",
       "\\item 'PFAS.CEV'\n",
       "\\item 'PFAS.PEV'\n",
       "\\end{enumerate*}\n"
      ],
      "text/markdown": [
       "1. 'Control'\n",
       "2. 'CEV'\n",
       "3. 'PEV'\n",
       "4. 'PFAS'\n",
       "5. 'PFAS.CEV'\n",
       "6. 'PFAS.PEV'\n",
       "\n",
       "\n"
      ],
      "text/plain": [
       "[1] \"Control\"  \"CEV\"      \"PEV\"      \"PFAS\"     \"PFAS.CEV\" \"PFAS.PEV\""
      ]
     },
     "metadata": {},
     "output_type": "display_data"
    }
   ],
   "source": [
    "unique(proteomics_df$Treatment)"
   ]
  },
  {
   "cell_type": "markdown",
   "id": "deaabe77-4f42-4b15-9c1b-e663d5a0a2f4",
   "metadata": {},
   "source": [
    "Typically, normality and homogeneity of variances would be tested for first, however a non-parametric test (Wilcoxon rank sum) will be used given the small sample size (n = 6) to determine if there are statistically significant distribution differences in control and treatment groups."
   ]
  },
  {
   "cell_type": "code",
   "execution_count": 5,
   "id": "18212ae1-b024-4764-b961-1822aafc4fde",
   "metadata": {},
   "outputs": [
    {
     "data": {
      "text/html": [
       "<table class=\"dataframe\">\n",
       "<caption>A grouped_df: 6 × 6</caption>\n",
       "<thead>\n",
       "\t<tr><th scope=col>Treatment</th><th scope=col>Protein</th><th scope=col>log2FC</th><th scope=col>Statistic</th><th scope=col>P Value</th><th scope=col>P Adj</th></tr>\n",
       "\t<tr><th scope=col>&lt;chr&gt;</th><th scope=col>&lt;chr&gt;</th><th scope=col>&lt;dbl&gt;</th><th scope=col>&lt;dbl&gt;</th><th scope=col>&lt;dbl&gt;</th><th scope=col>&lt;dbl&gt;</th></tr>\n",
       "</thead>\n",
       "<tbody>\n",
       "\t<tr><td>CEV</td><td>P00761                     </td><td>-0.22382871</td><td>22</td><td>0.5887446</td><td>1</td></tr>\n",
       "\t<tr><td>CEV</td><td>P60709                     </td><td> 0.03730957</td><td>15</td><td>0.6991342</td><td>1</td></tr>\n",
       "\t<tr><td>CEV</td><td>P0C0S8.Q96KK5.Q99878.Q9BTM1</td><td>-0.05177057</td><td>20</td><td>0.8181818</td><td>1</td></tr>\n",
       "\t<tr><td>CEV</td><td>P23527                     </td><td>-0.04699730</td><td>17</td><td>0.9372294</td><td>1</td></tr>\n",
       "\t<tr><td>CEV</td><td>P68104                     </td><td> 0.04958492</td><td>11</td><td>0.3095238</td><td>1</td></tr>\n",
       "\t<tr><td>CEV</td><td>P06733                     </td><td>-0.01960391</td><td>25</td><td>0.3095238</td><td>1</td></tr>\n",
       "</tbody>\n",
       "</table>\n"
      ],
      "text/latex": [
       "A grouped\\_df: 6 × 6\n",
       "\\begin{tabular}{llllll}\n",
       " Treatment & Protein & log2FC & Statistic & P Value & P Adj\\\\\n",
       " <chr> & <chr> & <dbl> & <dbl> & <dbl> & <dbl>\\\\\n",
       "\\hline\n",
       "\t CEV & P00761                      & -0.22382871 & 22 & 0.5887446 & 1\\\\\n",
       "\t CEV & P60709                      &  0.03730957 & 15 & 0.6991342 & 1\\\\\n",
       "\t CEV & P0C0S8.Q96KK5.Q99878.Q9BTM1 & -0.05177057 & 20 & 0.8181818 & 1\\\\\n",
       "\t CEV & P23527                      & -0.04699730 & 17 & 0.9372294 & 1\\\\\n",
       "\t CEV & P68104                      &  0.04958492 & 11 & 0.3095238 & 1\\\\\n",
       "\t CEV & P06733                      & -0.01960391 & 25 & 0.3095238 & 1\\\\\n",
       "\\end{tabular}\n"
      ],
      "text/markdown": [
       "\n",
       "A grouped_df: 6 × 6\n",
       "\n",
       "| Treatment &lt;chr&gt; | Protein &lt;chr&gt; | log2FC &lt;dbl&gt; | Statistic &lt;dbl&gt; | P Value &lt;dbl&gt; | P Adj &lt;dbl&gt; |\n",
       "|---|---|---|---|---|---|\n",
       "| CEV | P00761                      | -0.22382871 | 22 | 0.5887446 | 1 |\n",
       "| CEV | P60709                      |  0.03730957 | 15 | 0.6991342 | 1 |\n",
       "| CEV | P0C0S8.Q96KK5.Q99878.Q9BTM1 | -0.05177057 | 20 | 0.8181818 | 1 |\n",
       "| CEV | P23527                      | -0.04699730 | 17 | 0.9372294 | 1 |\n",
       "| CEV | P68104                      |  0.04958492 | 11 | 0.3095238 | 1 |\n",
       "| CEV | P06733                      | -0.01960391 | 25 | 0.3095238 | 1 |\n",
       "\n"
      ],
      "text/plain": [
       "  Treatment Protein                     log2FC      Statistic P Value   P Adj\n",
       "1 CEV       P00761                      -0.22382871 22        0.5887446 1    \n",
       "2 CEV       P60709                       0.03730957 15        0.6991342 1    \n",
       "3 CEV       P0C0S8.Q96KK5.Q99878.Q9BTM1 -0.05177057 20        0.8181818 1    \n",
       "4 CEV       P23527                      -0.04699730 17        0.9372294 1    \n",
       "5 CEV       P68104                       0.04958492 11        0.3095238 1    \n",
       "6 CEV       P06733                      -0.01960391 25        0.3095238 1    "
      ]
     },
     "metadata": {},
     "output_type": "display_data"
    }
   ],
   "source": [
    "wilcox_test_values = function(df){\n",
    "    # \"\"\"\n",
    "    # Running wilcoxon rank sum tests after filtering for set, treatment, exposure, and protein using a loop. \n",
    "    # Ultimately using this test to compare proteins (control vs. treatment).\n",
    "\n",
    "    # :param: subsetted dataframe, empty dataframe\n",
    "    # :output: a dataframe containing the treatment, protein, u stat, p value, p adj\n",
    "\n",
    "    # \"\"\"\n",
    "    proteins = unique(df$Protein)\n",
    "    treatments = unique(df$Treatment)[2:6]\n",
    "    \n",
    "    values_df = data.frame()\n",
    "    \n",
    "    # iterating through each tx and protein\n",
    "    for (i in 1:length(treatments)){\n",
    "        for(j in 1:length(proteins)){\n",
    "                # control df\n",
    "                control_df = df %>%\n",
    "                    filter(Treatment == 'Control', Protein == proteins[j])\n",
    "    \n",
    "                # treatment df\n",
    "                treatment_df = df %>%\n",
    "                    filter(Treatment == treatments[i], Protein == proteins[j])\n",
    "    \n",
    "                # wilcox test\n",
    "                wilcox_test = wilcox.test(control_df$log2Value, treatment_df$log2Value)\n",
    "                \n",
    "                # calculating FC to get directionality\n",
    "                FC = log2(mean(treatment_df$Value)/mean(control_df$Value))\n",
    "    \n",
    "                # contains tx, protein, u stat, and p value\n",
    "                values_vector = cbind(treatments[i], proteins[j], FC, wilcox_test$statistic, wilcox_test$p.value)\n",
    "                values_df = rbind(values_df, values_vector)\n",
    "         }\n",
    "    }\n",
    "  \n",
    "    # adding col names\n",
    "    colnames(values_df) = c(\"Treatment\", \"Protein\", \"log2FC\", \"Statistic\", \"P Value\")\n",
    "    \n",
    "   # calculating padj values\n",
    "    values_df = values_df %>%\n",
    "        group_by(Treatment) %>%\n",
    "        mutate(`P Adj` = p.adjust(as.numeric(as.character(`P Value`)), method = \"fdr\"))\n",
    "\n",
    "    values_df$log2FC = as.numeric(values_df$log2FC) \n",
    "    values_df$Statistic = as.numeric(values_df$Statistic)\n",
    "    values_df$`P Value` = as.numeric(values_df$`P Value`) \n",
    "    \n",
    "    return(values_df)\n",
    "}\n",
    "\n",
    "# calling fn\n",
    "wilcox_df = wilcox_test_values(proteomics_df)\n",
    "head(wilcox_df)"
   ]
  },
  {
   "cell_type": "code",
   "execution_count": 6,
   "id": "3f278f70-3e26-42cf-b934-8daf293b50c8",
   "metadata": {},
   "outputs": [
    {
     "data": {
      "text/html": [
       "<table class=\"dataframe\">\n",
       "<caption>A grouped_df: 3 × 2</caption>\n",
       "<thead>\n",
       "\t<tr><th scope=col>Treatment</th><th scope=col>n</th></tr>\n",
       "\t<tr><th scope=col>&lt;chr&gt;</th><th scope=col>&lt;int&gt;</th></tr>\n",
       "</thead>\n",
       "<tbody>\n",
       "\t<tr><td>PFAS    </td><td>4253</td></tr>\n",
       "\t<tr><td>PFAS.CEV</td><td>4858</td></tr>\n",
       "\t<tr><td>PFAS.PEV</td><td>4737</td></tr>\n",
       "</tbody>\n",
       "</table>\n"
      ],
      "text/latex": [
       "A grouped\\_df: 3 × 2\n",
       "\\begin{tabular}{ll}\n",
       " Treatment & n\\\\\n",
       " <chr> & <int>\\\\\n",
       "\\hline\n",
       "\t PFAS     & 4253\\\\\n",
       "\t PFAS.CEV & 4858\\\\\n",
       "\t PFAS.PEV & 4737\\\\\n",
       "\\end{tabular}\n"
      ],
      "text/markdown": [
       "\n",
       "A grouped_df: 3 × 2\n",
       "\n",
       "| Treatment &lt;chr&gt; | n &lt;int&gt; |\n",
       "|---|---|\n",
       "| PFAS     | 4253 |\n",
       "| PFAS.CEV | 4858 |\n",
       "| PFAS.PEV | 4737 |\n",
       "\n"
      ],
      "text/plain": [
       "  Treatment n   \n",
       "1 PFAS      4253\n",
       "2 PFAS.CEV  4858\n",
       "3 PFAS.PEV  4737"
      ]
     },
     "metadata": {},
     "output_type": "display_data"
    }
   ],
   "source": [
    "# determining number of sig genes based on p adj < 0.05\n",
    "wilcox_df %>%\n",
    "    group_by(Treatment) %>%\n",
    "    filter(`P Adj` < 0.05) %>%\n",
    "    count()"
   ]
  },
  {
   "cell_type": "code",
   "execution_count": 7,
   "id": "540c7993-cc2e-4756-b545-267040105ad9",
   "metadata": {},
   "outputs": [],
   "source": [
    "# exporting\n",
    "write.xlsx(wilcox_df, paste0(Output,\"/\", \"Proteomics_Statistical_Results\", cur_date, \".xlsx\"), \n",
    "           rowNames = FALSE)"
   ]
  },
  {
   "cell_type": "code",
   "execution_count": null,
   "id": "e8bf6113-acf4-4368-9f99-f64a79d862b0",
   "metadata": {},
   "outputs": [],
   "source": []
  }
 ],
 "metadata": {
  "kernelspec": {
   "display_name": "R",
   "language": "R",
   "name": "ir"
  },
  "language_info": {
   "codemirror_mode": "r",
   "file_extension": ".r",
   "mimetype": "text/x-r-source",
   "name": "R",
   "pygments_lexer": "r",
   "version": "4.3.1"
  }
 },
 "nbformat": 4,
 "nbformat_minor": 5
}
