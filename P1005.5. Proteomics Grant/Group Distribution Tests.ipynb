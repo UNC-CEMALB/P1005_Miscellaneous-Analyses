{
 "cells": [
  {
   "cell_type": "code",
   "execution_count": 1,
   "id": "85b194a5",
   "metadata": {},
   "outputs": [
    {
     "name": "stderr",
     "output_type": "stream",
     "text": [
      "── \u001b[1mAttaching core tidyverse packages\u001b[22m ──────────────────────── tidyverse 2.0.0 ──\n",
      "\u001b[32m✔\u001b[39m \u001b[34mdplyr    \u001b[39m 1.1.3     \u001b[32m✔\u001b[39m \u001b[34mreadr    \u001b[39m 2.1.4\n",
      "\u001b[32m✔\u001b[39m \u001b[34mforcats  \u001b[39m 1.0.0     \u001b[32m✔\u001b[39m \u001b[34mstringr  \u001b[39m 1.5.0\n",
      "\u001b[32m✔\u001b[39m \u001b[34mggplot2  \u001b[39m 3.4.3     \u001b[32m✔\u001b[39m \u001b[34mtibble   \u001b[39m 3.2.1\n",
      "\u001b[32m✔\u001b[39m \u001b[34mlubridate\u001b[39m 1.9.2     \u001b[32m✔\u001b[39m \u001b[34mtidyr    \u001b[39m 1.3.0\n",
      "\u001b[32m✔\u001b[39m \u001b[34mpurrr    \u001b[39m 1.0.2     \n",
      "── \u001b[1mConflicts\u001b[22m ────────────────────────────────────────── tidyverse_conflicts() ──\n",
      "\u001b[31m✖\u001b[39m \u001b[34mdplyr\u001b[39m::\u001b[32mfilter()\u001b[39m masks \u001b[34mstats\u001b[39m::filter()\n",
      "\u001b[31m✖\u001b[39m \u001b[34mdplyr\u001b[39m::\u001b[32mlag()\u001b[39m    masks \u001b[34mstats\u001b[39m::lag()\n",
      "\u001b[36mℹ\u001b[39m Use the conflicted package (\u001b[3m\u001b[34m<http://conflicted.r-lib.org/>\u001b[39m\u001b[23m) to force all conflicts to become errors\n",
      "\n",
      "Attaching package: ‘reshape2’\n",
      "\n",
      "\n",
      "The following object is masked from ‘package:tidyr’:\n",
      "\n",
      "    smiths\n",
      "\n",
      "\n",
      "Warning message in apply(proteomics_df[, 6:65], 2, as.numeric):\n",
      "“NAs introduced by coercion”\n",
      "Warning message in apply(proteomics_df[, 6:65], 2, as.numeric):\n",
      "“NAs introduced by coercion”\n",
      "Warning message in apply(proteomics_df[, 6:65], 2, as.numeric):\n",
      "“NAs introduced by coercion”\n"
     ]
    },
    {
     "data": {
      "text/html": [
       "<table class=\"dataframe\">\n",
       "<caption>A data.frame: 6 × 13</caption>\n",
       "<thead>\n",
       "\t<tr><th></th><th scope=col>Original_Subject_Number</th><th scope=col>Proteomic_Core_Subject_Number</th><th scope=col>Subject_Number</th><th scope=col>Subject_ID</th><th scope=col>Sex</th><th scope=col>Race</th><th scope=col>Ethnicity</th><th scope=col>Age</th><th scope=col>BMI</th><th scope=col>Asthma_Status</th><th scope=col>Responder_Status</th><th scope=col>Pre_Sputum_Neutrophilia</th><th scope=col>Post_Sputum_Neutrophilia</th></tr>\n",
       "\t<tr><th></th><th scope=col>&lt;dbl&gt;</th><th scope=col>&lt;dbl&gt;</th><th scope=col>&lt;dbl&gt;</th><th scope=col>&lt;chr&gt;</th><th scope=col>&lt;chr&gt;</th><th scope=col>&lt;chr&gt;</th><th scope=col>&lt;chr&gt;</th><th scope=col>&lt;dbl&gt;</th><th scope=col>&lt;dbl&gt;</th><th scope=col>&lt;chr&gt;</th><th scope=col>&lt;chr&gt;</th><th scope=col>&lt;chr&gt;</th><th scope=col>&lt;chr&gt;</th></tr>\n",
       "</thead>\n",
       "<tbody>\n",
       "\t<tr><th scope=row>1</th><td> 1</td><td> 1</td><td>1</td><td>NR_M_1</td><td>M</td><td>B </td><td>NH</td><td>37</td><td>26.0</td><td>NAS</td><td>NR</td><td>77.2 </td><td>74.489999999999995</td></tr>\n",
       "\t<tr><th scope=row>2</th><td> 6</td><td> 3</td><td>2</td><td>NR_F_2</td><td>F</td><td>W </td><td>NH</td><td>26</td><td>21.9</td><td>NAS</td><td>NR</td><td>22.6 </td><td>0                 </td></tr>\n",
       "\t<tr><th scope=row>3</th><td> 7</td><td> 5</td><td>3</td><td>R_M_3 </td><td>M</td><td>W </td><td>NH</td><td>40</td><td>29.8</td><td>NAS</td><td>R </td><td>13.26</td><td>41.85             </td></tr>\n",
       "\t<tr><th scope=row>4</th><td> 9</td><td> 7</td><td>4</td><td>R_M_4 </td><td>M</td><td>W </td><td>NH</td><td>25</td><td>18.8</td><td>NAS</td><td>R </td><td>50.3 </td><td>76.41             </td></tr>\n",
       "\t<tr><th scope=row>5</th><td>13</td><td> 9</td><td>5</td><td>R_F_5 </td><td>F</td><td>B </td><td>NH</td><td>34</td><td>34.5</td><td>NAS</td><td>R </td><td>20.23</td><td>37.96             </td></tr>\n",
       "\t<tr><th scope=row>6</th><td>15</td><td>11</td><td>6</td><td>R_M_6 </td><td>M</td><td>As</td><td>NH</td><td>19</td><td>20.8</td><td>NAS</td><td>R </td><td>47.77</td><td>66.67             </td></tr>\n",
       "</tbody>\n",
       "</table>\n"
      ],
      "text/latex": [
       "A data.frame: 6 × 13\n",
       "\\begin{tabular}{r|lllllllllllll}\n",
       "  & Original\\_Subject\\_Number & Proteomic\\_Core\\_Subject\\_Number & Subject\\_Number & Subject\\_ID & Sex & Race & Ethnicity & Age & BMI & Asthma\\_Status & Responder\\_Status & Pre\\_Sputum\\_Neutrophilia & Post\\_Sputum\\_Neutrophilia\\\\\n",
       "  & <dbl> & <dbl> & <dbl> & <chr> & <chr> & <chr> & <chr> & <dbl> & <dbl> & <chr> & <chr> & <chr> & <chr>\\\\\n",
       "\\hline\n",
       "\t1 &  1 &  1 & 1 & NR\\_M\\_1 & M & B  & NH & 37 & 26.0 & NAS & NR & 77.2  & 74.489999999999995\\\\\n",
       "\t2 &  6 &  3 & 2 & NR\\_F\\_2 & F & W  & NH & 26 & 21.9 & NAS & NR & 22.6  & 0                 \\\\\n",
       "\t3 &  7 &  5 & 3 & R\\_M\\_3  & M & W  & NH & 40 & 29.8 & NAS & R  & 13.26 & 41.85             \\\\\n",
       "\t4 &  9 &  7 & 4 & R\\_M\\_4  & M & W  & NH & 25 & 18.8 & NAS & R  & 50.3  & 76.41             \\\\\n",
       "\t5 & 13 &  9 & 5 & R\\_F\\_5  & F & B  & NH & 34 & 34.5 & NAS & R  & 20.23 & 37.96             \\\\\n",
       "\t6 & 15 & 11 & 6 & R\\_M\\_6  & M & As & NH & 19 & 20.8 & NAS & R  & 47.77 & 66.67             \\\\\n",
       "\\end{tabular}\n"
      ],
      "text/markdown": [
       "\n",
       "A data.frame: 6 × 13\n",
       "\n",
       "| <!--/--> | Original_Subject_Number &lt;dbl&gt; | Proteomic_Core_Subject_Number &lt;dbl&gt; | Subject_Number &lt;dbl&gt; | Subject_ID &lt;chr&gt; | Sex &lt;chr&gt; | Race &lt;chr&gt; | Ethnicity &lt;chr&gt; | Age &lt;dbl&gt; | BMI &lt;dbl&gt; | Asthma_Status &lt;chr&gt; | Responder_Status &lt;chr&gt; | Pre_Sputum_Neutrophilia &lt;chr&gt; | Post_Sputum_Neutrophilia &lt;chr&gt; |\n",
       "|---|---|---|---|---|---|---|---|---|---|---|---|---|---|\n",
       "| 1 |  1 |  1 | 1 | NR_M_1 | M | B  | NH | 37 | 26.0 | NAS | NR | 77.2  | 74.489999999999995 |\n",
       "| 2 |  6 |  3 | 2 | NR_F_2 | F | W  | NH | 26 | 21.9 | NAS | NR | 22.6  | 0                  |\n",
       "| 3 |  7 |  5 | 3 | R_M_3  | M | W  | NH | 40 | 29.8 | NAS | R  | 13.26 | 41.85              |\n",
       "| 4 |  9 |  7 | 4 | R_M_4  | M | W  | NH | 25 | 18.8 | NAS | R  | 50.3  | 76.41              |\n",
       "| 5 | 13 |  9 | 5 | R_F_5  | F | B  | NH | 34 | 34.5 | NAS | R  | 20.23 | 37.96              |\n",
       "| 6 | 15 | 11 | 6 | R_M_6  | M | As | NH | 19 | 20.8 | NAS | R  | 47.77 | 66.67              |\n",
       "\n"
      ],
      "text/plain": [
       "  Original_Subject_Number Proteomic_Core_Subject_Number Subject_Number\n",
       "1  1                       1                            1             \n",
       "2  6                       3                            2             \n",
       "3  7                       5                            3             \n",
       "4  9                       7                            4             \n",
       "5 13                       9                            5             \n",
       "6 15                      11                            6             \n",
       "  Subject_ID Sex Race Ethnicity Age BMI  Asthma_Status Responder_Status\n",
       "1 NR_M_1     M   B    NH        37  26.0 NAS           NR              \n",
       "2 NR_F_2     F   W    NH        26  21.9 NAS           NR              \n",
       "3 R_M_3      M   W    NH        40  29.8 NAS           R               \n",
       "4 R_M_4      M   W    NH        25  18.8 NAS           R               \n",
       "5 R_F_5      F   B    NH        34  34.5 NAS           R               \n",
       "6 R_M_6      M   As   NH        19  20.8 NAS           R               \n",
       "  Pre_Sputum_Neutrophilia Post_Sputum_Neutrophilia\n",
       "1 77.2                    74.489999999999995      \n",
       "2 22.6                    0                       \n",
       "3 13.26                   41.85                   \n",
       "4 50.3                    76.41                   \n",
       "5 20.23                   37.96                   \n",
       "6 47.77                   66.67                   "
      ]
     },
     "metadata": {},
     "output_type": "display_data"
    },
    {
     "data": {
      "text/html": [
       "<table class=\"dataframe\">\n",
       "<caption>A data.frame: 6 × 65</caption>\n",
       "<thead>\n",
       "\t<tr><th></th><th scope=col>Protein_Accession</th><th scope=col>Protein_Name</th><th scope=col>Gene_Name</th><th scope=col>Protein_Descriptions</th><th scope=col>Number_Unique_Peptides</th><th scope=col>NR_M_1.Post_1</th><th scope=col>NR_M_1.Pre_2</th><th scope=col>NR_F_2.Post_3</th><th scope=col>NR_F_2.Pre_4</th><th scope=col>R_M_3.Post_5</th><th scope=col>⋯</th><th scope=col>NR_F_26.Post_51</th><th scope=col>NR_F_26.Pre_52</th><th scope=col>NR_M_27.Post_53</th><th scope=col>NR_M_27.Pre_54</th><th scope=col>NR_M_28.Post_55</th><th scope=col>NR_M_28.Pre_56</th><th scope=col>NR_F_29.Post_57</th><th scope=col>NR_F_29.Pre_58</th><th scope=col>NR_M_30.Post_59</th><th scope=col>NR_M_30.Pre_60</th></tr>\n",
       "\t<tr><th></th><th scope=col>&lt;chr&gt;</th><th scope=col>&lt;chr&gt;</th><th scope=col>&lt;chr&gt;</th><th scope=col>&lt;chr&gt;</th><th scope=col>&lt;dbl&gt;</th><th scope=col>&lt;dbl&gt;</th><th scope=col>&lt;dbl&gt;</th><th scope=col>&lt;dbl&gt;</th><th scope=col>&lt;dbl&gt;</th><th scope=col>&lt;dbl&gt;</th><th scope=col>⋯</th><th scope=col>&lt;dbl&gt;</th><th scope=col>&lt;dbl&gt;</th><th scope=col>&lt;dbl&gt;</th><th scope=col>&lt;dbl&gt;</th><th scope=col>&lt;dbl&gt;</th><th scope=col>&lt;dbl&gt;</th><th scope=col>&lt;dbl&gt;</th><th scope=col>&lt;dbl&gt;</th><th scope=col>&lt;dbl&gt;</th><th scope=col>&lt;dbl&gt;</th></tr>\n",
       "</thead>\n",
       "<tbody>\n",
       "\t<tr><th scope=row>1</th><td>P61626              </td><td>LYSC_HUMAN                         </td><td>LYZ              </td><td>Lysozyme C                                        </td><td> 21</td><td>68766900</td><td>77360460</td><td> 97510540</td><td>61349770</td><td>69751540</td><td>⋯</td><td>NA</td><td>29564320</td><td>52770740</td><td>92673350</td><td>78747670</td><td>NA</td><td>52744850</td><td>62254460</td><td>126898500</td><td>74926060</td></tr>\n",
       "\t<tr><th scope=row>2</th><td>P01877              </td><td>IGHA2_HUMAN                        </td><td>IGHA2            </td><td>Immunoglobulin heavy constant alpha 2             </td><td> 26</td><td>22186750</td><td>39625340</td><td> 46473370</td><td>23963820</td><td>39971520</td><td>⋯</td><td>NA</td><td>21746510</td><td>20663020</td><td>34912700</td><td>26115250</td><td>NA</td><td>36867380</td><td>15831060</td><td>154372500</td><td>48185010</td></tr>\n",
       "\t<tr><th scope=row>3</th><td>P01876              </td><td>IGHA1_HUMAN                        </td><td>IGHA1            </td><td>Immunoglobulin heavy constant alpha 1             </td><td> 19</td><td>15777140</td><td>33683860</td><td> 33518360</td><td>24035330</td><td>31405400</td><td>⋯</td><td>NA</td><td>18806690</td><td>16857290</td><td>28826750</td><td>17092660</td><td>NA</td><td>27664970</td><td>14284090</td><td> 63727370</td><td>26176050</td></tr>\n",
       "\t<tr><th scope=row>4</th><td>P02768              </td><td>ALBU_HUMAN                         </td><td>ALB              </td><td>Albumin                                           </td><td>111</td><td>28212910</td><td>15515600</td><td> 13395080</td><td>19225470</td><td>41915780</td><td>⋯</td><td>NA</td><td>19471410</td><td> 9366254</td><td>27893000</td><td>15780580</td><td>NA</td><td>22491090</td><td>18820820</td><td> 22261030</td><td>34728060</td></tr>\n",
       "\t<tr><th scope=row>5</th><td>P0DTE7;P0DTE8;P0DUB6</td><td>AMY1B_HUMAN;AMY1C_HUMAN;AMY1A_HUMAN</td><td>AMY1B;AMY1C;AMY1A</td><td>Alpha-amylase 1B;Alpha-amylase 1C;Alpha-amylase 1A</td><td> 43</td><td>16069960</td><td> 3754483</td><td>388746100</td><td>20953490</td><td> 5696434</td><td>⋯</td><td>NA</td><td>11883850</td><td> 5799354</td><td>25845120</td><td>33562940</td><td>NA</td><td> 6053868</td><td> 6425425</td><td>  4049148</td><td> 6781004</td></tr>\n",
       "\t<tr><th scope=row>6</th><td>P01834              </td><td>IGKC_HUMAN                         </td><td>IGKC             </td><td>Immunoglobulin kappa constant                     </td><td>  3</td><td>11402010</td><td>18704190</td><td> 18756690</td><td>19384390</td><td>21055090</td><td>⋯</td><td>NA</td><td>11875440</td><td> 9094482</td><td> 9353938</td><td> 8898546</td><td>NA</td><td> 8115087</td><td> 7418536</td><td> 16145070</td><td>15644880</td></tr>\n",
       "</tbody>\n",
       "</table>\n"
      ],
      "text/latex": [
       "A data.frame: 6 × 65\n",
       "\\begin{tabular}{r|lllllllllllllllllllll}\n",
       "  & Protein\\_Accession & Protein\\_Name & Gene\\_Name & Protein\\_Descriptions & Number\\_Unique\\_Peptides & NR\\_M\\_1.Post\\_1 & NR\\_M\\_1.Pre\\_2 & NR\\_F\\_2.Post\\_3 & NR\\_F\\_2.Pre\\_4 & R\\_M\\_3.Post\\_5 & ⋯ & NR\\_F\\_26.Post\\_51 & NR\\_F\\_26.Pre\\_52 & NR\\_M\\_27.Post\\_53 & NR\\_M\\_27.Pre\\_54 & NR\\_M\\_28.Post\\_55 & NR\\_M\\_28.Pre\\_56 & NR\\_F\\_29.Post\\_57 & NR\\_F\\_29.Pre\\_58 & NR\\_M\\_30.Post\\_59 & NR\\_M\\_30.Pre\\_60\\\\\n",
       "  & <chr> & <chr> & <chr> & <chr> & <dbl> & <dbl> & <dbl> & <dbl> & <dbl> & <dbl> & ⋯ & <dbl> & <dbl> & <dbl> & <dbl> & <dbl> & <dbl> & <dbl> & <dbl> & <dbl> & <dbl>\\\\\n",
       "\\hline\n",
       "\t1 & P61626               & LYSC\\_HUMAN                          & LYZ               & Lysozyme C                                         &  21 & 68766900 & 77360460 &  97510540 & 61349770 & 69751540 & ⋯ & NA & 29564320 & 52770740 & 92673350 & 78747670 & NA & 52744850 & 62254460 & 126898500 & 74926060\\\\\n",
       "\t2 & P01877               & IGHA2\\_HUMAN                         & IGHA2             & Immunoglobulin heavy constant alpha 2              &  26 & 22186750 & 39625340 &  46473370 & 23963820 & 39971520 & ⋯ & NA & 21746510 & 20663020 & 34912700 & 26115250 & NA & 36867380 & 15831060 & 154372500 & 48185010\\\\\n",
       "\t3 & P01876               & IGHA1\\_HUMAN                         & IGHA1             & Immunoglobulin heavy constant alpha 1              &  19 & 15777140 & 33683860 &  33518360 & 24035330 & 31405400 & ⋯ & NA & 18806690 & 16857290 & 28826750 & 17092660 & NA & 27664970 & 14284090 &  63727370 & 26176050\\\\\n",
       "\t4 & P02768               & ALBU\\_HUMAN                          & ALB               & Albumin                                            & 111 & 28212910 & 15515600 &  13395080 & 19225470 & 41915780 & ⋯ & NA & 19471410 &  9366254 & 27893000 & 15780580 & NA & 22491090 & 18820820 &  22261030 & 34728060\\\\\n",
       "\t5 & P0DTE7;P0DTE8;P0DUB6 & AMY1B\\_HUMAN;AMY1C\\_HUMAN;AMY1A\\_HUMAN & AMY1B;AMY1C;AMY1A & Alpha-amylase 1B;Alpha-amylase 1C;Alpha-amylase 1A &  43 & 16069960 &  3754483 & 388746100 & 20953490 &  5696434 & ⋯ & NA & 11883850 &  5799354 & 25845120 & 33562940 & NA &  6053868 &  6425425 &   4049148 &  6781004\\\\\n",
       "\t6 & P01834               & IGKC\\_HUMAN                          & IGKC              & Immunoglobulin kappa constant                      &   3 & 11402010 & 18704190 &  18756690 & 19384390 & 21055090 & ⋯ & NA & 11875440 &  9094482 &  9353938 &  8898546 & NA &  8115087 &  7418536 &  16145070 & 15644880\\\\\n",
       "\\end{tabular}\n"
      ],
      "text/markdown": [
       "\n",
       "A data.frame: 6 × 65\n",
       "\n",
       "| <!--/--> | Protein_Accession &lt;chr&gt; | Protein_Name &lt;chr&gt; | Gene_Name &lt;chr&gt; | Protein_Descriptions &lt;chr&gt; | Number_Unique_Peptides &lt;dbl&gt; | NR_M_1.Post_1 &lt;dbl&gt; | NR_M_1.Pre_2 &lt;dbl&gt; | NR_F_2.Post_3 &lt;dbl&gt; | NR_F_2.Pre_4 &lt;dbl&gt; | R_M_3.Post_5 &lt;dbl&gt; | ⋯ ⋯ | NR_F_26.Post_51 &lt;dbl&gt; | NR_F_26.Pre_52 &lt;dbl&gt; | NR_M_27.Post_53 &lt;dbl&gt; | NR_M_27.Pre_54 &lt;dbl&gt; | NR_M_28.Post_55 &lt;dbl&gt; | NR_M_28.Pre_56 &lt;dbl&gt; | NR_F_29.Post_57 &lt;dbl&gt; | NR_F_29.Pre_58 &lt;dbl&gt; | NR_M_30.Post_59 &lt;dbl&gt; | NR_M_30.Pre_60 &lt;dbl&gt; |\n",
       "|---|---|---|---|---|---|---|---|---|---|---|---|---|---|---|---|---|---|---|---|---|---|\n",
       "| 1 | P61626               | LYSC_HUMAN                          | LYZ               | Lysozyme C                                         |  21 | 68766900 | 77360460 |  97510540 | 61349770 | 69751540 | ⋯ | NA | 29564320 | 52770740 | 92673350 | 78747670 | NA | 52744850 | 62254460 | 126898500 | 74926060 |\n",
       "| 2 | P01877               | IGHA2_HUMAN                         | IGHA2             | Immunoglobulin heavy constant alpha 2              |  26 | 22186750 | 39625340 |  46473370 | 23963820 | 39971520 | ⋯ | NA | 21746510 | 20663020 | 34912700 | 26115250 | NA | 36867380 | 15831060 | 154372500 | 48185010 |\n",
       "| 3 | P01876               | IGHA1_HUMAN                         | IGHA1             | Immunoglobulin heavy constant alpha 1              |  19 | 15777140 | 33683860 |  33518360 | 24035330 | 31405400 | ⋯ | NA | 18806690 | 16857290 | 28826750 | 17092660 | NA | 27664970 | 14284090 |  63727370 | 26176050 |\n",
       "| 4 | P02768               | ALBU_HUMAN                          | ALB               | Albumin                                            | 111 | 28212910 | 15515600 |  13395080 | 19225470 | 41915780 | ⋯ | NA | 19471410 |  9366254 | 27893000 | 15780580 | NA | 22491090 | 18820820 |  22261030 | 34728060 |\n",
       "| 5 | P0DTE7;P0DTE8;P0DUB6 | AMY1B_HUMAN;AMY1C_HUMAN;AMY1A_HUMAN | AMY1B;AMY1C;AMY1A | Alpha-amylase 1B;Alpha-amylase 1C;Alpha-amylase 1A |  43 | 16069960 |  3754483 | 388746100 | 20953490 |  5696434 | ⋯ | NA | 11883850 |  5799354 | 25845120 | 33562940 | NA |  6053868 |  6425425 |   4049148 |  6781004 |\n",
       "| 6 | P01834               | IGKC_HUMAN                          | IGKC              | Immunoglobulin kappa constant                      |   3 | 11402010 | 18704190 |  18756690 | 19384390 | 21055090 | ⋯ | NA | 11875440 |  9094482 |  9353938 |  8898546 | NA |  8115087 |  7418536 |  16145070 | 15644880 |\n",
       "\n"
      ],
      "text/plain": [
       "  Protein_Accession    Protein_Name                        Gene_Name        \n",
       "1 P61626               LYSC_HUMAN                          LYZ              \n",
       "2 P01877               IGHA2_HUMAN                         IGHA2            \n",
       "3 P01876               IGHA1_HUMAN                         IGHA1            \n",
       "4 P02768               ALBU_HUMAN                          ALB              \n",
       "5 P0DTE7;P0DTE8;P0DUB6 AMY1B_HUMAN;AMY1C_HUMAN;AMY1A_HUMAN AMY1B;AMY1C;AMY1A\n",
       "6 P01834               IGKC_HUMAN                          IGKC             \n",
       "  Protein_Descriptions                               Number_Unique_Peptides\n",
       "1 Lysozyme C                                          21                   \n",
       "2 Immunoglobulin heavy constant alpha 2               26                   \n",
       "3 Immunoglobulin heavy constant alpha 1               19                   \n",
       "4 Albumin                                            111                   \n",
       "5 Alpha-amylase 1B;Alpha-amylase 1C;Alpha-amylase 1A  43                   \n",
       "6 Immunoglobulin kappa constant                        3                   \n",
       "  NR_M_1.Post_1 NR_M_1.Pre_2 NR_F_2.Post_3 NR_F_2.Pre_4 R_M_3.Post_5 ⋯\n",
       "1 68766900      77360460      97510540     61349770     69751540     ⋯\n",
       "2 22186750      39625340      46473370     23963820     39971520     ⋯\n",
       "3 15777140      33683860      33518360     24035330     31405400     ⋯\n",
       "4 28212910      15515600      13395080     19225470     41915780     ⋯\n",
       "5 16069960       3754483     388746100     20953490      5696434     ⋯\n",
       "6 11402010      18704190      18756690     19384390     21055090     ⋯\n",
       "  NR_F_26.Post_51 NR_F_26.Pre_52 NR_M_27.Post_53 NR_M_27.Pre_54 NR_M_28.Post_55\n",
       "1 NA              29564320       52770740        92673350       78747670       \n",
       "2 NA              21746510       20663020        34912700       26115250       \n",
       "3 NA              18806690       16857290        28826750       17092660       \n",
       "4 NA              19471410        9366254        27893000       15780580       \n",
       "5 NA              11883850        5799354        25845120       33562940       \n",
       "6 NA              11875440        9094482         9353938        8898546       \n",
       "  NR_M_28.Pre_56 NR_F_29.Post_57 NR_F_29.Pre_58 NR_M_30.Post_59 NR_M_30.Pre_60\n",
       "1 NA             52744850        62254460       126898500       74926060      \n",
       "2 NA             36867380        15831060       154372500       48185010      \n",
       "3 NA             27664970        14284090        63727370       26176050      \n",
       "4 NA             22491090        18820820        22261030       34728060      \n",
       "5 NA              6053868         6425425         4049148        6781004      \n",
       "6 NA              8115087         7418536        16145070       15644880      "
      ]
     },
     "metadata": {},
     "output_type": "display_data"
    }
   ],
   "source": [
    "Output = '/Users/alexis/Library/CloudStorage/OneDrive-UniversityofNorthCarolinaatChapelHill/CEMALB_DataAnalysisPM/Projects/P1007. Sputum Proteomics/P1007.3. Analyses/P1007.3.2. Distribution Tests/Output'\n",
    "cur_date = \"091424\"\n",
    "\n",
    "library(readxl)\n",
    "library(openxlsx)\n",
    "library(tidyverse)\n",
    "library(reshape2)\n",
    "\n",
    "#reading in file\n",
    "demographics_df = data.frame(read_excel(\"Input/SubjectInfo_091324.xlsx\", sheet = 2))\n",
    "proteomics_df = data.frame(read_excel(\"Input/Processed_Data_091324.xlsx\", sheet = 2))\n",
    "proteomics_df[,6:65] = apply(proteomics_df[,6:65], 2, as.numeric)\n",
    "\n",
    "head(demographics_df)\n",
    "head(proteomics_df)"
   ]
  },
  {
   "cell_type": "code",
   "execution_count": 2,
   "id": "9033f135",
   "metadata": {},
   "outputs": [
    {
     "name": "stderr",
     "output_type": "stream",
     "text": [
      "\u001b[1m\u001b[22mJoining with `by = join_by(Subject_ID)`\n"
     ]
    },
    {
     "data": {
      "text/html": [
       "<table class=\"dataframe\">\n",
       "<caption>A tibble: 6 × 12</caption>\n",
       "<thead>\n",
       "\t<tr><th scope=col>Protein_Accession</th><th scope=col>Subject_ID</th><th scope=col>Time_Point</th><th scope=col>Sample_Number</th><th scope=col>Intensity</th><th scope=col>Sex</th><th scope=col>Race</th><th scope=col>Ethnicity</th><th scope=col>Age</th><th scope=col>BMI</th><th scope=col>Asthma_Status</th><th scope=col>Responder_Status</th></tr>\n",
       "\t<tr><th scope=col>&lt;chr&gt;</th><th scope=col>&lt;chr&gt;</th><th scope=col>&lt;chr&gt;</th><th scope=col>&lt;chr&gt;</th><th scope=col>&lt;dbl&gt;</th><th scope=col>&lt;chr&gt;</th><th scope=col>&lt;chr&gt;</th><th scope=col>&lt;chr&gt;</th><th scope=col>&lt;dbl&gt;</th><th scope=col>&lt;dbl&gt;</th><th scope=col>&lt;chr&gt;</th><th scope=col>&lt;chr&gt;</th></tr>\n",
       "</thead>\n",
       "<tbody>\n",
       "\t<tr><td>P61626</td><td>NR_M_1</td><td>Post</td><td>1</td><td>68766900</td><td>M</td><td>B</td><td>NH</td><td>37</td><td>26.0</td><td>NAS</td><td>NR</td></tr>\n",
       "\t<tr><td>P61626</td><td>NR_M_1</td><td>Pre </td><td>2</td><td>77360460</td><td>M</td><td>B</td><td>NH</td><td>37</td><td>26.0</td><td>NAS</td><td>NR</td></tr>\n",
       "\t<tr><td>P61626</td><td>NR_F_2</td><td>Post</td><td>3</td><td>97510540</td><td>F</td><td>W</td><td>NH</td><td>26</td><td>21.9</td><td>NAS</td><td>NR</td></tr>\n",
       "\t<tr><td>P61626</td><td>NR_F_2</td><td>Pre </td><td>4</td><td>61349770</td><td>F</td><td>W</td><td>NH</td><td>26</td><td>21.9</td><td>NAS</td><td>NR</td></tr>\n",
       "\t<tr><td>P61626</td><td>R_M_3 </td><td>Post</td><td>5</td><td>69751540</td><td>M</td><td>W</td><td>NH</td><td>40</td><td>29.8</td><td>NAS</td><td>R </td></tr>\n",
       "\t<tr><td>P61626</td><td>R_M_3 </td><td>Pre </td><td>6</td><td>35046090</td><td>M</td><td>W</td><td>NH</td><td>40</td><td>29.8</td><td>NAS</td><td>R </td></tr>\n",
       "</tbody>\n",
       "</table>\n"
      ],
      "text/latex": [
       "A tibble: 6 × 12\n",
       "\\begin{tabular}{llllllllllll}\n",
       " Protein\\_Accession & Subject\\_ID & Time\\_Point & Sample\\_Number & Intensity & Sex & Race & Ethnicity & Age & BMI & Asthma\\_Status & Responder\\_Status\\\\\n",
       " <chr> & <chr> & <chr> & <chr> & <dbl> & <chr> & <chr> & <chr> & <dbl> & <dbl> & <chr> & <chr>\\\\\n",
       "\\hline\n",
       "\t P61626 & NR\\_M\\_1 & Post & 1 & 68766900 & M & B & NH & 37 & 26.0 & NAS & NR\\\\\n",
       "\t P61626 & NR\\_M\\_1 & Pre  & 2 & 77360460 & M & B & NH & 37 & 26.0 & NAS & NR\\\\\n",
       "\t P61626 & NR\\_F\\_2 & Post & 3 & 97510540 & F & W & NH & 26 & 21.9 & NAS & NR\\\\\n",
       "\t P61626 & NR\\_F\\_2 & Pre  & 4 & 61349770 & F & W & NH & 26 & 21.9 & NAS & NR\\\\\n",
       "\t P61626 & R\\_M\\_3  & Post & 5 & 69751540 & M & W & NH & 40 & 29.8 & NAS & R \\\\\n",
       "\t P61626 & R\\_M\\_3  & Pre  & 6 & 35046090 & M & W & NH & 40 & 29.8 & NAS & R \\\\\n",
       "\\end{tabular}\n"
      ],
      "text/markdown": [
       "\n",
       "A tibble: 6 × 12\n",
       "\n",
       "| Protein_Accession &lt;chr&gt; | Subject_ID &lt;chr&gt; | Time_Point &lt;chr&gt; | Sample_Number &lt;chr&gt; | Intensity &lt;dbl&gt; | Sex &lt;chr&gt; | Race &lt;chr&gt; | Ethnicity &lt;chr&gt; | Age &lt;dbl&gt; | BMI &lt;dbl&gt; | Asthma_Status &lt;chr&gt; | Responder_Status &lt;chr&gt; |\n",
       "|---|---|---|---|---|---|---|---|---|---|---|---|\n",
       "| P61626 | NR_M_1 | Post | 1 | 68766900 | M | B | NH | 37 | 26.0 | NAS | NR |\n",
       "| P61626 | NR_M_1 | Pre  | 2 | 77360460 | M | B | NH | 37 | 26.0 | NAS | NR |\n",
       "| P61626 | NR_F_2 | Post | 3 | 97510540 | F | W | NH | 26 | 21.9 | NAS | NR |\n",
       "| P61626 | NR_F_2 | Pre  | 4 | 61349770 | F | W | NH | 26 | 21.9 | NAS | NR |\n",
       "| P61626 | R_M_3  | Post | 5 | 69751540 | M | W | NH | 40 | 29.8 | NAS | R  |\n",
       "| P61626 | R_M_3  | Pre  | 6 | 35046090 | M | W | NH | 40 | 29.8 | NAS | R  |\n",
       "\n"
      ],
      "text/plain": [
       "  Protein_Accession Subject_ID Time_Point Sample_Number Intensity Sex Race\n",
       "1 P61626            NR_M_1     Post       1             68766900  M   B   \n",
       "2 P61626            NR_M_1     Pre        2             77360460  M   B   \n",
       "3 P61626            NR_F_2     Post       3             97510540  F   W   \n",
       "4 P61626            NR_F_2     Pre        4             61349770  F   W   \n",
       "5 P61626            R_M_3      Post       5             69751540  M   W   \n",
       "6 P61626            R_M_3      Pre        6             35046090  M   W   \n",
       "  Ethnicity Age BMI  Asthma_Status Responder_Status\n",
       "1 NH        37  26.0 NAS           NR              \n",
       "2 NH        37  26.0 NAS           NR              \n",
       "3 NH        26  21.9 NAS           NR              \n",
       "4 NH        26  21.9 NAS           NR              \n",
       "5 NH        40  29.8 NAS           R               \n",
       "6 NH        40  29.8 NAS           R               "
      ]
     },
     "metadata": {},
     "output_type": "display_data"
    }
   ],
   "source": [
    "# creating a vector with the subject ids of the outliers\n",
    "outlier_subjects = c(\"R_M_8\", \"NR_F_26\", \"NR_M_28\")\n",
    "\n",
    "# creating a variable that does the opposite of '%in%'\n",
    "`%notin%` = Negate(`%in%`)\n",
    "\n",
    "longer_proteomics_df = proteomics_df[,c(1,6:65)] %>%\n",
    "    pivot_longer(cols = 2:61, names_to = \"Subject_ID.Sample_ID\", values_to = \"Intensity\") %>%   \n",
    "    # just want a column that specifies the exposure separately\n",
    "    separate(Subject_ID.Sample_ID, c(\"Subject_ID\", \"Sample_ID\"), sep = \"\\\\.\") %>%  \n",
    "    inner_join(demographics_df[,4:11]) %>%\n",
    "    separate(Sample_ID, c(\"Time_Point\", \"Sample_Number\"), sep = \"_\") %>%\n",
    "    # filtering for subjects not in the outlier_subjects vector\n",
    "    filter(Subject_ID %notin% outlier_subjects) \n",
    "\n",
    "head(longer_proteomics_df)"
   ]
  },
  {
   "cell_type": "code",
   "execution_count": 3,
   "id": "60150332-80bc-4288-aef8-39cad2d97422",
   "metadata": {},
   "outputs": [],
   "source": [
    "# creating additional dataframes that are subsetted by sex and asthma status\n",
    "sex_df = longer_proteomics_df %>%\n",
    "    group_by(Sex) %>%\n",
    "    group_split()\n",
    "\n",
    "females_df = sex_df[[1]]\n",
    "males_df = sex_df[[2]]\n",
    "\n",
    "asthma_df = longer_proteomics_df %>%\n",
    "    group_by(Asthma_Status) %>%\n",
    "    group_split()\n",
    "\n",
    "asthmatic_df = asthma_df[[1]]\n",
    "nonasthmatic_df = asthma_df[[2]]"
   ]
  },
  {
   "cell_type": "code",
   "execution_count": 4,
   "id": "99dbf7e0-39e0-4aef-a37c-a4ea8346cf43",
   "metadata": {},
   "outputs": [],
   "source": [
    "proteins = unique(longer_proteomics_df$Protein_Accession)\n",
    "\n",
    "values_df = data.frame()\n",
    "#create an empty dataframe for the loop function to place values into\n",
    "\n",
    "timepoint_t_tests = function(dataframe, stratification){\n",
    "    \n",
    "    for (i in 1:length(proteins)){\n",
    "        \n",
    "         # pre df\n",
    "        pre_df = dataframe %>%\n",
    "            filter(Time_Point == \"Pre\", Protein_Accession == proteins[i])\n",
    "        # post df\n",
    "        post_df = dataframe %>%\n",
    "            filter(Time_Point == \"Post\", Protein_Accession == proteins[i])\n",
    "    \n",
    "        # t test\n",
    "        t_test = t.test(pre_df$Intensity, post_df$Intensity)\n",
    "        \n",
    "        # calculating log2FC to get directionality\n",
    "        FC = log2(mean(pre_df$Intensity)/mean(post_df$Intensity))\n",
    "    \n",
    "        # contains stratification, protein, u stat, and p value\n",
    "        values_vector = cbind(stratification, proteins[i], FC, t_test$statistic, t_test$p.value)\n",
    "        values_df = rbind(values_df, values_vector)\n",
    "    }    \n",
    "    \n",
    "    colnames(values_df) = c(\"Stratification\", \"Protein_Accession\", \"log2FC\", \"Statistic\", 'P Value')\n",
    "    values_df$`P Adj` <- p.adjust(values_df$`P Value`, method = \"fdr\")\n",
    "\n",
    "    return(values_df)\n",
    "}\n",
    "\n",
    "# calling fn\n",
    "timepoint_results_df = timepoint_t_tests(longer_proteomics_df, \"None\")\n",
    "males_results_df = timepoint_t_tests(males_df, \"Male\")\n",
    "females_results_df = timepoint_t_tests(females_df, \"Female\")\n",
    "asthmatic_results_df = timepoint_t_tests(asthmatic_df, \"Asthmatic\")\n",
    "nonasthmatic_results_df = timepoint_t_tests(nonasthmatic_df, \"Nonasthmatic\")"
   ]
  },
  {
   "cell_type": "code",
   "execution_count": 5,
   "id": "3abf139d",
   "metadata": {},
   "outputs": [
    {
     "data": {
      "text/html": [
       "<table class=\"dataframe\">\n",
       "<caption>A data.frame: 6 × 6</caption>\n",
       "<thead>\n",
       "\t<tr><th></th><th scope=col>Stratification</th><th scope=col>Protein_Accession</th><th scope=col>log2FC</th><th scope=col>Statistic</th><th scope=col>P Value</th><th scope=col>P Adj</th></tr>\n",
       "\t<tr><th></th><th scope=col>&lt;chr&gt;</th><th scope=col>&lt;chr&gt;</th><th scope=col>&lt;dbl&gt;</th><th scope=col>&lt;dbl&gt;</th><th scope=col>&lt;dbl&gt;</th><th scope=col>&lt;dbl&gt;</th></tr>\n",
       "</thead>\n",
       "<tbody>\n",
       "\t<tr><th scope=row>t</th><td>None</td><td>P61626              </td><td>-0.12479838</td><td>-0.6161562</td><td>0.5405340</td><td>0.9995849</td></tr>\n",
       "\t<tr><th scope=row>t1</th><td>None</td><td>P01877              </td><td>-0.37343439</td><td>-1.2121748</td><td>0.2311457</td><td>0.9995849</td></tr>\n",
       "\t<tr><th scope=row>t2</th><td>None</td><td>P01876              </td><td>-0.30109842</td><td>-1.2156616</td><td>0.2297277</td><td>0.9995849</td></tr>\n",
       "\t<tr><th scope=row>t3</th><td>None</td><td>P02768              </td><td> 0.06815574</td><td> 0.2806047</td><td>0.7801479</td><td>0.9995849</td></tr>\n",
       "\t<tr><th scope=row>t4</th><td>None</td><td>P0DTE7;P0DTE8;P0DUB6</td><td>-1.03143492</td><td>-0.9768769</td><td>0.3361814</td><td>0.9995849</td></tr>\n",
       "\t<tr><th scope=row>t5</th><td>None</td><td>P01834              </td><td>-0.16397402</td><td>-0.8461956</td><td>0.4017529</td><td>0.9995849</td></tr>\n",
       "</tbody>\n",
       "</table>\n"
      ],
      "text/latex": [
       "A data.frame: 6 × 6\n",
       "\\begin{tabular}{r|llllll}\n",
       "  & Stratification & Protein\\_Accession & log2FC & Statistic & P Value & P Adj\\\\\n",
       "  & <chr> & <chr> & <dbl> & <dbl> & <dbl> & <dbl>\\\\\n",
       "\\hline\n",
       "\tt & None & P61626               & -0.12479838 & -0.6161562 & 0.5405340 & 0.9995849\\\\\n",
       "\tt1 & None & P01877               & -0.37343439 & -1.2121748 & 0.2311457 & 0.9995849\\\\\n",
       "\tt2 & None & P01876               & -0.30109842 & -1.2156616 & 0.2297277 & 0.9995849\\\\\n",
       "\tt3 & None & P02768               &  0.06815574 &  0.2806047 & 0.7801479 & 0.9995849\\\\\n",
       "\tt4 & None & P0DTE7;P0DTE8;P0DUB6 & -1.03143492 & -0.9768769 & 0.3361814 & 0.9995849\\\\\n",
       "\tt5 & None & P01834               & -0.16397402 & -0.8461956 & 0.4017529 & 0.9995849\\\\\n",
       "\\end{tabular}\n"
      ],
      "text/markdown": [
       "\n",
       "A data.frame: 6 × 6\n",
       "\n",
       "| <!--/--> | Stratification &lt;chr&gt; | Protein_Accession &lt;chr&gt; | log2FC &lt;dbl&gt; | Statistic &lt;dbl&gt; | P Value &lt;dbl&gt; | P Adj &lt;dbl&gt; |\n",
       "|---|---|---|---|---|---|---|\n",
       "| t | None | P61626               | -0.12479838 | -0.6161562 | 0.5405340 | 0.9995849 |\n",
       "| t1 | None | P01877               | -0.37343439 | -1.2121748 | 0.2311457 | 0.9995849 |\n",
       "| t2 | None | P01876               | -0.30109842 | -1.2156616 | 0.2297277 | 0.9995849 |\n",
       "| t3 | None | P02768               |  0.06815574 |  0.2806047 | 0.7801479 | 0.9995849 |\n",
       "| t4 | None | P0DTE7;P0DTE8;P0DUB6 | -1.03143492 | -0.9768769 | 0.3361814 | 0.9995849 |\n",
       "| t5 | None | P01834               | -0.16397402 | -0.8461956 | 0.4017529 | 0.9995849 |\n",
       "\n"
      ],
      "text/plain": [
       "   Stratification Protein_Accession    log2FC      Statistic  P Value  \n",
       "t  None           P61626               -0.12479838 -0.6161562 0.5405340\n",
       "t1 None           P01877               -0.37343439 -1.2121748 0.2311457\n",
       "t2 None           P01876               -0.30109842 -1.2156616 0.2297277\n",
       "t3 None           P02768                0.06815574  0.2806047 0.7801479\n",
       "t4 None           P0DTE7;P0DTE8;P0DUB6 -1.03143492 -0.9768769 0.3361814\n",
       "t5 None           P01834               -0.16397402 -0.8461956 0.4017529\n",
       "   P Adj    \n",
       "t  0.9995849\n",
       "t1 0.9995849\n",
       "t2 0.9995849\n",
       "t3 0.9995849\n",
       "t4 0.9995849\n",
       "t5 0.9995849"
      ]
     },
     "metadata": {},
     "output_type": "display_data"
    }
   ],
   "source": [
    "# creating 1 df\n",
    "all_results_df = rbind(timepoint_results_df, males_results_df, females_results_df, asthmatic_results_df, nonasthmatic_results_df)\n",
    "all_results_df[,3:5] = apply(all_results_df[,3:5], 2, as.numeric)\n",
    "\n",
    "head(all_results_df)"
   ]
  },
  {
   "cell_type": "code",
   "execution_count": 6,
   "id": "327b1e21-d1bf-48b1-b5a2-1611324442e0",
   "metadata": {},
   "outputs": [
    {
     "data": {
      "text/html": [
       "<table class=\"dataframe\">\n",
       "<caption>A grouped_df: 5 × 2</caption>\n",
       "<thead>\n",
       "\t<tr><th scope=col>Stratification</th><th scope=col>n</th></tr>\n",
       "\t<tr><th scope=col>&lt;chr&gt;</th><th scope=col>&lt;int&gt;</th></tr>\n",
       "</thead>\n",
       "<tbody>\n",
       "\t<tr><td>Asthmatic   </td><td> 7</td></tr>\n",
       "\t<tr><td>Female      </td><td>15</td></tr>\n",
       "\t<tr><td>Male        </td><td> 6</td></tr>\n",
       "\t<tr><td>Nonasthmatic</td><td>39</td></tr>\n",
       "\t<tr><td>None        </td><td>20</td></tr>\n",
       "</tbody>\n",
       "</table>\n"
      ],
      "text/latex": [
       "A grouped\\_df: 5 × 2\n",
       "\\begin{tabular}{ll}\n",
       " Stratification & n\\\\\n",
       " <chr> & <int>\\\\\n",
       "\\hline\n",
       "\t Asthmatic    &  7\\\\\n",
       "\t Female       & 15\\\\\n",
       "\t Male         &  6\\\\\n",
       "\t Nonasthmatic & 39\\\\\n",
       "\t None         & 20\\\\\n",
       "\\end{tabular}\n"
      ],
      "text/markdown": [
       "\n",
       "A grouped_df: 5 × 2\n",
       "\n",
       "| Stratification &lt;chr&gt; | n &lt;int&gt; |\n",
       "|---|---|\n",
       "| Asthmatic    |  7 |\n",
       "| Female       | 15 |\n",
       "| Male         |  6 |\n",
       "| Nonasthmatic | 39 |\n",
       "| None         | 20 |\n",
       "\n"
      ],
      "text/plain": [
       "  Stratification n \n",
       "1 Asthmatic       7\n",
       "2 Female         15\n",
       "3 Male            6\n",
       "4 Nonasthmatic   39\n",
       "5 None           20"
      ]
     },
     "metadata": {},
     "output_type": "display_data"
    }
   ],
   "source": [
    "all_results_df %>%\n",
    "    filter(`P Value` < 0.05 & abs(log2FC) >= log2(1.5)) %>%\n",
    "    group_by(Stratification) %>%\n",
    "    count()"
   ]
  },
  {
   "cell_type": "code",
   "execution_count": 7,
   "id": "15af8187-a4ed-4726-a9c0-284fd35758cd",
   "metadata": {},
   "outputs": [],
   "source": [
    "# exporting results\n",
    "write.xlsx(all_results_df, paste0(Output,\"/\", \"Proteomics_T_Test_Results_\", cur_date, \".xlsx\"), rowNames = FALSE)"
   ]
  }
 ],
 "metadata": {
  "kernelspec": {
   "display_name": "R",
   "language": "R",
   "name": "ir"
  },
  "language_info": {
   "codemirror_mode": "r",
   "file_extension": ".r",
   "mimetype": "text/x-r-source",
   "name": "R",
   "pygments_lexer": "r",
   "version": "4.3.1"
  }
 },
 "nbformat": 4,
 "nbformat_minor": 5
}
