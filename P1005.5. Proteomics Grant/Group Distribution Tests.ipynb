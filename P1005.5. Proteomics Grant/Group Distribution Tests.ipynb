{
 "cells": [
  {
   "cell_type": "code",
   "execution_count": 12,
   "id": "85b194a5",
   "metadata": {},
   "outputs": [
    {
     "name": "stderr",
     "output_type": "stream",
     "text": [
      "Warning message in apply(proteomics_df[, 6:65], 2, as.numeric):\n",
      "“NAs introduced by coercion”\n",
      "Warning message in apply(proteomics_df[, 6:65], 2, as.numeric):\n",
      "“NAs introduced by coercion”\n",
      "Warning message in apply(proteomics_df[, 6:65], 2, as.numeric):\n",
      "“NAs introduced by coercion”\n"
     ]
    },
    {
     "data": {
      "text/html": [
       "<table class=\"dataframe\">\n",
       "<caption>A data.frame: 6 × 13</caption>\n",
       "<thead>\n",
       "\t<tr><th></th><th scope=col>Original_Subject_Number</th><th scope=col>Proteomic_Core_Subject_Number</th><th scope=col>Subject_Number</th><th scope=col>Subject_ID</th><th scope=col>Sex</th><th scope=col>Race</th><th scope=col>Ethnicity</th><th scope=col>Age</th><th scope=col>BMI</th><th scope=col>Asthma_Status</th><th scope=col>Responder_Status</th><th scope=col>Pre_Sputum_Neutrophilia</th><th scope=col>Post_Sputum_Neutrophilia</th></tr>\n",
       "\t<tr><th></th><th scope=col>&lt;dbl&gt;</th><th scope=col>&lt;dbl&gt;</th><th scope=col>&lt;dbl&gt;</th><th scope=col>&lt;chr&gt;</th><th scope=col>&lt;chr&gt;</th><th scope=col>&lt;chr&gt;</th><th scope=col>&lt;chr&gt;</th><th scope=col>&lt;dbl&gt;</th><th scope=col>&lt;dbl&gt;</th><th scope=col>&lt;chr&gt;</th><th scope=col>&lt;chr&gt;</th><th scope=col>&lt;chr&gt;</th><th scope=col>&lt;chr&gt;</th></tr>\n",
       "</thead>\n",
       "<tbody>\n",
       "\t<tr><th scope=row>1</th><td> 1</td><td> 1</td><td>1</td><td>NR_M_1</td><td>M</td><td>B </td><td>NH</td><td>37</td><td>26.0</td><td>NAS</td><td>NR</td><td>77.2 </td><td>74.489999999999995</td></tr>\n",
       "\t<tr><th scope=row>2</th><td> 6</td><td> 3</td><td>2</td><td>NR_F_2</td><td>F</td><td>W </td><td>NH</td><td>26</td><td>21.9</td><td>NAS</td><td>NR</td><td>22.6 </td><td>0                 </td></tr>\n",
       "\t<tr><th scope=row>3</th><td> 7</td><td> 5</td><td>3</td><td>R _M_3</td><td>M</td><td>W </td><td>NH</td><td>40</td><td>29.8</td><td>NAS</td><td>R </td><td>13.26</td><td>41.85             </td></tr>\n",
       "\t<tr><th scope=row>4</th><td> 9</td><td> 7</td><td>4</td><td>R_M_4 </td><td>M</td><td>W </td><td>NH</td><td>25</td><td>18.8</td><td>NAS</td><td>R </td><td>50.3 </td><td>76.41             </td></tr>\n",
       "\t<tr><th scope=row>5</th><td>13</td><td> 9</td><td>5</td><td>R_F_5 </td><td>F</td><td>B </td><td>NH</td><td>34</td><td>34.5</td><td>NAS</td><td>R </td><td>20.23</td><td>37.96             </td></tr>\n",
       "\t<tr><th scope=row>6</th><td>15</td><td>11</td><td>6</td><td>R _M_6</td><td>M</td><td>As</td><td>NH</td><td>19</td><td>20.8</td><td>NAS</td><td>R </td><td>47.77</td><td>66.67             </td></tr>\n",
       "</tbody>\n",
       "</table>\n"
      ],
      "text/latex": [
       "A data.frame: 6 × 13\n",
       "\\begin{tabular}{r|lllllllllllll}\n",
       "  & Original\\_Subject\\_Number & Proteomic\\_Core\\_Subject\\_Number & Subject\\_Number & Subject\\_ID & Sex & Race & Ethnicity & Age & BMI & Asthma\\_Status & Responder\\_Status & Pre\\_Sputum\\_Neutrophilia & Post\\_Sputum\\_Neutrophilia\\\\\n",
       "  & <dbl> & <dbl> & <dbl> & <chr> & <chr> & <chr> & <chr> & <dbl> & <dbl> & <chr> & <chr> & <chr> & <chr>\\\\\n",
       "\\hline\n",
       "\t1 &  1 &  1 & 1 & NR\\_M\\_1 & M & B  & NH & 37 & 26.0 & NAS & NR & 77.2  & 74.489999999999995\\\\\n",
       "\t2 &  6 &  3 & 2 & NR\\_F\\_2 & F & W  & NH & 26 & 21.9 & NAS & NR & 22.6  & 0                 \\\\\n",
       "\t3 &  7 &  5 & 3 & R \\_M\\_3 & M & W  & NH & 40 & 29.8 & NAS & R  & 13.26 & 41.85             \\\\\n",
       "\t4 &  9 &  7 & 4 & R\\_M\\_4  & M & W  & NH & 25 & 18.8 & NAS & R  & 50.3  & 76.41             \\\\\n",
       "\t5 & 13 &  9 & 5 & R\\_F\\_5  & F & B  & NH & 34 & 34.5 & NAS & R  & 20.23 & 37.96             \\\\\n",
       "\t6 & 15 & 11 & 6 & R \\_M\\_6 & M & As & NH & 19 & 20.8 & NAS & R  & 47.77 & 66.67             \\\\\n",
       "\\end{tabular}\n"
      ],
      "text/markdown": [
       "\n",
       "A data.frame: 6 × 13\n",
       "\n",
       "| <!--/--> | Original_Subject_Number &lt;dbl&gt; | Proteomic_Core_Subject_Number &lt;dbl&gt; | Subject_Number &lt;dbl&gt; | Subject_ID &lt;chr&gt; | Sex &lt;chr&gt; | Race &lt;chr&gt; | Ethnicity &lt;chr&gt; | Age &lt;dbl&gt; | BMI &lt;dbl&gt; | Asthma_Status &lt;chr&gt; | Responder_Status &lt;chr&gt; | Pre_Sputum_Neutrophilia &lt;chr&gt; | Post_Sputum_Neutrophilia &lt;chr&gt; |\n",
       "|---|---|---|---|---|---|---|---|---|---|---|---|---|---|\n",
       "| 1 |  1 |  1 | 1 | NR_M_1 | M | B  | NH | 37 | 26.0 | NAS | NR | 77.2  | 74.489999999999995 |\n",
       "| 2 |  6 |  3 | 2 | NR_F_2 | F | W  | NH | 26 | 21.9 | NAS | NR | 22.6  | 0                  |\n",
       "| 3 |  7 |  5 | 3 | R _M_3 | M | W  | NH | 40 | 29.8 | NAS | R  | 13.26 | 41.85              |\n",
       "| 4 |  9 |  7 | 4 | R_M_4  | M | W  | NH | 25 | 18.8 | NAS | R  | 50.3  | 76.41              |\n",
       "| 5 | 13 |  9 | 5 | R_F_5  | F | B  | NH | 34 | 34.5 | NAS | R  | 20.23 | 37.96              |\n",
       "| 6 | 15 | 11 | 6 | R _M_6 | M | As | NH | 19 | 20.8 | NAS | R  | 47.77 | 66.67              |\n",
       "\n"
      ],
      "text/plain": [
       "  Original_Subject_Number Proteomic_Core_Subject_Number Subject_Number\n",
       "1  1                       1                            1             \n",
       "2  6                       3                            2             \n",
       "3  7                       5                            3             \n",
       "4  9                       7                            4             \n",
       "5 13                       9                            5             \n",
       "6 15                      11                            6             \n",
       "  Subject_ID Sex Race Ethnicity Age BMI  Asthma_Status Responder_Status\n",
       "1 NR_M_1     M   B    NH        37  26.0 NAS           NR              \n",
       "2 NR_F_2     F   W    NH        26  21.9 NAS           NR              \n",
       "3 R _M_3     M   W    NH        40  29.8 NAS           R               \n",
       "4 R_M_4      M   W    NH        25  18.8 NAS           R               \n",
       "5 R_F_5      F   B    NH        34  34.5 NAS           R               \n",
       "6 R _M_6     M   As   NH        19  20.8 NAS           R               \n",
       "  Pre_Sputum_Neutrophilia Post_Sputum_Neutrophilia\n",
       "1 77.2                    74.489999999999995      \n",
       "2 22.6                    0                       \n",
       "3 13.26                   41.85                   \n",
       "4 50.3                    76.41                   \n",
       "5 20.23                   37.96                   \n",
       "6 47.77                   66.67                   "
      ]
     },
     "metadata": {},
     "output_type": "display_data"
    },
    {
     "data": {
      "text/html": [
       "<table class=\"dataframe\">\n",
       "<caption>A data.frame: 6 × 65</caption>\n",
       "<thead>\n",
       "\t<tr><th></th><th scope=col>Protein_Acession</th><th scope=col>Protein_Name</th><th scope=col>Gene_Name</th><th scope=col>Protein_Descriptions</th><th scope=col>Number_Unique_Peptides</th><th scope=col>NR_M_1.Post_1</th><th scope=col>NR_M_1.Pre_2</th><th scope=col>NR_F_2.Post_3</th><th scope=col>NR_F_2.Pre_4</th><th scope=col>R._M_3.Post_5</th><th scope=col>⋯</th><th scope=col>NR_F_26.Post_51</th><th scope=col>NR_F_26.Pre_52</th><th scope=col>NR_M_27.Post_53</th><th scope=col>NR_M_27.Pre_54</th><th scope=col>NR_M_28.Post_55</th><th scope=col>NR_M_28.Pre_56</th><th scope=col>NR_F_29.Post_57</th><th scope=col>NR_F_29.Pre_58</th><th scope=col>NR_M_30.Post_59</th><th scope=col>NR_M_30.Pre_60</th></tr>\n",
       "\t<tr><th></th><th scope=col>&lt;chr&gt;</th><th scope=col>&lt;chr&gt;</th><th scope=col>&lt;chr&gt;</th><th scope=col>&lt;chr&gt;</th><th scope=col>&lt;dbl&gt;</th><th scope=col>&lt;dbl&gt;</th><th scope=col>&lt;dbl&gt;</th><th scope=col>&lt;dbl&gt;</th><th scope=col>&lt;dbl&gt;</th><th scope=col>&lt;dbl&gt;</th><th scope=col>⋯</th><th scope=col>&lt;dbl&gt;</th><th scope=col>&lt;dbl&gt;</th><th scope=col>&lt;dbl&gt;</th><th scope=col>&lt;dbl&gt;</th><th scope=col>&lt;dbl&gt;</th><th scope=col>&lt;dbl&gt;</th><th scope=col>&lt;dbl&gt;</th><th scope=col>&lt;dbl&gt;</th><th scope=col>&lt;dbl&gt;</th><th scope=col>&lt;dbl&gt;</th></tr>\n",
       "</thead>\n",
       "<tbody>\n",
       "\t<tr><th scope=row>1</th><td>P61626              </td><td>LYSC_HUMAN                         </td><td>LYZ              </td><td>Lysozyme C                                        </td><td> 21</td><td>68766900</td><td>77360460</td><td> 97510540</td><td>61349770</td><td>69751540</td><td>⋯</td><td>NA</td><td>29564320</td><td>52770740</td><td>92673350</td><td>78747670</td><td>NA</td><td>52744850</td><td>62254460</td><td>126898500</td><td>74926060</td></tr>\n",
       "\t<tr><th scope=row>2</th><td>P01877              </td><td>IGHA2_HUMAN                        </td><td>IGHA2            </td><td>Immunoglobulin heavy constant alpha 2             </td><td> 26</td><td>22186750</td><td>39625340</td><td> 46473370</td><td>23963820</td><td>39971520</td><td>⋯</td><td>NA</td><td>21746510</td><td>20663020</td><td>34912700</td><td>26115250</td><td>NA</td><td>36867380</td><td>15831060</td><td>154372500</td><td>48185010</td></tr>\n",
       "\t<tr><th scope=row>3</th><td>P01876              </td><td>IGHA1_HUMAN                        </td><td>IGHA1            </td><td>Immunoglobulin heavy constant alpha 1             </td><td> 19</td><td>15777140</td><td>33683860</td><td> 33518360</td><td>24035330</td><td>31405400</td><td>⋯</td><td>NA</td><td>18806690</td><td>16857290</td><td>28826750</td><td>17092660</td><td>NA</td><td>27664970</td><td>14284090</td><td> 63727370</td><td>26176050</td></tr>\n",
       "\t<tr><th scope=row>4</th><td>P02768              </td><td>ALBU_HUMAN                         </td><td>ALB              </td><td>Albumin                                           </td><td>111</td><td>28212910</td><td>15515600</td><td> 13395080</td><td>19225470</td><td>41915780</td><td>⋯</td><td>NA</td><td>19471410</td><td> 9366254</td><td>27893000</td><td>15780580</td><td>NA</td><td>22491090</td><td>18820820</td><td> 22261030</td><td>34728060</td></tr>\n",
       "\t<tr><th scope=row>5</th><td>P0DTE7;P0DTE8;P0DUB6</td><td>AMY1B_HUMAN;AMY1C_HUMAN;AMY1A_HUMAN</td><td>AMY1B;AMY1C;AMY1A</td><td>Alpha-amylase 1B;Alpha-amylase 1C;Alpha-amylase 1A</td><td> 43</td><td>16069960</td><td> 3754483</td><td>388746100</td><td>20953490</td><td> 5696434</td><td>⋯</td><td>NA</td><td>11883850</td><td> 5799354</td><td>25845120</td><td>33562940</td><td>NA</td><td> 6053868</td><td> 6425425</td><td>  4049148</td><td> 6781004</td></tr>\n",
       "\t<tr><th scope=row>6</th><td>P01834              </td><td>IGKC_HUMAN                         </td><td>IGKC             </td><td>Immunoglobulin kappa constant                     </td><td>  3</td><td>11402010</td><td>18704190</td><td> 18756690</td><td>19384390</td><td>21055090</td><td>⋯</td><td>NA</td><td>11875440</td><td> 9094482</td><td> 9353938</td><td> 8898546</td><td>NA</td><td> 8115087</td><td> 7418536</td><td> 16145070</td><td>15644880</td></tr>\n",
       "</tbody>\n",
       "</table>\n"
      ],
      "text/latex": [
       "A data.frame: 6 × 65\n",
       "\\begin{tabular}{r|lllllllllllllllllllll}\n",
       "  & Protein\\_Acession & Protein\\_Name & Gene\\_Name & Protein\\_Descriptions & Number\\_Unique\\_Peptides & NR\\_M\\_1.Post\\_1 & NR\\_M\\_1.Pre\\_2 & NR\\_F\\_2.Post\\_3 & NR\\_F\\_2.Pre\\_4 & R.\\_M\\_3.Post\\_5 & ⋯ & NR\\_F\\_26.Post\\_51 & NR\\_F\\_26.Pre\\_52 & NR\\_M\\_27.Post\\_53 & NR\\_M\\_27.Pre\\_54 & NR\\_M\\_28.Post\\_55 & NR\\_M\\_28.Pre\\_56 & NR\\_F\\_29.Post\\_57 & NR\\_F\\_29.Pre\\_58 & NR\\_M\\_30.Post\\_59 & NR\\_M\\_30.Pre\\_60\\\\\n",
       "  & <chr> & <chr> & <chr> & <chr> & <dbl> & <dbl> & <dbl> & <dbl> & <dbl> & <dbl> & ⋯ & <dbl> & <dbl> & <dbl> & <dbl> & <dbl> & <dbl> & <dbl> & <dbl> & <dbl> & <dbl>\\\\\n",
       "\\hline\n",
       "\t1 & P61626               & LYSC\\_HUMAN                          & LYZ               & Lysozyme C                                         &  21 & 68766900 & 77360460 &  97510540 & 61349770 & 69751540 & ⋯ & NA & 29564320 & 52770740 & 92673350 & 78747670 & NA & 52744850 & 62254460 & 126898500 & 74926060\\\\\n",
       "\t2 & P01877               & IGHA2\\_HUMAN                         & IGHA2             & Immunoglobulin heavy constant alpha 2              &  26 & 22186750 & 39625340 &  46473370 & 23963820 & 39971520 & ⋯ & NA & 21746510 & 20663020 & 34912700 & 26115250 & NA & 36867380 & 15831060 & 154372500 & 48185010\\\\\n",
       "\t3 & P01876               & IGHA1\\_HUMAN                         & IGHA1             & Immunoglobulin heavy constant alpha 1              &  19 & 15777140 & 33683860 &  33518360 & 24035330 & 31405400 & ⋯ & NA & 18806690 & 16857290 & 28826750 & 17092660 & NA & 27664970 & 14284090 &  63727370 & 26176050\\\\\n",
       "\t4 & P02768               & ALBU\\_HUMAN                          & ALB               & Albumin                                            & 111 & 28212910 & 15515600 &  13395080 & 19225470 & 41915780 & ⋯ & NA & 19471410 &  9366254 & 27893000 & 15780580 & NA & 22491090 & 18820820 &  22261030 & 34728060\\\\\n",
       "\t5 & P0DTE7;P0DTE8;P0DUB6 & AMY1B\\_HUMAN;AMY1C\\_HUMAN;AMY1A\\_HUMAN & AMY1B;AMY1C;AMY1A & Alpha-amylase 1B;Alpha-amylase 1C;Alpha-amylase 1A &  43 & 16069960 &  3754483 & 388746100 & 20953490 &  5696434 & ⋯ & NA & 11883850 &  5799354 & 25845120 & 33562940 & NA &  6053868 &  6425425 &   4049148 &  6781004\\\\\n",
       "\t6 & P01834               & IGKC\\_HUMAN                          & IGKC              & Immunoglobulin kappa constant                      &   3 & 11402010 & 18704190 &  18756690 & 19384390 & 21055090 & ⋯ & NA & 11875440 &  9094482 &  9353938 &  8898546 & NA &  8115087 &  7418536 &  16145070 & 15644880\\\\\n",
       "\\end{tabular}\n"
      ],
      "text/markdown": [
       "\n",
       "A data.frame: 6 × 65\n",
       "\n",
       "| <!--/--> | Protein_Acession &lt;chr&gt; | Protein_Name &lt;chr&gt; | Gene_Name &lt;chr&gt; | Protein_Descriptions &lt;chr&gt; | Number_Unique_Peptides &lt;dbl&gt; | NR_M_1.Post_1 &lt;dbl&gt; | NR_M_1.Pre_2 &lt;dbl&gt; | NR_F_2.Post_3 &lt;dbl&gt; | NR_F_2.Pre_4 &lt;dbl&gt; | R._M_3.Post_5 &lt;dbl&gt; | ⋯ ⋯ | NR_F_26.Post_51 &lt;dbl&gt; | NR_F_26.Pre_52 &lt;dbl&gt; | NR_M_27.Post_53 &lt;dbl&gt; | NR_M_27.Pre_54 &lt;dbl&gt; | NR_M_28.Post_55 &lt;dbl&gt; | NR_M_28.Pre_56 &lt;dbl&gt; | NR_F_29.Post_57 &lt;dbl&gt; | NR_F_29.Pre_58 &lt;dbl&gt; | NR_M_30.Post_59 &lt;dbl&gt; | NR_M_30.Pre_60 &lt;dbl&gt; |\n",
       "|---|---|---|---|---|---|---|---|---|---|---|---|---|---|---|---|---|---|---|---|---|---|\n",
       "| 1 | P61626               | LYSC_HUMAN                          | LYZ               | Lysozyme C                                         |  21 | 68766900 | 77360460 |  97510540 | 61349770 | 69751540 | ⋯ | NA | 29564320 | 52770740 | 92673350 | 78747670 | NA | 52744850 | 62254460 | 126898500 | 74926060 |\n",
       "| 2 | P01877               | IGHA2_HUMAN                         | IGHA2             | Immunoglobulin heavy constant alpha 2              |  26 | 22186750 | 39625340 |  46473370 | 23963820 | 39971520 | ⋯ | NA | 21746510 | 20663020 | 34912700 | 26115250 | NA | 36867380 | 15831060 | 154372500 | 48185010 |\n",
       "| 3 | P01876               | IGHA1_HUMAN                         | IGHA1             | Immunoglobulin heavy constant alpha 1              |  19 | 15777140 | 33683860 |  33518360 | 24035330 | 31405400 | ⋯ | NA | 18806690 | 16857290 | 28826750 | 17092660 | NA | 27664970 | 14284090 |  63727370 | 26176050 |\n",
       "| 4 | P02768               | ALBU_HUMAN                          | ALB               | Albumin                                            | 111 | 28212910 | 15515600 |  13395080 | 19225470 | 41915780 | ⋯ | NA | 19471410 |  9366254 | 27893000 | 15780580 | NA | 22491090 | 18820820 |  22261030 | 34728060 |\n",
       "| 5 | P0DTE7;P0DTE8;P0DUB6 | AMY1B_HUMAN;AMY1C_HUMAN;AMY1A_HUMAN | AMY1B;AMY1C;AMY1A | Alpha-amylase 1B;Alpha-amylase 1C;Alpha-amylase 1A |  43 | 16069960 |  3754483 | 388746100 | 20953490 |  5696434 | ⋯ | NA | 11883850 |  5799354 | 25845120 | 33562940 | NA |  6053868 |  6425425 |   4049148 |  6781004 |\n",
       "| 6 | P01834               | IGKC_HUMAN                          | IGKC              | Immunoglobulin kappa constant                      |   3 | 11402010 | 18704190 |  18756690 | 19384390 | 21055090 | ⋯ | NA | 11875440 |  9094482 |  9353938 |  8898546 | NA |  8115087 |  7418536 |  16145070 | 15644880 |\n",
       "\n"
      ],
      "text/plain": [
       "  Protein_Acession     Protein_Name                        Gene_Name        \n",
       "1 P61626               LYSC_HUMAN                          LYZ              \n",
       "2 P01877               IGHA2_HUMAN                         IGHA2            \n",
       "3 P01876               IGHA1_HUMAN                         IGHA1            \n",
       "4 P02768               ALBU_HUMAN                          ALB              \n",
       "5 P0DTE7;P0DTE8;P0DUB6 AMY1B_HUMAN;AMY1C_HUMAN;AMY1A_HUMAN AMY1B;AMY1C;AMY1A\n",
       "6 P01834               IGKC_HUMAN                          IGKC             \n",
       "  Protein_Descriptions                               Number_Unique_Peptides\n",
       "1 Lysozyme C                                          21                   \n",
       "2 Immunoglobulin heavy constant alpha 2               26                   \n",
       "3 Immunoglobulin heavy constant alpha 1               19                   \n",
       "4 Albumin                                            111                   \n",
       "5 Alpha-amylase 1B;Alpha-amylase 1C;Alpha-amylase 1A  43                   \n",
       "6 Immunoglobulin kappa constant                        3                   \n",
       "  NR_M_1.Post_1 NR_M_1.Pre_2 NR_F_2.Post_3 NR_F_2.Pre_4 R._M_3.Post_5 ⋯\n",
       "1 68766900      77360460      97510540     61349770     69751540      ⋯\n",
       "2 22186750      39625340      46473370     23963820     39971520      ⋯\n",
       "3 15777140      33683860      33518360     24035330     31405400      ⋯\n",
       "4 28212910      15515600      13395080     19225470     41915780      ⋯\n",
       "5 16069960       3754483     388746100     20953490      5696434      ⋯\n",
       "6 11402010      18704190      18756690     19384390     21055090      ⋯\n",
       "  NR_F_26.Post_51 NR_F_26.Pre_52 NR_M_27.Post_53 NR_M_27.Pre_54 NR_M_28.Post_55\n",
       "1 NA              29564320       52770740        92673350       78747670       \n",
       "2 NA              21746510       20663020        34912700       26115250       \n",
       "3 NA              18806690       16857290        28826750       17092660       \n",
       "4 NA              19471410        9366254        27893000       15780580       \n",
       "5 NA              11883850        5799354        25845120       33562940       \n",
       "6 NA              11875440        9094482         9353938        8898546       \n",
       "  NR_M_28.Pre_56 NR_F_29.Post_57 NR_F_29.Pre_58 NR_M_30.Post_59 NR_M_30.Pre_60\n",
       "1 NA             52744850        62254460       126898500       74926060      \n",
       "2 NA             36867380        15831060       154372500       48185010      \n",
       "3 NA             27664970        14284090        63727370       26176050      \n",
       "4 NA             22491090        18820820        22261030       34728060      \n",
       "5 NA              6053868         6425425         4049148        6781004      \n",
       "6 NA              8115087         7418536        16145070       15644880      "
      ]
     },
     "metadata": {},
     "output_type": "display_data"
    }
   ],
   "source": [
    "Output = '/Users/alexis/Library/CloudStorage/OneDrive-UniversityofNorthCarolinaatChapelHill/CEMALB_DataAnalysisPM/Projects/P1007. Sputum Proteomics/P1007.3. Analyses/P1007.3.2. Distribution Tests/Output'\n",
    "cur_date = \"091424\"\n",
    "\n",
    "library(readxl)\n",
    "library(tidyverse)\n",
    "library(reshape2)\n",
    "\n",
    "#reading in file\n",
    "demographics_df = data.frame(read_excel(\"Input/SubjectInfo_091324.xlsx\", sheet = 2))\n",
    "proteomics_df = data.frame(read_excel(\"Input/Processed_Data_091324.xlsx\", sheet = 2))\n",
    "proteomics_df[,6:65] = apply(proteomics_df[,6:65], 2, as.numeric)\n",
    "\n",
    "head(demographics_df)\n",
    "head(proteomics_df)"
   ]
  },
  {
   "cell_type": "code",
   "execution_count": 22,
   "id": "9033f135",
   "metadata": {},
   "outputs": [
    {
     "name": "stderr",
     "output_type": "stream",
     "text": [
      "Warning message:\n",
      "“\u001b[1m\u001b[22mExpected 2 pieces. Additional pieces discarded in 134640 rows [1, 2, 3, 4, 5,\n",
      "6, 7, 8, 9, 10, 11, 12, 13, 14, 15, 16, 17, 18, 19, 20, ...].”\n"
     ]
    },
    {
     "data": {
      "text/html": [
       "<table class=\"dataframe\">\n",
       "<caption>A tibble: 6 × 4</caption>\n",
       "<thead>\n",
       "\t<tr><th scope=col>Protein_Acession</th><th scope=col>Subject_ID</th><th scope=col>Sample_ID</th><th scope=col>Value</th></tr>\n",
       "\t<tr><th scope=col>&lt;chr&gt;</th><th scope=col>&lt;chr&gt;</th><th scope=col>&lt;chr&gt;</th><th scope=col>&lt;dbl&gt;</th></tr>\n",
       "</thead>\n",
       "<tbody>\n",
       "\t<tr><td>P61626</td><td></td><td></td><td>68766900</td></tr>\n",
       "\t<tr><td>P61626</td><td></td><td></td><td>77360460</td></tr>\n",
       "\t<tr><td>P61626</td><td></td><td></td><td>97510540</td></tr>\n",
       "\t<tr><td>P61626</td><td></td><td></td><td>61349770</td></tr>\n",
       "\t<tr><td>P61626</td><td></td><td></td><td>69751540</td></tr>\n",
       "\t<tr><td>P61626</td><td></td><td></td><td>35046090</td></tr>\n",
       "</tbody>\n",
       "</table>\n"
      ],
      "text/latex": [
       "A tibble: 6 × 4\n",
       "\\begin{tabular}{llll}\n",
       " Protein\\_Acession & Subject\\_ID & Sample\\_ID & Value\\\\\n",
       " <chr> & <chr> & <chr> & <dbl>\\\\\n",
       "\\hline\n",
       "\t P61626 &  &  & 68766900\\\\\n",
       "\t P61626 &  &  & 77360460\\\\\n",
       "\t P61626 &  &  & 97510540\\\\\n",
       "\t P61626 &  &  & 61349770\\\\\n",
       "\t P61626 &  &  & 69751540\\\\\n",
       "\t P61626 &  &  & 35046090\\\\\n",
       "\\end{tabular}\n"
      ],
      "text/markdown": [
       "\n",
       "A tibble: 6 × 4\n",
       "\n",
       "| Protein_Acession &lt;chr&gt; | Subject_ID &lt;chr&gt; | Sample_ID &lt;chr&gt; | Value &lt;dbl&gt; |\n",
       "|---|---|---|---|\n",
       "| P61626 | <!----> | <!----> | 68766900 |\n",
       "| P61626 | <!----> | <!----> | 77360460 |\n",
       "| P61626 | <!----> | <!----> | 97510540 |\n",
       "| P61626 | <!----> | <!----> | 61349770 |\n",
       "| P61626 | <!----> | <!----> | 69751540 |\n",
       "| P61626 | <!----> | <!----> | 35046090 |\n",
       "\n"
      ],
      "text/plain": [
       "  Protein_Acession Subject_ID Sample_ID Value   \n",
       "1 P61626                                68766900\n",
       "2 P61626                                77360460\n",
       "3 P61626                                97510540\n",
       "4 P61626                                61349770\n",
       "5 P61626                                69751540\n",
       "6 P61626                                35046090"
      ]
     },
     "metadata": {},
     "output_type": "display_data"
    }
   ],
   "source": [
    "# creating a vector with the subject ids of the outliers\n",
    "outlier_subjects = c(\"R_M_8\", \"NR_F_26\", \"NR_M_28\")\n",
    "\n",
    "# creating a variable that does the opposite of '%in%'\n",
    "`%notin%` = Negate(`%in%`)\n",
    "\n",
    "longer_proteomics_df = proteomics_df[,c(1,6:65)] %>%\n",
    "    pivot_longer(cols = 2:61, names_to = \"Subject_ID.Sample_ID\", values_to = \"Value\") %>%   \n",
    "    # just want a column that specifies the exposure separately\n",
    "    separate(Subject_ID.Sample_ID, c(\"Subject_ID\", \"Sample_ID\"), sep = \".\")# %>%  \n",
    "    #inner_join(demographics_df[,4:11]) %>%\n",
    "  # separate(Sample_ID, c(\"Time_Point\", \"ID_2\"), sep = \"_\") \n",
    "    # filtering for subjects not in the outlier_subjects vector\n",
    "    #filter(Subject_ID %notin% outlier_subjects) \n",
    "\n",
    "head(longer_proteomics_df)"
   ]
  },
  {
   "cell_type": "code",
   "execution_count": 18,
   "id": "60150332-80bc-4288-aef8-39cad2d97422",
   "metadata": {},
   "outputs": [],
   "source": [
    "# creating additional dataframes that are subsetted by sex and asthma status\n",
    "sex_df = proteomics_df %>%\n",
    "    group_by(Sex) %>%\n",
    "    group_split()\n",
    "\n",
    "females_df = sex_df[[1]]\n",
    "males_df = sex_df[[2]]\n",
    "\n",
    "asthma_df = proteomics_df %>%\n",
    "    group_by(Asthma_Status) %>%\n",
    "    group_split()\n",
    "\n",
    "asthmatic_df = asthma_df[[1]]\n",
    "nonasthmatic_df = asthma_df[[2]]"
   ]
  },
  {
   "cell_type": "code",
   "execution_count": 24,
   "id": "99dbf7e0-39e0-4aef-a37c-a4ea8346cf43",
   "metadata": {},
   "outputs": [],
   "source": [
    "proteins = unique(proteomics_df$Protein_Accession)\n",
    "\n",
    "values_df = data.frame()\n",
    "#create an empty dataframe for the loop function to place values into\n",
    "\n",
    "timepoint_t_tests = function(dataframe, stratification){\n",
    "    \n",
    "    for (i in 1:length(proteins)){\n",
    "        \n",
    "         # pre df\n",
    "        pre_df = dataframe %>%\n",
    "            filter(Time_Point == \"Pre\", Protein_Accession == proteins[i])\n",
    "        # post df\n",
    "        post_df = dataframe %>%\n",
    "            filter(Time_Point == \"Post\", Protein_Accession == proteins[i])\n",
    "    \n",
    "        # t test\n",
    "        t_test = t.test(pre_df$Imputed_Norm_Intensity, post_df$Imputed_Norm_Intensity)\n",
    "        \n",
    "        # calculating log2FC to get directionality\n",
    "        FC = log2(mean(pre_df$Imputed_Norm_Intensity)/mean(post_df$Imputed_Norm_Intensity))\n",
    "    \n",
    "        # contains stratification, protein, u stat, and p value\n",
    "        values_vector = cbind(stratification, proteins[i], FC, t_test$statistic, t_test$p.value)\n",
    "        values_df = rbind(values_df, values_vector)\n",
    "    }    \n",
    "    \n",
    "    colnames(values_df) = c(\"Stratification\", \"Protein_Accession\", \"log2FC\", \"Statistic\", 'P Value')\n",
    "    values_df$`P Adj` <- p.adjust(values_df$`P Value`, method = \"fdr\")\n",
    "\n",
    "    return(values_df)\n",
    "}\n",
    "\n",
    "# calling fn\n",
    "timepoint_results_df = timepoint_t_tests(proteomics_df, \"None\")\n",
    "males_results_df = timepoint_t_tests(males_df, \"Male\")\n",
    "females_results_df = timepoint_t_tests(females_df, \"Female\")\n",
    "asthmatic_results_df = timepoint_t_tests(asthmatic_df, \"Asthmatic\")\n",
    "nonasthmatic_results_df = timepoint_t_tests(nonasthmatic_df, \"Nonasthmatic\")"
   ]
  },
  {
   "cell_type": "code",
   "execution_count": 25,
   "id": "3abf139d",
   "metadata": {},
   "outputs": [
    {
     "data": {
      "text/html": [
       "<table class=\"dataframe\">\n",
       "<caption>A data.frame: 6 × 6</caption>\n",
       "<thead>\n",
       "\t<tr><th></th><th scope=col>Stratification</th><th scope=col>Protein_Accession</th><th scope=col>log2FC</th><th scope=col>Statistic</th><th scope=col>P Value</th><th scope=col>P Adj</th></tr>\n",
       "\t<tr><th></th><th scope=col>&lt;chr&gt;</th><th scope=col>&lt;chr&gt;</th><th scope=col>&lt;chr&gt;</th><th scope=col>&lt;chr&gt;</th><th scope=col>&lt;chr&gt;</th><th scope=col>&lt;dbl&gt;</th></tr>\n",
       "</thead>\n",
       "<tbody>\n",
       "\t<tr><th scope=row>t</th><td>None</td><td>P61626</td><td>0.0728486146255376 </td><td>0.585411887241969 </td><td>0.560815096066013</td><td>0.7958692</td></tr>\n",
       "\t<tr><th scope=row>t1</th><td>None</td><td>P01877</td><td>-0.212111161818743 </td><td>-1.17593644942288 </td><td>0.245514975976604</td><td>0.6021921</td></tr>\n",
       "\t<tr><th scope=row>t2</th><td>None</td><td>P01876</td><td>-0.148517136427489 </td><td>-0.982069487757299</td><td>0.33080863361061 </td><td>0.6587227</td></tr>\n",
       "\t<tr><th scope=row>t3</th><td>None</td><td>P02768</td><td>0.16409331368835   </td><td>0.678951578641631 </td><td>0.500869057582336</td><td>0.7684498</td></tr>\n",
       "\t<tr><th scope=row>t4</th><td>None</td><td>P01834</td><td>-0.0149722167244042</td><td>-0.108493302294183</td><td>0.914024918562897</td><td>0.9551508</td></tr>\n",
       "\t<tr><th scope=row>t5</th><td>None</td><td>Q8TDL5</td><td>0.132675814878414  </td><td>0.590566484071262 </td><td>0.557377293224984</td><td>0.7958692</td></tr>\n",
       "</tbody>\n",
       "</table>\n"
      ],
      "text/latex": [
       "A data.frame: 6 × 6\n",
       "\\begin{tabular}{r|llllll}\n",
       "  & Stratification & Protein\\_Accession & log2FC & Statistic & P Value & P Adj\\\\\n",
       "  & <chr> & <chr> & <chr> & <chr> & <chr> & <dbl>\\\\\n",
       "\\hline\n",
       "\tt & None & P61626 & 0.0728486146255376  & 0.585411887241969  & 0.560815096066013 & 0.7958692\\\\\n",
       "\tt1 & None & P01877 & -0.212111161818743  & -1.17593644942288  & 0.245514975976604 & 0.6021921\\\\\n",
       "\tt2 & None & P01876 & -0.148517136427489  & -0.982069487757299 & 0.33080863361061  & 0.6587227\\\\\n",
       "\tt3 & None & P02768 & 0.16409331368835    & 0.678951578641631  & 0.500869057582336 & 0.7684498\\\\\n",
       "\tt4 & None & P01834 & -0.0149722167244042 & -0.108493302294183 & 0.914024918562897 & 0.9551508\\\\\n",
       "\tt5 & None & Q8TDL5 & 0.132675814878414   & 0.590566484071262  & 0.557377293224984 & 0.7958692\\\\\n",
       "\\end{tabular}\n"
      ],
      "text/markdown": [
       "\n",
       "A data.frame: 6 × 6\n",
       "\n",
       "| <!--/--> | Stratification &lt;chr&gt; | Protein_Accession &lt;chr&gt; | log2FC &lt;chr&gt; | Statistic &lt;chr&gt; | P Value &lt;chr&gt; | P Adj &lt;dbl&gt; |\n",
       "|---|---|---|---|---|---|---|\n",
       "| t | None | P61626 | 0.0728486146255376  | 0.585411887241969  | 0.560815096066013 | 0.7958692 |\n",
       "| t1 | None | P01877 | -0.212111161818743  | -1.17593644942288  | 0.245514975976604 | 0.6021921 |\n",
       "| t2 | None | P01876 | -0.148517136427489  | -0.982069487757299 | 0.33080863361061  | 0.6587227 |\n",
       "| t3 | None | P02768 | 0.16409331368835    | 0.678951578641631  | 0.500869057582336 | 0.7684498 |\n",
       "| t4 | None | P01834 | -0.0149722167244042 | -0.108493302294183 | 0.914024918562897 | 0.9551508 |\n",
       "| t5 | None | Q8TDL5 | 0.132675814878414   | 0.590566484071262  | 0.557377293224984 | 0.7958692 |\n",
       "\n"
      ],
      "text/plain": [
       "   Stratification Protein_Accession log2FC              Statistic         \n",
       "t  None           P61626            0.0728486146255376  0.585411887241969 \n",
       "t1 None           P01877            -0.212111161818743  -1.17593644942288 \n",
       "t2 None           P01876            -0.148517136427489  -0.982069487757299\n",
       "t3 None           P02768            0.16409331368835    0.678951578641631 \n",
       "t4 None           P01834            -0.0149722167244042 -0.108493302294183\n",
       "t5 None           Q8TDL5            0.132675814878414   0.590566484071262 \n",
       "   P Value           P Adj    \n",
       "t  0.560815096066013 0.7958692\n",
       "t1 0.245514975976604 0.6021921\n",
       "t2 0.33080863361061  0.6587227\n",
       "t3 0.500869057582336 0.7684498\n",
       "t4 0.914024918562897 0.9551508\n",
       "t5 0.557377293224984 0.7958692"
      ]
     },
     "metadata": {},
     "output_type": "display_data"
    }
   ],
   "source": [
    "# creating 1 df\n",
    "all_results_df = rbind(timepoint_results_df, males_results_df, females_results_df, asthmatic_results_df, nonasthmatic_results_df)\n",
    "\n",
    "head(all_results_df)"
   ]
  },
  {
   "cell_type": "code",
   "execution_count": null,
   "id": "327b1e21-d1bf-48b1-b5a2-1611324442e0",
   "metadata": {},
   "outputs": [],
   "source": []
  }
 ],
 "metadata": {
  "kernelspec": {
   "display_name": "R",
   "language": "R",
   "name": "ir"
  },
  "language_info": {
   "codemirror_mode": "r",
   "file_extension": ".r",
   "mimetype": "text/x-r-source",
   "name": "R",
   "pygments_lexer": "r",
   "version": "4.3.1"
  }
 },
 "nbformat": 4,
 "nbformat_minor": 5
}
