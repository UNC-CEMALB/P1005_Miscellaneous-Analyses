{
 "cells": [
  {
   "cell_type": "code",
   "execution_count": 1,
   "id": "e3b8aa9d",
   "metadata": {},
   "outputs": [
    {
     "name": "stderr",
     "output_type": "stream",
     "text": [
      "── \u001b[1mAttaching packages\u001b[22m ─────────────────────────────────────── tidyverse 1.3.1 ──\n",
      "\n",
      "\u001b[32m✔\u001b[39m \u001b[34mggplot2\u001b[39m 3.3.5     \u001b[32m✔\u001b[39m \u001b[34mpurrr  \u001b[39m 0.3.4\n",
      "\u001b[32m✔\u001b[39m \u001b[34mtibble \u001b[39m 3.1.6     \u001b[32m✔\u001b[39m \u001b[34mdplyr  \u001b[39m 1.0.8\n",
      "\u001b[32m✔\u001b[39m \u001b[34mtidyr  \u001b[39m 1.2.0     \u001b[32m✔\u001b[39m \u001b[34mstringr\u001b[39m 1.4.0\n",
      "\u001b[32m✔\u001b[39m \u001b[34mreadr  \u001b[39m 2.1.2     \u001b[32m✔\u001b[39m \u001b[34mforcats\u001b[39m 0.5.1\n",
      "\n",
      "── \u001b[1mConflicts\u001b[22m ────────────────────────────────────────── tidyverse_conflicts() ──\n",
      "\u001b[31m✖\u001b[39m \u001b[34mdplyr\u001b[39m::\u001b[32mfilter()\u001b[39m masks \u001b[34mstats\u001b[39m::filter()\n",
      "\u001b[31m✖\u001b[39m \u001b[34mdplyr\u001b[39m::\u001b[32mlag()\u001b[39m    masks \u001b[34mstats\u001b[39m::lag()\n",
      "\n",
      "\n",
      "Attaching package: ‘reshape2’\n",
      "\n",
      "\n",
      "The following object is masked from ‘package:tidyr’:\n",
      "\n",
      "    smiths\n",
      "\n",
      "\n"
     ]
    }
   ],
   "source": [
    "#Output = ('/Users/alexis/Library/CloudStorage/OneDrive-UniversityofNorthCarolinaatChapelHill/CEMALB_DataAnalysisPM/Projects/P1005. Miscellaneous Analyses/P1005.2. Allostatic Loading/P1005.2.3. Analyses/P1005.2.3.1 Allostatic Loading/Output')\n",
    "cur_date = \"071322\"\n",
    "\n",
    "library(readxl)\n",
    "library(tidyverse)\n",
    "library(reshape2)\n",
    "\n",
    "\n",
    "# reading in file\n",
    "allostatic_loading_df = data.frame(read_excel(\"Input/Allostatic_Mediator_Data_061722ap.xlsx\", sheet = 2))"
   ]
  },
  {
   "cell_type": "code",
   "execution_count": 2,
   "id": "a8478f01",
   "metadata": {},
   "outputs": [
    {
     "data": {
      "text/html": [
       "<table class=\"dataframe\">\n",
       "<caption>A data.frame: 6 × 11</caption>\n",
       "<thead>\n",
       "\t<tr><th></th><th scope=col>Study</th><th scope=col>Original_Subject_Number</th><th scope=col>Subject_Number</th><th scope=col>Group</th><th scope=col>Subject_ID</th><th scope=col>Sex</th><th scope=col>Age</th><th scope=col>Race</th><th scope=col>Category</th><th scope=col>Variable</th><th scope=col>Value</th></tr>\n",
       "\t<tr><th></th><th scope=col>&lt;chr&gt;</th><th scope=col>&lt;dbl&gt;</th><th scope=col>&lt;dbl&gt;</th><th scope=col>&lt;chr&gt;</th><th scope=col>&lt;chr&gt;</th><th scope=col>&lt;chr&gt;</th><th scope=col>&lt;dbl&gt;</th><th scope=col>&lt;chr&gt;</th><th scope=col>&lt;chr&gt;</th><th scope=col>&lt;chr&gt;</th><th scope=col>&lt;dbl&gt;</th></tr>\n",
       "</thead>\n",
       "<tbody>\n",
       "\t<tr><th scope=row>1</th><td>FM2       </td><td> 97</td><td>1</td><td>CS</td><td>CS_1</td><td>M</td><td>18</td><td>B</td><td>AL Biomarker</td><td>Cortisol</td><td>140.304</td></tr>\n",
       "\t<tr><th scope=row>2</th><td>FM2       </td><td> 99</td><td>2</td><td>CS</td><td>CS_2</td><td>F</td><td>20</td><td>W</td><td>AL Biomarker</td><td>Cortisol</td><td>246.542</td></tr>\n",
       "\t<tr><th scope=row>3</th><td>FM2       </td><td>101</td><td>3</td><td>CS</td><td>CS_3</td><td>F</td><td>20</td><td>W</td><td>AL Biomarker</td><td>Cortisol</td><td> 50.878</td></tr>\n",
       "\t<tr><th scope=row>4</th><td>FM2       </td><td> 98</td><td>4</td><td>CS</td><td>CS_4</td><td>F</td><td>21</td><td>W</td><td>AL Biomarker</td><td>Cortisol</td><td>137.387</td></tr>\n",
       "\t<tr><th scope=row>5</th><td>TCORS LAIV</td><td> 39</td><td>5</td><td>CS</td><td>CS_5</td><td>M</td><td>21</td><td>W</td><td>AL Biomarker</td><td>Cortisol</td><td>116.602</td></tr>\n",
       "\t<tr><th scope=row>6</th><td>FM2       </td><td>100</td><td>6</td><td>CS</td><td>CS_6</td><td>F</td><td>22</td><td>W</td><td>AL Biomarker</td><td>Cortisol</td><td> 54.030</td></tr>\n",
       "</tbody>\n",
       "</table>\n"
      ],
      "text/latex": [
       "A data.frame: 6 × 11\n",
       "\\begin{tabular}{r|lllllllllll}\n",
       "  & Study & Original\\_Subject\\_Number & Subject\\_Number & Group & Subject\\_ID & Sex & Age & Race & Category & Variable & Value\\\\\n",
       "  & <chr> & <dbl> & <dbl> & <chr> & <chr> & <chr> & <dbl> & <chr> & <chr> & <chr> & <dbl>\\\\\n",
       "\\hline\n",
       "\t1 & FM2        &  97 & 1 & CS & CS\\_1 & M & 18 & B & AL Biomarker & Cortisol & 140.304\\\\\n",
       "\t2 & FM2        &  99 & 2 & CS & CS\\_2 & F & 20 & W & AL Biomarker & Cortisol & 246.542\\\\\n",
       "\t3 & FM2        & 101 & 3 & CS & CS\\_3 & F & 20 & W & AL Biomarker & Cortisol &  50.878\\\\\n",
       "\t4 & FM2        &  98 & 4 & CS & CS\\_4 & F & 21 & W & AL Biomarker & Cortisol & 137.387\\\\\n",
       "\t5 & TCORS LAIV &  39 & 5 & CS & CS\\_5 & M & 21 & W & AL Biomarker & Cortisol & 116.602\\\\\n",
       "\t6 & FM2        & 100 & 6 & CS & CS\\_6 & F & 22 & W & AL Biomarker & Cortisol &  54.030\\\\\n",
       "\\end{tabular}\n"
      ],
      "text/markdown": [
       "\n",
       "A data.frame: 6 × 11\n",
       "\n",
       "| <!--/--> | Study &lt;chr&gt; | Original_Subject_Number &lt;dbl&gt; | Subject_Number &lt;dbl&gt; | Group &lt;chr&gt; | Subject_ID &lt;chr&gt; | Sex &lt;chr&gt; | Age &lt;dbl&gt; | Race &lt;chr&gt; | Category &lt;chr&gt; | Variable &lt;chr&gt; | Value &lt;dbl&gt; |\n",
       "|---|---|---|---|---|---|---|---|---|---|---|---|\n",
       "| 1 | FM2        |  97 | 1 | CS | CS_1 | M | 18 | B | AL Biomarker | Cortisol | 140.304 |\n",
       "| 2 | FM2        |  99 | 2 | CS | CS_2 | F | 20 | W | AL Biomarker | Cortisol | 246.542 |\n",
       "| 3 | FM2        | 101 | 3 | CS | CS_3 | F | 20 | W | AL Biomarker | Cortisol |  50.878 |\n",
       "| 4 | FM2        |  98 | 4 | CS | CS_4 | F | 21 | W | AL Biomarker | Cortisol | 137.387 |\n",
       "| 5 | TCORS LAIV |  39 | 5 | CS | CS_5 | M | 21 | W | AL Biomarker | Cortisol | 116.602 |\n",
       "| 6 | FM2        | 100 | 6 | CS | CS_6 | F | 22 | W | AL Biomarker | Cortisol |  54.030 |\n",
       "\n"
      ],
      "text/plain": [
       "  Study      Original_Subject_Number Subject_Number Group Subject_ID Sex Age\n",
       "1 FM2         97                     1              CS    CS_1       M   18 \n",
       "2 FM2         99                     2              CS    CS_2       F   20 \n",
       "3 FM2        101                     3              CS    CS_3       F   20 \n",
       "4 FM2         98                     4              CS    CS_4       F   21 \n",
       "5 TCORS LAIV  39                     5              CS    CS_5       M   21 \n",
       "6 FM2        100                     6              CS    CS_6       F   22 \n",
       "  Race Category     Variable Value  \n",
       "1 B    AL Biomarker Cortisol 140.304\n",
       "2 W    AL Biomarker Cortisol 246.542\n",
       "3 W    AL Biomarker Cortisol  50.878\n",
       "4 W    AL Biomarker Cortisol 137.387\n",
       "5 W    AL Biomarker Cortisol 116.602\n",
       "6 W    AL Biomarker Cortisol  54.030"
      ]
     },
     "metadata": {},
     "output_type": "display_data"
    }
   ],
   "source": [
    "# viewing the dataset initially helps ensure it was read it properly and gives a view of what it looks like\n",
    "head(allostatic_loading_df)"
   ]
  },
  {
   "cell_type": "markdown",
   "id": "2fb8d603",
   "metadata": {},
   "source": [
    "Goal is to generate allostatic loading scores which is an index of atherosclerotic risk protection from these biomarkers and to compare based on tobacco smoke exposure and race as a potential covariate. \n",
    "\n",
    "**Prior to analysis always describe what the aim of the analysis is, so you're clear and those reviewing your code are also clear. "
   ]
  },
  {
   "cell_type": "code",
   "execution_count": 3,
   "id": "71ccc739",
   "metadata": {},
   "outputs": [
    {
     "data": {
      "text/html": [
       "<table class=\"dataframe\">\n",
       "<caption>A tibble: 6 × 11</caption>\n",
       "<thead>\n",
       "\t<tr><th scope=col>Study</th><th scope=col>Original_Subject_Number</th><th scope=col>Subject_Number</th><th scope=col>Group</th><th scope=col>Subject_ID</th><th scope=col>Sex</th><th scope=col>Age</th><th scope=col>Race</th><th scope=col>Category</th><th scope=col>Variable</th><th scope=col>Value</th></tr>\n",
       "\t<tr><th scope=col>&lt;chr&gt;</th><th scope=col>&lt;dbl&gt;</th><th scope=col>&lt;dbl&gt;</th><th scope=col>&lt;chr&gt;</th><th scope=col>&lt;chr&gt;</th><th scope=col>&lt;chr&gt;</th><th scope=col>&lt;dbl&gt;</th><th scope=col>&lt;chr&gt;</th><th scope=col>&lt;chr&gt;</th><th scope=col>&lt;chr&gt;</th><th scope=col>&lt;dbl&gt;</th></tr>\n",
       "</thead>\n",
       "<tbody>\n",
       "\t<tr><td>Woodsie</td><td> 1</td><td>37</td><td>NS</td><td>NS_37</td><td>F</td><td>21</td><td>B</td><td>AL Biomarker</td><td>Cortisol</td><td>106.118</td></tr>\n",
       "\t<tr><td>Woodsie</td><td>20</td><td>39</td><td>NS</td><td>NS_39</td><td>F</td><td>21</td><td>B</td><td>AL Biomarker</td><td>Cortisol</td><td> 81.722</td></tr>\n",
       "\t<tr><td>FM2    </td><td>92</td><td>42</td><td>NS</td><td>NS_42</td><td>M</td><td>24</td><td>B</td><td>AL Biomarker</td><td>Cortisol</td><td> 86.759</td></tr>\n",
       "\t<tr><td>FM2    </td><td>88</td><td>47</td><td>NS</td><td>NS_47</td><td>F</td><td>26</td><td>B</td><td>AL Biomarker</td><td>Cortisol</td><td> 92.002</td></tr>\n",
       "\t<tr><td>Woodsie</td><td>22</td><td>50</td><td>NS</td><td>NS_50</td><td>F</td><td>27</td><td>B</td><td>AL Biomarker</td><td>Cortisol</td><td>150.650</td></tr>\n",
       "\t<tr><td>Woodsie</td><td>38</td><td>53</td><td>NS</td><td>NS_53</td><td>F</td><td>28</td><td>B</td><td>AL Biomarker</td><td>Cortisol</td><td>137.048</td></tr>\n",
       "</tbody>\n",
       "</table>\n"
      ],
      "text/latex": [
       "A tibble: 6 × 11\n",
       "\\begin{tabular}{lllllllllll}\n",
       " Study & Original\\_Subject\\_Number & Subject\\_Number & Group & Subject\\_ID & Sex & Age & Race & Category & Variable & Value\\\\\n",
       " <chr> & <dbl> & <dbl> & <chr> & <chr> & <chr> & <dbl> & <chr> & <chr> & <chr> & <dbl>\\\\\n",
       "\\hline\n",
       "\t Woodsie &  1 & 37 & NS & NS\\_37 & F & 21 & B & AL Biomarker & Cortisol & 106.118\\\\\n",
       "\t Woodsie & 20 & 39 & NS & NS\\_39 & F & 21 & B & AL Biomarker & Cortisol &  81.722\\\\\n",
       "\t FM2     & 92 & 42 & NS & NS\\_42 & M & 24 & B & AL Biomarker & Cortisol &  86.759\\\\\n",
       "\t FM2     & 88 & 47 & NS & NS\\_47 & F & 26 & B & AL Biomarker & Cortisol &  92.002\\\\\n",
       "\t Woodsie & 22 & 50 & NS & NS\\_50 & F & 27 & B & AL Biomarker & Cortisol & 150.650\\\\\n",
       "\t Woodsie & 38 & 53 & NS & NS\\_53 & F & 28 & B & AL Biomarker & Cortisol & 137.048\\\\\n",
       "\\end{tabular}\n"
      ],
      "text/markdown": [
       "\n",
       "A tibble: 6 × 11\n",
       "\n",
       "| Study &lt;chr&gt; | Original_Subject_Number &lt;dbl&gt; | Subject_Number &lt;dbl&gt; | Group &lt;chr&gt; | Subject_ID &lt;chr&gt; | Sex &lt;chr&gt; | Age &lt;dbl&gt; | Race &lt;chr&gt; | Category &lt;chr&gt; | Variable &lt;chr&gt; | Value &lt;dbl&gt; |\n",
       "|---|---|---|---|---|---|---|---|---|---|---|\n",
       "| Woodsie |  1 | 37 | NS | NS_37 | F | 21 | B | AL Biomarker | Cortisol | 106.118 |\n",
       "| Woodsie | 20 | 39 | NS | NS_39 | F | 21 | B | AL Biomarker | Cortisol |  81.722 |\n",
       "| FM2     | 92 | 42 | NS | NS_42 | M | 24 | B | AL Biomarker | Cortisol |  86.759 |\n",
       "| FM2     | 88 | 47 | NS | NS_47 | F | 26 | B | AL Biomarker | Cortisol |  92.002 |\n",
       "| Woodsie | 22 | 50 | NS | NS_50 | F | 27 | B | AL Biomarker | Cortisol | 150.650 |\n",
       "| Woodsie | 38 | 53 | NS | NS_53 | F | 28 | B | AL Biomarker | Cortisol | 137.048 |\n",
       "\n"
      ],
      "text/plain": [
       "  Study   Original_Subject_Number Subject_Number Group Subject_ID Sex Age Race\n",
       "1 Woodsie  1                      37             NS    NS_37      F   21  B   \n",
       "2 Woodsie 20                      39             NS    NS_39      F   21  B   \n",
       "3 FM2     92                      42             NS    NS_42      M   24  B   \n",
       "4 FM2     88                      47             NS    NS_47      F   26  B   \n",
       "5 Woodsie 22                      50             NS    NS_50      F   27  B   \n",
       "6 Woodsie 38                      53             NS    NS_53      F   28  B   \n",
       "  Category     Variable Value  \n",
       "1 AL Biomarker Cortisol 106.118\n",
       "2 AL Biomarker Cortisol  81.722\n",
       "3 AL Biomarker Cortisol  86.759\n",
       "4 AL Biomarker Cortisol  92.002\n",
       "5 AL Biomarker Cortisol 150.650\n",
       "6 AL Biomarker Cortisol 137.048"
      ]
     },
     "metadata": {},
     "output_type": "display_data"
    }
   ],
   "source": [
    "# creating all dfs to be analyzed\n",
    "nonsmoker_df = allostatic_loading_df %>%\n",
    "    # using a pipe (%>%) to filter the group column in the df for non-smokers only\n",
    "    filter(Group == \"NS\")\n",
    "smoker_df = allostatic_loading_df %>%\n",
    "    filter(Group == \"CS\")\n",
    "\n",
    "# splitting the df based on group and race, so to make the code more efficient\n",
    "split_allostatic_df = allostatic_loading_df %>%\n",
    "    # grouping by group then race\n",
    "    group_by(Group, Race) %>%\n",
    "    # splitting the df based on those variables\n",
    "    group_split()\n",
    "\n",
    "black_nonsmoker_df = split_allostatic_df[[3]]\n",
    "black_smoker_df = split_allostatic_df[[1]]\n",
    "white_nonsmoker_df = split_allostatic_df[[4]]\n",
    "white_smoker_df = split_allostatic_df[[2]]\n",
    "\n",
    "# viewing one of the dataframes \n",
    "head(black_nonsmoker_df)"
   ]
  },
  {
   "cell_type": "code",
   "execution_count": 4,
   "id": "bc543f56",
   "metadata": {},
   "outputs": [],
   "source": [
    "mediator_score = function(df){\n",
    "    # always use these next lines to describe the inputs, outputs, and purpose of your function\n",
    "    \n",
    "    # \"\"\"\n",
    "    # Creating a scoring function for each mediator.\n",
    "    # :param (input): initial df (df)\n",
    "    # :output: df containing the variable (biomarker) name, subject ID, and score\n",
    "    # \"\"\"\n",
    "    \n",
    "    # creating an empty df to store values\n",
    "    score_df = data.frame()\n",
    "    \n",
    "    # getting all variable names for loop to iterate through\n",
    "    mediators = unique(df$Variable)\n",
    "    \n",
    "    # your iterator (in this case 'i') can be any letter or word, but typically in computer science i or j are used\n",
    "    for (i in 1:length(mediators)){\n",
    "\n",
    "        # filtering df for each mediator\n",
    "        filtered_df = df %>%\n",
    "            filter(Variable == mediators[i])\n",
    "        \n",
    "        # now iterating through each value of the filtered_df, since we want to access each value\n",
    "        for (j in 1:length(filtered_df$Value)){\n",
    "\n",
    "            # score = (mediator value - mediator min)/ (mediator max - mediator min)\n",
    "            mediator_score_formula = (filtered_df$Value[j] - min(filtered_df$Value))/(max(filtered_df$Value) - min(filtered_df$Value))\n",
    "\n",
    "            # storing mediator, subject id, and score\n",
    "            values_vector = cbind(mediators[i], df$Subject_ID[j], mediator_score_formula)\n",
    "            score_df = rbind(score_df, values_vector)\n",
    "        }\n",
    "    }\n",
    "    \n",
    "    # renaming columns\n",
    "    colnames(score_df) = c(\"Variable\", \"Subject_ID\", \"Mediator_Score\")\n",
    "    \n",
    "    # for some reason the Mediator_Score is a character type, so changing to a numeric\n",
    "    score_df$Mediator_Score = as.numeric(score_df$Mediator_Score)\n",
    "    \n",
    "    return(score_df)\n",
    "}"
   ]
  },
  {
   "cell_type": "code",
   "execution_count": 5,
   "id": "e38816c1",
   "metadata": {},
   "outputs": [
    {
     "data": {
      "text/html": [
       "<table class=\"dataframe\">\n",
       "<caption>A data.frame: 6 × 3</caption>\n",
       "<thead>\n",
       "\t<tr><th></th><th scope=col>Variable</th><th scope=col>Subject_ID</th><th scope=col>Mediator_Score</th></tr>\n",
       "\t<tr><th></th><th scope=col>&lt;chr&gt;</th><th scope=col>&lt;chr&gt;</th><th scope=col>&lt;dbl&gt;</th></tr>\n",
       "</thead>\n",
       "<tbody>\n",
       "\t<tr><th scope=row>1</th><td>Cortisol</td><td>NS_34</td><td>0.02198360</td></tr>\n",
       "\t<tr><th scope=row>2</th><td>Cortisol</td><td>NS_35</td><td>0.03002492</td></tr>\n",
       "\t<tr><th scope=row>3</th><td>Cortisol</td><td>NS_36</td><td>0.22051964</td></tr>\n",
       "\t<tr><th scope=row>4</th><td>Cortisol</td><td>NS_37</td><td>0.35061670</td></tr>\n",
       "\t<tr><th scope=row>5</th><td>Cortisol</td><td>NS_38</td><td>0.99352907</td></tr>\n",
       "\t<tr><th scope=row>6</th><td>Cortisol</td><td>NS_39</td><td>0.26660135</td></tr>\n",
       "</tbody>\n",
       "</table>\n"
      ],
      "text/latex": [
       "A data.frame: 6 × 3\n",
       "\\begin{tabular}{r|lll}\n",
       "  & Variable & Subject\\_ID & Mediator\\_Score\\\\\n",
       "  & <chr> & <chr> & <dbl>\\\\\n",
       "\\hline\n",
       "\t1 & Cortisol & NS\\_34 & 0.02198360\\\\\n",
       "\t2 & Cortisol & NS\\_35 & 0.03002492\\\\\n",
       "\t3 & Cortisol & NS\\_36 & 0.22051964\\\\\n",
       "\t4 & Cortisol & NS\\_37 & 0.35061670\\\\\n",
       "\t5 & Cortisol & NS\\_38 & 0.99352907\\\\\n",
       "\t6 & Cortisol & NS\\_39 & 0.26660135\\\\\n",
       "\\end{tabular}\n"
      ],
      "text/markdown": [
       "\n",
       "A data.frame: 6 × 3\n",
       "\n",
       "| <!--/--> | Variable &lt;chr&gt; | Subject_ID &lt;chr&gt; | Mediator_Score &lt;dbl&gt; |\n",
       "|---|---|---|---|\n",
       "| 1 | Cortisol | NS_34 | 0.02198360 |\n",
       "| 2 | Cortisol | NS_35 | 0.03002492 |\n",
       "| 3 | Cortisol | NS_36 | 0.22051964 |\n",
       "| 4 | Cortisol | NS_37 | 0.35061670 |\n",
       "| 5 | Cortisol | NS_38 | 0.99352907 |\n",
       "| 6 | Cortisol | NS_39 | 0.26660135 |\n",
       "\n"
      ],
      "text/plain": [
       "  Variable Subject_ID Mediator_Score\n",
       "1 Cortisol NS_34      0.02198360    \n",
       "2 Cortisol NS_35      0.03002492    \n",
       "3 Cortisol NS_36      0.22051964    \n",
       "4 Cortisol NS_37      0.35061670    \n",
       "5 Cortisol NS_38      0.99352907    \n",
       "6 Cortisol NS_39      0.26660135    "
      ]
     },
     "metadata": {},
     "output_type": "display_data"
    }
   ],
   "source": [
    "# calling mediator_score function\n",
    "NS_mediator_score_df = mediator_score(nonsmoker_df)\n",
    "CS_mediator_score_df = mediator_score(smoker_df)\n",
    "black_NS_mediator_score_df = mediator_score(black_nonsmoker_df)\n",
    "black_CS_mediator_score_df = mediator_score(black_smoker_df)\n",
    "white_NS_mediator_score_df = mediator_score(white_nonsmoker_df)\n",
    "white_CS_mediator_score_df = mediator_score(white_smoker_df)\n",
    "\n",
    "# viewing results of one of the dataframes\n",
    "head(NS_mediator_score_df)"
   ]
  },
  {
   "cell_type": "code",
   "execution_count": 6,
   "id": "34fdb883",
   "metadata": {},
   "outputs": [],
   "source": [
    "allostatic_score = function(mediator_score_df, Group, Covariate){\n",
    "    # \"\"\"\n",
    "    # Creating a scoring function for allostatic load.\n",
    "    # :param (input): mediator score df (mediator_score_df), smoking group of subjects, race of subjects\n",
    "    # :output: df containing the group, covariate (race) either black or white, and allostatic score\n",
    "    # \"\"\"\n",
    "    \n",
    "    # creating a vector for variables that increase atherosclerotic risk\n",
    "    allostatic_load_biomarkers = c('Cortisol','Noradrenaline','Hba1c','Fibrinogen','CRP')\n",
    "    \n",
    "    # filtering df for these allostatic load biomarkers\n",
    "    load_df = mediator_score_df %>%\n",
    "        filter(Variable %in% allostatic_load_biomarkers) \n",
    "    \n",
    "    # filtering for HDL\n",
    "    HDL_df = mediator_score_df %>%\n",
    "        filter(Variable == \"HDL\") %>%\n",
    "        select(-Variable)\n",
    "    \n",
    "    # summing the mediator scores for biomarkers that increase atherosclerotic risk\n",
    "    biomarker_load_df = load_df %>%\n",
    "        group_by(Subject_ID) %>%\n",
    "        summarize(Mediator_Score_Sum = sum(Mediator_Score))\n",
    "    \n",
    "    # allostatic score = sum of scores of all load biomarkers for a subject - individual subject HDL score\n",
    "    # storing this value in the df as another col\n",
    "    allostatic_load_df = data.frame(Subject_ID = biomarker_load_df$Subject_ID, \n",
    "                                    Allostatic_Score = biomarker_load_df$Mediator_Score_Sum - HDL_df$Mediator_Score)\n",
    "    \n",
    "    # putting these values into a vector and adding to the df\n",
    "    score_df = cbind(Group, Covariate, allostatic_load_df)\n",
    "    \n",
    "    return(score_df)\n",
    "}"
   ]
  },
  {
   "cell_type": "code",
   "execution_count": 7,
   "id": "4897a78e",
   "metadata": {},
   "outputs": [
    {
     "data": {
      "text/html": [
       "<table class=\"dataframe\">\n",
       "<caption>A data.frame: 6 × 4</caption>\n",
       "<thead>\n",
       "\t<tr><th></th><th scope=col>Group</th><th scope=col>Covariate</th><th scope=col>Subject_ID</th><th scope=col>Allostatic_Score</th></tr>\n",
       "\t<tr><th></th><th scope=col>&lt;chr&gt;</th><th scope=col>&lt;lgl&gt;</th><th scope=col>&lt;chr&gt;</th><th scope=col>&lt;dbl&gt;</th></tr>\n",
       "</thead>\n",
       "<tbody>\n",
       "\t<tr><th scope=row>1</th><td>NS</td><td>NA</td><td>NS_34</td><td>-0.1958642</td></tr>\n",
       "\t<tr><th scope=row>2</th><td>NS</td><td>NA</td><td>NS_35</td><td> 0.9714598</td></tr>\n",
       "\t<tr><th scope=row>3</th><td>NS</td><td>NA</td><td>NS_36</td><td>-0.1828915</td></tr>\n",
       "\t<tr><th scope=row>4</th><td>NS</td><td>NA</td><td>NS_37</td><td> 1.5662818</td></tr>\n",
       "\t<tr><th scope=row>5</th><td>NS</td><td>NA</td><td>NS_38</td><td> 2.5698663</td></tr>\n",
       "\t<tr><th scope=row>6</th><td>NS</td><td>NA</td><td>NS_39</td><td> 1.5566195</td></tr>\n",
       "</tbody>\n",
       "</table>\n"
      ],
      "text/latex": [
       "A data.frame: 6 × 4\n",
       "\\begin{tabular}{r|llll}\n",
       "  & Group & Covariate & Subject\\_ID & Allostatic\\_Score\\\\\n",
       "  & <chr> & <lgl> & <chr> & <dbl>\\\\\n",
       "\\hline\n",
       "\t1 & NS & NA & NS\\_34 & -0.1958642\\\\\n",
       "\t2 & NS & NA & NS\\_35 &  0.9714598\\\\\n",
       "\t3 & NS & NA & NS\\_36 & -0.1828915\\\\\n",
       "\t4 & NS & NA & NS\\_37 &  1.5662818\\\\\n",
       "\t5 & NS & NA & NS\\_38 &  2.5698663\\\\\n",
       "\t6 & NS & NA & NS\\_39 &  1.5566195\\\\\n",
       "\\end{tabular}\n"
      ],
      "text/markdown": [
       "\n",
       "A data.frame: 6 × 4\n",
       "\n",
       "| <!--/--> | Group &lt;chr&gt; | Covariate &lt;lgl&gt; | Subject_ID &lt;chr&gt; | Allostatic_Score &lt;dbl&gt; |\n",
       "|---|---|---|---|---|\n",
       "| 1 | NS | NA | NS_34 | -0.1958642 |\n",
       "| 2 | NS | NA | NS_35 |  0.9714598 |\n",
       "| 3 | NS | NA | NS_36 | -0.1828915 |\n",
       "| 4 | NS | NA | NS_37 |  1.5662818 |\n",
       "| 5 | NS | NA | NS_38 |  2.5698663 |\n",
       "| 6 | NS | NA | NS_39 |  1.5566195 |\n",
       "\n"
      ],
      "text/plain": [
       "  Group Covariate Subject_ID Allostatic_Score\n",
       "1 NS    NA        NS_34      -0.1958642      \n",
       "2 NS    NA        NS_35       0.9714598      \n",
       "3 NS    NA        NS_36      -0.1828915      \n",
       "4 NS    NA        NS_37       1.5662818      \n",
       "5 NS    NA        NS_38       2.5698663      \n",
       "6 NS    NA        NS_39       1.5566195      "
      ]
     },
     "metadata": {},
     "output_type": "display_data"
    }
   ],
   "source": [
    "# calling allostatic_score function\n",
    "# these first two lines of code have \"NA\" values for race, since we weren't looking at race as a covariate until \n",
    "# the dfs were stratified later by race\n",
    "NS_allostatic_score_df = allostatic_score(NS_mediator_score_df, \"NS\", NA)\n",
    "CS_allostatic_score_df = allostatic_score(CS_mediator_score_df, \"CS\", NA)\n",
    "black_NS_allostatic_score_df = allostatic_score(black_NS_mediator_score_df, \"NS\", \"B\")\n",
    "black_CS_allostatic_score_df = allostatic_score(black_CS_mediator_score_df, \"CS\", \"B\")\n",
    "white_NS_allostatic_score_df = allostatic_score(white_NS_mediator_score_df, \"NS\", \"W\")\n",
    "white_CS_allostatic_score_df = allostatic_score(white_CS_mediator_score_df, \"CS\", \"W\")\n",
    "\n",
    "# viewing one of the outputs\n",
    "head(NS_allostatic_score_df)"
   ]
  },
  {
   "cell_type": "code",
   "execution_count": 8,
   "id": "ac049042",
   "metadata": {},
   "outputs": [
    {
     "data": {
      "text/html": [
       "<table class=\"dataframe\">\n",
       "<caption>A data.frame: 6 × 4</caption>\n",
       "<thead>\n",
       "\t<tr><th></th><th scope=col>Group</th><th scope=col>Covariate</th><th scope=col>Subject_ID</th><th scope=col>Allostatic_Score</th></tr>\n",
       "\t<tr><th></th><th scope=col>&lt;chr&gt;</th><th scope=col>&lt;chr&gt;</th><th scope=col>&lt;chr&gt;</th><th scope=col>&lt;dbl&gt;</th></tr>\n",
       "</thead>\n",
       "<tbody>\n",
       "\t<tr><th scope=row>1</th><td>NS</td><td>B </td><td>NS_50</td><td>3.414885</td></tr>\n",
       "\t<tr><th scope=row>2</th><td>NS</td><td>W </td><td>NS_41</td><td>3.308548</td></tr>\n",
       "\t<tr><th scope=row>3</th><td>NS</td><td>W </td><td>NS_38</td><td>3.164820</td></tr>\n",
       "\t<tr><th scope=row>4</th><td>NS</td><td>W </td><td>NS_49</td><td>2.843204</td></tr>\n",
       "\t<tr><th scope=row>5</th><td>CS</td><td>NA</td><td>CS_32</td><td>2.815147</td></tr>\n",
       "\t<tr><th scope=row>6</th><td>NS</td><td>B </td><td>NS_62</td><td>2.810847</td></tr>\n",
       "</tbody>\n",
       "</table>\n"
      ],
      "text/latex": [
       "A data.frame: 6 × 4\n",
       "\\begin{tabular}{r|llll}\n",
       "  & Group & Covariate & Subject\\_ID & Allostatic\\_Score\\\\\n",
       "  & <chr> & <chr> & <chr> & <dbl>\\\\\n",
       "\\hline\n",
       "\t1 & NS & B  & NS\\_50 & 3.414885\\\\\n",
       "\t2 & NS & W  & NS\\_41 & 3.308548\\\\\n",
       "\t3 & NS & W  & NS\\_38 & 3.164820\\\\\n",
       "\t4 & NS & W  & NS\\_49 & 2.843204\\\\\n",
       "\t5 & CS & NA & CS\\_32 & 2.815147\\\\\n",
       "\t6 & NS & B  & NS\\_62 & 2.810847\\\\\n",
       "\\end{tabular}\n"
      ],
      "text/markdown": [
       "\n",
       "A data.frame: 6 × 4\n",
       "\n",
       "| <!--/--> | Group &lt;chr&gt; | Covariate &lt;chr&gt; | Subject_ID &lt;chr&gt; | Allostatic_Score &lt;dbl&gt; |\n",
       "|---|---|---|---|---|\n",
       "| 1 | NS | B  | NS_50 | 3.414885 |\n",
       "| 2 | NS | W  | NS_41 | 3.308548 |\n",
       "| 3 | NS | W  | NS_38 | 3.164820 |\n",
       "| 4 | NS | W  | NS_49 | 2.843204 |\n",
       "| 5 | CS | NA | CS_32 | 2.815147 |\n",
       "| 6 | NS | B  | NS_62 | 2.810847 |\n",
       "\n"
      ],
      "text/plain": [
       "  Group Covariate Subject_ID Allostatic_Score\n",
       "1 NS    B         NS_50      3.414885        \n",
       "2 NS    W         NS_41      3.308548        \n",
       "3 NS    W         NS_38      3.164820        \n",
       "4 NS    W         NS_49      2.843204        \n",
       "5 CS    NA        CS_32      2.815147        \n",
       "6 NS    B         NS_62      2.810847        "
      ]
     },
     "metadata": {},
     "output_type": "display_data"
    }
   ],
   "source": [
    "# creating 1 df for the allostatic scores\n",
    "# using the rbind function to combine by rows\n",
    "allostatic_score_df = rbind(NS_allostatic_score_df, CS_allostatic_score_df, black_NS_allostatic_score_df, \n",
    "                            black_CS_allostatic_score_df, white_NS_allostatic_score_df, \n",
    "                            white_CS_allostatic_score_df) %>%\n",
    "    # sorting the df from highest to lowest for easier viewing\n",
    "    arrange(-Allostatic_Score)\n",
    "\n",
    "head(allostatic_score_df)"
   ]
  },
  {
   "cell_type": "code",
   "execution_count": 9,
   "id": "df5f355a",
   "metadata": {},
   "outputs": [
    {
     "data": {
      "image/png": "[encoded data removed]",
      "text/plain": [
       "plot without title"
      ]
     },
     "metadata": {
      "image/png": {
       "height": 420,
       "width": 600
      }
     },
     "output_type": "display_data"
    }
   ],
   "source": [
    "# just because I'm interested I wanted to see how these groups were distributed so I made this visualization\n",
    "options(repr.plot.width=10, repr.plot.height=7) #changing size\n",
    "ggplot(data = allostatic_score_df, aes(x = Covariate, y = Allostatic_Score, color = Group)) +\n",
    "  #stat_boxplot(geom = \"errorbar\", width = 0.2) + # changes width of whiskers\n",
    "  geom_boxplot(aes(fill = Group), alpha = 0.7) #+ \n",
    "  #geom_point(position = position_jitter(w = 0.1)) #+ \n",
    "  #facet_wrap(~Group)"
   ]
  },
  {
   "cell_type": "code",
   "execution_count": null,
   "id": "a8533b0c",
   "metadata": {},
   "outputs": [],
   "source": []
  }
 ],
 "metadata": {
  "kernelspec": {
   "display_name": "R",
   "language": "R",
   "name": "ir"
  },
  "language_info": {
   "codemirror_mode": "r",
   "file_extension": ".r",
   "mimetype": "text/x-r-source",
   "name": "R",
   "pygments_lexer": "r",
   "version": "4.1.2"
  }
 },
 "nbformat": 4,
 "nbformat_minor": 5
}
