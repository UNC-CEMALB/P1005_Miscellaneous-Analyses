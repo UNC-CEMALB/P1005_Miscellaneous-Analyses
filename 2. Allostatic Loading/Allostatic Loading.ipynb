{
 "cells": [
  {
   "cell_type": "code",
   "execution_count": 4,
   "id": "e3b8aa9d",
   "metadata": {},
   "outputs": [],
   "source": [
    "#Output = ('/Users/alexis/Library/CloudStorage/OneDrive-UniversityofNorthCarolinaatChapelHill/CEMALB_DataAnalysisPM/Projects/P1005. Miscellaneous Analyses/P1005.2. Allostatic Loading/P1005.2.3. Analyses/P1005.2.3.1 Allostatic Loading/Output')\n",
    "cur_date = \"061822\"\n",
    "\n",
    "library(readxl)\n",
    "library(tidyverse)\n",
    "library(reshape2)\n",
    "\n",
    "\n",
    "# reading in file\n",
    "allostatic_loading_df = data.frame(read_excel(\"Input/Allostatic_Mediator_Data_061722ap.xlsx\", sheet = 2))"
   ]
  },
  {
   "cell_type": "code",
   "execution_count": 5,
   "id": "a8478f01",
   "metadata": {},
   "outputs": [
    {
     "data": {
      "text/html": [
       "<table class=\"dataframe\">\n",
       "<caption>A data.frame: 6 × 11</caption>\n",
       "<thead>\n",
       "\t<tr><th></th><th scope=col>Study</th><th scope=col>Original_Subject_Number</th><th scope=col>Subject_Number</th><th scope=col>Group</th><th scope=col>Subject_ID</th><th scope=col>Sex</th><th scope=col>Age</th><th scope=col>Race</th><th scope=col>Category</th><th scope=col>Variable</th><th scope=col>Value</th></tr>\n",
       "\t<tr><th></th><th scope=col>&lt;chr&gt;</th><th scope=col>&lt;dbl&gt;</th><th scope=col>&lt;dbl&gt;</th><th scope=col>&lt;chr&gt;</th><th scope=col>&lt;chr&gt;</th><th scope=col>&lt;chr&gt;</th><th scope=col>&lt;dbl&gt;</th><th scope=col>&lt;chr&gt;</th><th scope=col>&lt;chr&gt;</th><th scope=col>&lt;chr&gt;</th><th scope=col>&lt;dbl&gt;</th></tr>\n",
       "</thead>\n",
       "<tbody>\n",
       "\t<tr><th scope=row>1</th><td>FM2       </td><td> 97</td><td>1</td><td>CS</td><td>CS_1</td><td>M</td><td>18</td><td>B</td><td>AL Biomarker</td><td>Cortisol</td><td>140.304</td></tr>\n",
       "\t<tr><th scope=row>2</th><td>FM2       </td><td> 99</td><td>2</td><td>CS</td><td>CS_2</td><td>F</td><td>20</td><td>W</td><td>AL Biomarker</td><td>Cortisol</td><td>246.542</td></tr>\n",
       "\t<tr><th scope=row>3</th><td>FM2       </td><td>101</td><td>3</td><td>CS</td><td>CS_3</td><td>F</td><td>20</td><td>W</td><td>AL Biomarker</td><td>Cortisol</td><td> 50.878</td></tr>\n",
       "\t<tr><th scope=row>4</th><td>FM2       </td><td> 98</td><td>4</td><td>CS</td><td>CS_4</td><td>F</td><td>21</td><td>W</td><td>AL Biomarker</td><td>Cortisol</td><td>137.387</td></tr>\n",
       "\t<tr><th scope=row>5</th><td>TCORS LAIV</td><td> 39</td><td>5</td><td>CS</td><td>CS_5</td><td>M</td><td>21</td><td>W</td><td>AL Biomarker</td><td>Cortisol</td><td>116.602</td></tr>\n",
       "\t<tr><th scope=row>6</th><td>FM2       </td><td>100</td><td>6</td><td>CS</td><td>CS_6</td><td>F</td><td>22</td><td>W</td><td>AL Biomarker</td><td>Cortisol</td><td> 54.030</td></tr>\n",
       "</tbody>\n",
       "</table>\n"
      ],
      "text/latex": [
       "A data.frame: 6 × 11\n",
       "\\begin{tabular}{r|lllllllllll}\n",
       "  & Study & Original\\_Subject\\_Number & Subject\\_Number & Group & Subject\\_ID & Sex & Age & Race & Category & Variable & Value\\\\\n",
       "  & <chr> & <dbl> & <dbl> & <chr> & <chr> & <chr> & <dbl> & <chr> & <chr> & <chr> & <dbl>\\\\\n",
       "\\hline\n",
       "\t1 & FM2        &  97 & 1 & CS & CS\\_1 & M & 18 & B & AL Biomarker & Cortisol & 140.304\\\\\n",
       "\t2 & FM2        &  99 & 2 & CS & CS\\_2 & F & 20 & W & AL Biomarker & Cortisol & 246.542\\\\\n",
       "\t3 & FM2        & 101 & 3 & CS & CS\\_3 & F & 20 & W & AL Biomarker & Cortisol &  50.878\\\\\n",
       "\t4 & FM2        &  98 & 4 & CS & CS\\_4 & F & 21 & W & AL Biomarker & Cortisol & 137.387\\\\\n",
       "\t5 & TCORS LAIV &  39 & 5 & CS & CS\\_5 & M & 21 & W & AL Biomarker & Cortisol & 116.602\\\\\n",
       "\t6 & FM2        & 100 & 6 & CS & CS\\_6 & F & 22 & W & AL Biomarker & Cortisol &  54.030\\\\\n",
       "\\end{tabular}\n"
      ],
      "text/markdown": [
       "\n",
       "A data.frame: 6 × 11\n",
       "\n",
       "| <!--/--> | Study &lt;chr&gt; | Original_Subject_Number &lt;dbl&gt; | Subject_Number &lt;dbl&gt; | Group &lt;chr&gt; | Subject_ID &lt;chr&gt; | Sex &lt;chr&gt; | Age &lt;dbl&gt; | Race &lt;chr&gt; | Category &lt;chr&gt; | Variable &lt;chr&gt; | Value &lt;dbl&gt; |\n",
       "|---|---|---|---|---|---|---|---|---|---|---|---|\n",
       "| 1 | FM2        |  97 | 1 | CS | CS_1 | M | 18 | B | AL Biomarker | Cortisol | 140.304 |\n",
       "| 2 | FM2        |  99 | 2 | CS | CS_2 | F | 20 | W | AL Biomarker | Cortisol | 246.542 |\n",
       "| 3 | FM2        | 101 | 3 | CS | CS_3 | F | 20 | W | AL Biomarker | Cortisol |  50.878 |\n",
       "| 4 | FM2        |  98 | 4 | CS | CS_4 | F | 21 | W | AL Biomarker | Cortisol | 137.387 |\n",
       "| 5 | TCORS LAIV |  39 | 5 | CS | CS_5 | M | 21 | W | AL Biomarker | Cortisol | 116.602 |\n",
       "| 6 | FM2        | 100 | 6 | CS | CS_6 | F | 22 | W | AL Biomarker | Cortisol |  54.030 |\n",
       "\n"
      ],
      "text/plain": [
       "  Study      Original_Subject_Number Subject_Number Group Subject_ID Sex Age\n",
       "1 FM2         97                     1              CS    CS_1       M   18 \n",
       "2 FM2         99                     2              CS    CS_2       F   20 \n",
       "3 FM2        101                     3              CS    CS_3       F   20 \n",
       "4 FM2         98                     4              CS    CS_4       F   21 \n",
       "5 TCORS LAIV  39                     5              CS    CS_5       M   21 \n",
       "6 FM2        100                     6              CS    CS_6       F   22 \n",
       "  Race Category     Variable Value  \n",
       "1 B    AL Biomarker Cortisol 140.304\n",
       "2 W    AL Biomarker Cortisol 246.542\n",
       "3 W    AL Biomarker Cortisol  50.878\n",
       "4 W    AL Biomarker Cortisol 137.387\n",
       "5 W    AL Biomarker Cortisol 116.602\n",
       "6 W    AL Biomarker Cortisol  54.030"
      ]
     },
     "metadata": {},
     "output_type": "display_data"
    }
   ],
   "source": [
    "# viewing the dataset initially helps ensure it was read it properly and gives a view of what it looks like\n",
    "head(allostatic_loading_df)"
   ]
  },
  {
   "cell_type": "markdown",
   "id": "2fb8d603",
   "metadata": {},
   "source": [
    "Goal is to generate allostatic loading scores these biomarkers to quantify the chronic stress put on the body from tobacco smoke exposure by looking at...\n",
    "1. Non-smokers\n",
    "2. Smokers\n",
    "3. etc...\n",
    "\n",
    "**Prior to analysis always describe what the aim of the analysis is, so you're clear and those reviewing your code are also clear. "
   ]
  },
  {
   "cell_type": "code",
   "execution_count": null,
   "id": "bc543f56",
   "metadata": {},
   "outputs": [],
   "source": [
    "score = function(df){\n",
    "    # always use these next lines to describe the inputs, outputs, and purpose of your function\n",
    "    \n",
    "    # \"\"\"\n",
    "    # Creating a scoring function for allostatic load.\n",
    "    # :param (input): initial df (df)\n",
    "    # :output: df containing the variable name of the subsetted df, biomarker name, and score\n",
    "    # \"\"\"\n",
    "    \n",
    "    # creating an empty df to store values\n",
    "    empty_score_df = data.frame()\n",
    "    # getting all variable names for loop to iterate through\n",
    "    mediators = unique(allostatic_loading_df$Variable)\n",
    "    \n",
    "    # your iterator (in this case 'i') can be any letter or word, but typically in computer science i or j are used\n",
    "    for (i in 1:length(mediators)){\n",
    "        \n",
    "    }\n",
    "    \n",
    "}"
   ]
  },
  {
   "cell_type": "code",
   "execution_count": 6,
   "id": "71ccc739",
   "metadata": {},
   "outputs": [],
   "source": [
    "# creating non-smoker df\n",
    "nonsmoker_df = allostatic_loading_df %>%\n",
    "    # using a pipe (%>%) to filter the group column in the df for non-smokers only\n",
    "    filter(Group == \"NS\")"
   ]
  },
  {
   "cell_type": "code",
   "execution_count": null,
   "id": "e38816c1",
   "metadata": {},
   "outputs": [],
   "source": []
  }
 ],
 "metadata": {
  "kernelspec": {
   "display_name": "R",
   "language": "R",
   "name": "ir"
  },
  "language_info": {
   "codemirror_mode": "r",
   "file_extension": ".r",
   "mimetype": "text/x-r-source",
   "name": "R",
   "pygments_lexer": "r",
   "version": "4.1.2"
  }
 },
 "nbformat": 4,
 "nbformat_minor": 5
}
