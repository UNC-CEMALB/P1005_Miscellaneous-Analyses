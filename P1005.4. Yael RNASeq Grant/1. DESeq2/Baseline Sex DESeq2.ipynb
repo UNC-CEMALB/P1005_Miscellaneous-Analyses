{
 "cells": [
  {
   "cell_type": "code",
   "execution_count": 1,
   "id": "aa5e4876-2bc1-495d-b510-ec05e3a52a2b",
   "metadata": {},
   "outputs": [
    {
     "name": "stderr",
     "output_type": "stream",
     "text": [
      "── \u001b[1mAttaching core tidyverse packages\u001b[22m ──────────────────────── tidyverse 2.0.0 ──\n",
      "\u001b[32m✔\u001b[39m \u001b[34mdplyr    \u001b[39m 1.1.3     \u001b[32m✔\u001b[39m \u001b[34mreadr    \u001b[39m 2.1.4\n",
      "\u001b[32m✔\u001b[39m \u001b[34mforcats  \u001b[39m 1.0.0     \u001b[32m✔\u001b[39m \u001b[34mstringr  \u001b[39m 1.5.0\n",
      "\u001b[32m✔\u001b[39m \u001b[34mggplot2  \u001b[39m 3.4.3     \u001b[32m✔\u001b[39m \u001b[34mtibble   \u001b[39m 3.2.1\n",
      "\u001b[32m✔\u001b[39m \u001b[34mlubridate\u001b[39m 1.9.2     \u001b[32m✔\u001b[39m \u001b[34mtidyr    \u001b[39m 1.3.0\n",
      "\u001b[32m✔\u001b[39m \u001b[34mpurrr    \u001b[39m 1.0.2     \n",
      "── \u001b[1mConflicts\u001b[22m ────────────────────────────────────────── tidyverse_conflicts() ──\n",
      "\u001b[31m✖\u001b[39m \u001b[34mdplyr\u001b[39m::\u001b[32mfilter()\u001b[39m masks \u001b[34mstats\u001b[39m::filter()\n",
      "\u001b[31m✖\u001b[39m \u001b[34mdplyr\u001b[39m::\u001b[32mlag()\u001b[39m    masks \u001b[34mstats\u001b[39m::lag()\n",
      "\u001b[36mℹ\u001b[39m Use the conflicted package (\u001b[3m\u001b[34m<http://conflicted.r-lib.org/>\u001b[39m\u001b[23m) to force all conflicts to become errors\n",
      "\n",
      "Attaching package: ‘reshape2’\n",
      "\n",
      "\n",
      "The following object is masked from ‘package:tidyr’:\n",
      "\n",
      "    smiths\n",
      "\n",
      "\n",
      "\n",
      "Attaching package: ‘data.table’\n",
      "\n",
      "\n",
      "The following objects are masked from ‘package:reshape2’:\n",
      "\n",
      "    dcast, melt\n",
      "\n",
      "\n",
      "The following objects are masked from ‘package:lubridate’:\n",
      "\n",
      "    hour, isoweek, mday, minute, month, quarter, second, wday, week,\n",
      "    yday, year\n",
      "\n",
      "\n",
      "The following objects are masked from ‘package:dplyr’:\n",
      "\n",
      "    between, first, last\n",
      "\n",
      "\n",
      "The following object is masked from ‘package:purrr’:\n",
      "\n",
      "    transpose\n",
      "\n",
      "\n",
      "Welcome! Want to learn more? See two factoextra-related books at https://goo.gl/ve3WBa\n",
      "\n",
      "Loading required package: S4Vectors\n",
      "\n",
      "Loading required package: stats4\n",
      "\n",
      "Loading required package: BiocGenerics\n",
      "\n",
      "\n",
      "Attaching package: ‘BiocGenerics’\n",
      "\n",
      "\n",
      "The following objects are masked from ‘package:lubridate’:\n",
      "\n",
      "    intersect, setdiff, union\n",
      "\n",
      "\n",
      "The following objects are masked from ‘package:dplyr’:\n",
      "\n",
      "    combine, intersect, setdiff, union\n",
      "\n",
      "\n",
      "The following objects are masked from ‘package:stats’:\n",
      "\n",
      "    IQR, mad, sd, var, xtabs\n",
      "\n",
      "\n",
      "The following objects are masked from ‘package:base’:\n",
      "\n",
      "    anyDuplicated, aperm, append, as.data.frame, basename, cbind,\n",
      "    colnames, dirname, do.call, duplicated, eval, evalq, Filter, Find,\n",
      "    get, grep, grepl, intersect, is.unsorted, lapply, Map, mapply,\n",
      "    match, mget, order, paste, pmax, pmax.int, pmin, pmin.int,\n",
      "    Position, rank, rbind, Reduce, rownames, sapply, setdiff, sort,\n",
      "    table, tapply, union, unique, unsplit, which.max, which.min\n",
      "\n",
      "\n",
      "\n",
      "Attaching package: ‘S4Vectors’\n",
      "\n",
      "\n",
      "The following objects are masked from ‘package:data.table’:\n",
      "\n",
      "    first, second\n",
      "\n",
      "\n",
      "The following objects are masked from ‘package:lubridate’:\n",
      "\n",
      "    second, second<-\n",
      "\n",
      "\n",
      "The following objects are masked from ‘package:dplyr’:\n",
      "\n",
      "    first, rename\n",
      "\n",
      "\n",
      "The following object is masked from ‘package:tidyr’:\n",
      "\n",
      "    expand\n",
      "\n",
      "\n",
      "The following object is masked from ‘package:utils’:\n",
      "\n",
      "    findMatches\n",
      "\n",
      "\n",
      "The following objects are masked from ‘package:base’:\n",
      "\n",
      "    expand.grid, I, unname\n",
      "\n",
      "\n",
      "Loading required package: IRanges\n",
      "\n",
      "\n",
      "Attaching package: ‘IRanges’\n",
      "\n",
      "\n",
      "The following object is masked from ‘package:data.table’:\n",
      "\n",
      "    shift\n",
      "\n",
      "\n",
      "The following object is masked from ‘package:lubridate’:\n",
      "\n",
      "    %within%\n",
      "\n",
      "\n",
      "The following objects are masked from ‘package:dplyr’:\n",
      "\n",
      "    collapse, desc, slice\n",
      "\n",
      "\n",
      "The following object is masked from ‘package:purrr’:\n",
      "\n",
      "    reduce\n",
      "\n",
      "\n",
      "Loading required package: GenomicRanges\n",
      "\n",
      "Loading required package: GenomeInfoDb\n",
      "\n",
      "Loading required package: SummarizedExperiment\n",
      "\n",
      "Loading required package: MatrixGenerics\n",
      "\n",
      "Loading required package: matrixStats\n",
      "\n",
      "\n",
      "Attaching package: ‘matrixStats’\n",
      "\n",
      "\n",
      "The following object is masked from ‘package:dplyr’:\n",
      "\n",
      "    count\n",
      "\n",
      "\n",
      "\n",
      "Attaching package: ‘MatrixGenerics’\n",
      "\n",
      "\n",
      "The following objects are masked from ‘package:matrixStats’:\n",
      "\n",
      "    colAlls, colAnyNAs, colAnys, colAvgsPerRowSet, colCollapse,\n",
      "    colCounts, colCummaxs, colCummins, colCumprods, colCumsums,\n",
      "    colDiffs, colIQRDiffs, colIQRs, colLogSumExps, colMadDiffs,\n",
      "    colMads, colMaxs, colMeans2, colMedians, colMins, colOrderStats,\n",
      "    colProds, colQuantiles, colRanges, colRanks, colSdDiffs, colSds,\n",
      "    colSums2, colTabulates, colVarDiffs, colVars, colWeightedMads,\n",
      "    colWeightedMeans, colWeightedMedians, colWeightedSds,\n",
      "    colWeightedVars, rowAlls, rowAnyNAs, rowAnys, rowAvgsPerColSet,\n",
      "    rowCollapse, rowCounts, rowCummaxs, rowCummins, rowCumprods,\n",
      "    rowCumsums, rowDiffs, rowIQRDiffs, rowIQRs, rowLogSumExps,\n",
      "    rowMadDiffs, rowMads, rowMaxs, rowMeans2, rowMedians, rowMins,\n",
      "    rowOrderStats, rowProds, rowQuantiles, rowRanges, rowRanks,\n",
      "    rowSdDiffs, rowSds, rowSums2, rowTabulates, rowVarDiffs, rowVars,\n",
      "    rowWeightedMads, rowWeightedMeans, rowWeightedMedians,\n",
      "    rowWeightedSds, rowWeightedVars\n",
      "\n",
      "\n",
      "Loading required package: Biobase\n",
      "\n",
      "Welcome to Bioconductor\n",
      "\n",
      "    Vignettes contain introductory material; view with\n",
      "    'browseVignettes()'. To cite Bioconductor, see\n",
      "    'citation(\"Biobase\")', and for packages 'citation(\"pkgname\")'.\n",
      "\n",
      "\n",
      "\n",
      "Attaching package: ‘Biobase’\n",
      "\n",
      "\n",
      "The following object is masked from ‘package:MatrixGenerics’:\n",
      "\n",
      "    rowMedians\n",
      "\n",
      "\n",
      "The following objects are masked from ‘package:matrixStats’:\n",
      "\n",
      "    anyMissing, rowMedians\n",
      "\n",
      "\n"
     ]
    }
   ],
   "source": [
    "Output = ('/Users/alexis/Library/CloudStorage/OneDrive-UniversityofNorthCarolinaatChapelHill/CEMALB_DataAnalysisPM/Projects/P1005. Miscellaneous Analyses/P1005.6. Yael RNAseq Grant/P1005.6.3. Analyses/P1005.6.3.1 DESeq2/Output')\n",
    "cur_date = \"012324\"\n",
    "\n",
    "library(readxl)\n",
    "library(openxlsx)\n",
    "library(tidyverse)\n",
    "library(reshape2)\n",
    "library(data.table)\n",
    "library(factoextra)\n",
    "library(ggrepel)\n",
    "library(pheatmap)\n",
    "library(DESeq2)\n",
    "\n",
    "# reading in files\n",
    "count_df = data.frame(read_excel(\"Input/Yael_Counts_120223.xlsx\")) \n",
    "subject_info_df = data.frame(read_excel(\"Input/SubjectInfo_120223.xlsx\", sheet = 2))\n",
    "asthma_gene_list_df = data.frame(read_excel(\"Input/Paper Gene List.xlsx\"))"
   ]
  },
  {
   "cell_type": "code",
   "execution_count": 2,
   "id": "35b7d481-e0d4-4825-a944-c0fe759047ea",
   "metadata": {},
   "outputs": [
    {
     "data": {
      "text/html": [
       "<table class=\"dataframe\">\n",
       "<caption>A data.frame: 6 × 40</caption>\n",
       "<thead>\n",
       "\t<tr><th></th><th scope=col>Gene</th><th scope=col>X1911_1</th><th scope=col>X1911_19</th><th scope=col>X1911_2</th><th scope=col>X1911_20</th><th scope=col>X1911_21</th><th scope=col>X1911_22</th><th scope=col>X1911_3</th><th scope=col>X1911_4</th><th scope=col>X1911_55</th><th scope=col>⋯</th><th scope=col>X2009_14</th><th scope=col>X2009_15</th><th scope=col>X2009_2</th><th scope=col>X2009_3</th><th scope=col>X2009_4</th><th scope=col>X2009_5</th><th scope=col>X2009_6</th><th scope=col>X2009_7</th><th scope=col>X2009_8</th><th scope=col>X2009_9</th></tr>\n",
       "\t<tr><th></th><th scope=col>&lt;chr&gt;</th><th scope=col>&lt;dbl&gt;</th><th scope=col>&lt;dbl&gt;</th><th scope=col>&lt;dbl&gt;</th><th scope=col>&lt;dbl&gt;</th><th scope=col>&lt;dbl&gt;</th><th scope=col>&lt;dbl&gt;</th><th scope=col>&lt;dbl&gt;</th><th scope=col>&lt;dbl&gt;</th><th scope=col>&lt;dbl&gt;</th><th scope=col>⋯</th><th scope=col>&lt;dbl&gt;</th><th scope=col>&lt;dbl&gt;</th><th scope=col>&lt;dbl&gt;</th><th scope=col>&lt;dbl&gt;</th><th scope=col>&lt;dbl&gt;</th><th scope=col>&lt;dbl&gt;</th><th scope=col>&lt;dbl&gt;</th><th scope=col>&lt;dbl&gt;</th><th scope=col>&lt;dbl&gt;</th><th scope=col>&lt;dbl&gt;</th></tr>\n",
       "</thead>\n",
       "<tbody>\n",
       "\t<tr><th scope=row>1</th><td>CHAC1_1279 </td><td> 56</td><td> 20</td><td> 12</td><td> 22</td><td>  12</td><td> 25</td><td> 23</td><td> 17</td><td> 27</td><td>⋯</td><td> 57</td><td> 90</td><td> 14</td><td> 18</td><td> 33</td><td> 46</td><td> 17</td><td> 15</td><td> 36</td><td> 13</td></tr>\n",
       "\t<tr><th scope=row>2</th><td>GLRX_2674  </td><td>124</td><td>581</td><td>356</td><td>358</td><td> 661</td><td>657</td><td>304</td><td>561</td><td>421</td><td>⋯</td><td>530</td><td>462</td><td>599</td><td>503</td><td>677</td><td>272</td><td>447</td><td>477</td><td>475</td><td>454</td></tr>\n",
       "\t<tr><th scope=row>3</th><td>MEFV_4116  </td><td>  0</td><td>  0</td><td>  0</td><td>  0</td><td>   0</td><td>  1</td><td>  5</td><td>  0</td><td>  3</td><td>⋯</td><td>  0</td><td>  0</td><td>  0</td><td>  4</td><td>  0</td><td>  0</td><td>  0</td><td>  1</td><td>  0</td><td>  0</td></tr>\n",
       "\t<tr><th scope=row>4</th><td>STXBP1_6866</td><td> 55</td><td> 95</td><td>172</td><td>120</td><td> 121</td><td> 77</td><td>200</td><td> 97</td><td> 85</td><td>⋯</td><td>109</td><td> 99</td><td>121</td><td> 92</td><td> 71</td><td>132</td><td>136</td><td>143</td><td>165</td><td>183</td></tr>\n",
       "\t<tr><th scope=row>5</th><td>AKAP8L_196 </td><td> 93</td><td> 37</td><td> 35</td><td> 28</td><td>  50</td><td> 26</td><td> 41</td><td> 24</td><td> 33</td><td>⋯</td><td> 84</td><td> 53</td><td> 32</td><td> 20</td><td> 51</td><td> 26</td><td> 28</td><td> 34</td><td> 36</td><td> 33</td></tr>\n",
       "\t<tr><th scope=row>6</th><td>AKR1C1_199 </td><td>670</td><td>723</td><td>513</td><td>415</td><td>1112</td><td>418</td><td>559</td><td>385</td><td>767</td><td>⋯</td><td>836</td><td>492</td><td>642</td><td>524</td><td>381</td><td>185</td><td>546</td><td>529</td><td>214</td><td>400</td></tr>\n",
       "</tbody>\n",
       "</table>\n"
      ],
      "text/latex": [
       "A data.frame: 6 × 40\n",
       "\\begin{tabular}{r|lllllllllllllllllllll}\n",
       "  & Gene & X1911\\_1 & X1911\\_19 & X1911\\_2 & X1911\\_20 & X1911\\_21 & X1911\\_22 & X1911\\_3 & X1911\\_4 & X1911\\_55 & ⋯ & X2009\\_14 & X2009\\_15 & X2009\\_2 & X2009\\_3 & X2009\\_4 & X2009\\_5 & X2009\\_6 & X2009\\_7 & X2009\\_8 & X2009\\_9\\\\\n",
       "  & <chr> & <dbl> & <dbl> & <dbl> & <dbl> & <dbl> & <dbl> & <dbl> & <dbl> & <dbl> & ⋯ & <dbl> & <dbl> & <dbl> & <dbl> & <dbl> & <dbl> & <dbl> & <dbl> & <dbl> & <dbl>\\\\\n",
       "\\hline\n",
       "\t1 & CHAC1\\_1279  &  56 &  20 &  12 &  22 &   12 &  25 &  23 &  17 &  27 & ⋯ &  57 &  90 &  14 &  18 &  33 &  46 &  17 &  15 &  36 &  13\\\\\n",
       "\t2 & GLRX\\_2674   & 124 & 581 & 356 & 358 &  661 & 657 & 304 & 561 & 421 & ⋯ & 530 & 462 & 599 & 503 & 677 & 272 & 447 & 477 & 475 & 454\\\\\n",
       "\t3 & MEFV\\_4116   &   0 &   0 &   0 &   0 &    0 &   1 &   5 &   0 &   3 & ⋯ &   0 &   0 &   0 &   4 &   0 &   0 &   0 &   1 &   0 &   0\\\\\n",
       "\t4 & STXBP1\\_6866 &  55 &  95 & 172 & 120 &  121 &  77 & 200 &  97 &  85 & ⋯ & 109 &  99 & 121 &  92 &  71 & 132 & 136 & 143 & 165 & 183\\\\\n",
       "\t5 & AKAP8L\\_196  &  93 &  37 &  35 &  28 &   50 &  26 &  41 &  24 &  33 & ⋯ &  84 &  53 &  32 &  20 &  51 &  26 &  28 &  34 &  36 &  33\\\\\n",
       "\t6 & AKR1C1\\_199  & 670 & 723 & 513 & 415 & 1112 & 418 & 559 & 385 & 767 & ⋯ & 836 & 492 & 642 & 524 & 381 & 185 & 546 & 529 & 214 & 400\\\\\n",
       "\\end{tabular}\n"
      ],
      "text/markdown": [
       "\n",
       "A data.frame: 6 × 40\n",
       "\n",
       "| <!--/--> | Gene &lt;chr&gt; | X1911_1 &lt;dbl&gt; | X1911_19 &lt;dbl&gt; | X1911_2 &lt;dbl&gt; | X1911_20 &lt;dbl&gt; | X1911_21 &lt;dbl&gt; | X1911_22 &lt;dbl&gt; | X1911_3 &lt;dbl&gt; | X1911_4 &lt;dbl&gt; | X1911_55 &lt;dbl&gt; | ⋯ ⋯ | X2009_14 &lt;dbl&gt; | X2009_15 &lt;dbl&gt; | X2009_2 &lt;dbl&gt; | X2009_3 &lt;dbl&gt; | X2009_4 &lt;dbl&gt; | X2009_5 &lt;dbl&gt; | X2009_6 &lt;dbl&gt; | X2009_7 &lt;dbl&gt; | X2009_8 &lt;dbl&gt; | X2009_9 &lt;dbl&gt; |\n",
       "|---|---|---|---|---|---|---|---|---|---|---|---|---|---|---|---|---|---|---|---|---|---|\n",
       "| 1 | CHAC1_1279  |  56 |  20 |  12 |  22 |   12 |  25 |  23 |  17 |  27 | ⋯ |  57 |  90 |  14 |  18 |  33 |  46 |  17 |  15 |  36 |  13 |\n",
       "| 2 | GLRX_2674   | 124 | 581 | 356 | 358 |  661 | 657 | 304 | 561 | 421 | ⋯ | 530 | 462 | 599 | 503 | 677 | 272 | 447 | 477 | 475 | 454 |\n",
       "| 3 | MEFV_4116   |   0 |   0 |   0 |   0 |    0 |   1 |   5 |   0 |   3 | ⋯ |   0 |   0 |   0 |   4 |   0 |   0 |   0 |   1 |   0 |   0 |\n",
       "| 4 | STXBP1_6866 |  55 |  95 | 172 | 120 |  121 |  77 | 200 |  97 |  85 | ⋯ | 109 |  99 | 121 |  92 |  71 | 132 | 136 | 143 | 165 | 183 |\n",
       "| 5 | AKAP8L_196  |  93 |  37 |  35 |  28 |   50 |  26 |  41 |  24 |  33 | ⋯ |  84 |  53 |  32 |  20 |  51 |  26 |  28 |  34 |  36 |  33 |\n",
       "| 6 | AKR1C1_199  | 670 | 723 | 513 | 415 | 1112 | 418 | 559 | 385 | 767 | ⋯ | 836 | 492 | 642 | 524 | 381 | 185 | 546 | 529 | 214 | 400 |\n",
       "\n"
      ],
      "text/plain": [
       "  Gene        X1911_1 X1911_19 X1911_2 X1911_20 X1911_21 X1911_22 X1911_3\n",
       "1 CHAC1_1279   56      20       12      22        12      25       23    \n",
       "2 GLRX_2674   124     581      356     358       661     657      304    \n",
       "3 MEFV_4116     0       0        0       0         0       1        5    \n",
       "4 STXBP1_6866  55      95      172     120       121      77      200    \n",
       "5 AKAP8L_196   93      37       35      28        50      26       41    \n",
       "6 AKR1C1_199  670     723      513     415      1112     418      559    \n",
       "  X1911_4 X1911_55 ⋯ X2009_14 X2009_15 X2009_2 X2009_3 X2009_4 X2009_5 X2009_6\n",
       "1  17      27      ⋯  57       90       14      18      33      46      17    \n",
       "2 561     421      ⋯ 530      462      599     503     677     272     447    \n",
       "3   0       3      ⋯   0        0        0       4       0       0       0    \n",
       "4  97      85      ⋯ 109       99      121      92      71     132     136    \n",
       "5  24      33      ⋯  84       53       32      20      51      26      28    \n",
       "6 385     767      ⋯ 836      492      642     524     381     185     546    \n",
       "  X2009_7 X2009_8 X2009_9\n",
       "1  15      36      13    \n",
       "2 477     475     454    \n",
       "3   1       0       0    \n",
       "4 143     165     183    \n",
       "5  34      36      33    \n",
       "6 529     214     400    "
      ]
     },
     "metadata": {},
     "output_type": "display_data"
    },
    {
     "data": {
      "text/html": [
       "<table class=\"dataframe\">\n",
       "<caption>A data.frame: 6 × 14</caption>\n",
       "<thead>\n",
       "\t<tr><th></th><th scope=col>Original_Sample_ID</th><th scope=col>Original_Subject_No</th><th scope=col>Subject_No</th><th scope=col>Subject_ID</th><th scope=col>Sample_ID</th><th scope=col>Replicate</th><th scope=col>Sex</th><th scope=col>Race</th><th scope=col>Ethnicity</th><th scope=col>Age</th><th scope=col>BMI</th><th scope=col>Disease_Status</th><th scope=col>Exposure</th><th scope=col>Medium</th></tr>\n",
       "\t<tr><th></th><th scope=col>&lt;chr&gt;</th><th scope=col>&lt;chr&gt;</th><th scope=col>&lt;dbl&gt;</th><th scope=col>&lt;chr&gt;</th><th scope=col>&lt;chr&gt;</th><th scope=col>&lt;dbl&gt;</th><th scope=col>&lt;chr&gt;</th><th scope=col>&lt;chr&gt;</th><th scope=col>&lt;chr&gt;</th><th scope=col>&lt;chr&gt;</th><th scope=col>&lt;dbl&gt;</th><th scope=col>&lt;chr&gt;</th><th scope=col>&lt;chr&gt;</th><th scope=col>&lt;chr&gt;</th></tr>\n",
       "</thead>\n",
       "<tbody>\n",
       "\t<tr><th scope=row>1</th><td>X1911_62</td><td>NBL 190</td><td>1</td><td>AS_1</td><td>AS_1_C.1</td><td>1</td><td>F</td><td>B</td><td>NH</td><td>47</td><td>23.7</td><td>AS</td><td>C</td><td>Air  </td></tr>\n",
       "\t<tr><th scope=row>2</th><td>X1911_56</td><td>NBL 190</td><td>1</td><td>AS_1</td><td>AS_1_F.1</td><td>1</td><td>F</td><td>B</td><td>NH</td><td>47</td><td>23.7</td><td>AS</td><td>F</td><td>PGGLY</td></tr>\n",
       "\t<tr><th scope=row>3</th><td>X1911_20</td><td>NBL 190</td><td>1</td><td>AS_1</td><td>AS_1_C.2</td><td>2</td><td>F</td><td>B</td><td>NH</td><td>47</td><td>23.7</td><td>AS</td><td>C</td><td>Air  </td></tr>\n",
       "\t<tr><th scope=row>4</th><td>X1911_2 </td><td>NBL 190</td><td>1</td><td>AS_1</td><td>AS_1_S.1</td><td>1</td><td>F</td><td>B</td><td>NH</td><td>47</td><td>23.7</td><td>AS</td><td>S</td><td>PGGLY</td></tr>\n",
       "\t<tr><th scope=row>5</th><td>X1911_64</td><td>NBL 193</td><td>2</td><td>AS_2</td><td>AS_2_C.1</td><td>1</td><td>F</td><td>W</td><td>NH</td><td>19</td><td>19.5</td><td>AS</td><td>C</td><td>Air  </td></tr>\n",
       "\t<tr><th scope=row>6</th><td>X1911_58</td><td>NBL 193</td><td>2</td><td>AS_2</td><td>AS_2_F.1</td><td>1</td><td>F</td><td>W</td><td>NH</td><td>19</td><td>19.5</td><td>AS</td><td>F</td><td>PGGLY</td></tr>\n",
       "</tbody>\n",
       "</table>\n"
      ],
      "text/latex": [
       "A data.frame: 6 × 14\n",
       "\\begin{tabular}{r|llllllllllllll}\n",
       "  & Original\\_Sample\\_ID & Original\\_Subject\\_No & Subject\\_No & Subject\\_ID & Sample\\_ID & Replicate & Sex & Race & Ethnicity & Age & BMI & Disease\\_Status & Exposure & Medium\\\\\n",
       "  & <chr> & <chr> & <dbl> & <chr> & <chr> & <dbl> & <chr> & <chr> & <chr> & <chr> & <dbl> & <chr> & <chr> & <chr>\\\\\n",
       "\\hline\n",
       "\t1 & X1911\\_62 & NBL 190 & 1 & AS\\_1 & AS\\_1\\_C.1 & 1 & F & B & NH & 47 & 23.7 & AS & C & Air  \\\\\n",
       "\t2 & X1911\\_56 & NBL 190 & 1 & AS\\_1 & AS\\_1\\_F.1 & 1 & F & B & NH & 47 & 23.7 & AS & F & PGGLY\\\\\n",
       "\t3 & X1911\\_20 & NBL 190 & 1 & AS\\_1 & AS\\_1\\_C.2 & 2 & F & B & NH & 47 & 23.7 & AS & C & Air  \\\\\n",
       "\t4 & X1911\\_2  & NBL 190 & 1 & AS\\_1 & AS\\_1\\_S.1 & 1 & F & B & NH & 47 & 23.7 & AS & S & PGGLY\\\\\n",
       "\t5 & X1911\\_64 & NBL 193 & 2 & AS\\_2 & AS\\_2\\_C.1 & 1 & F & W & NH & 19 & 19.5 & AS & C & Air  \\\\\n",
       "\t6 & X1911\\_58 & NBL 193 & 2 & AS\\_2 & AS\\_2\\_F.1 & 1 & F & W & NH & 19 & 19.5 & AS & F & PGGLY\\\\\n",
       "\\end{tabular}\n"
      ],
      "text/markdown": [
       "\n",
       "A data.frame: 6 × 14\n",
       "\n",
       "| <!--/--> | Original_Sample_ID &lt;chr&gt; | Original_Subject_No &lt;chr&gt; | Subject_No &lt;dbl&gt; | Subject_ID &lt;chr&gt; | Sample_ID &lt;chr&gt; | Replicate &lt;dbl&gt; | Sex &lt;chr&gt; | Race &lt;chr&gt; | Ethnicity &lt;chr&gt; | Age &lt;chr&gt; | BMI &lt;dbl&gt; | Disease_Status &lt;chr&gt; | Exposure &lt;chr&gt; | Medium &lt;chr&gt; |\n",
       "|---|---|---|---|---|---|---|---|---|---|---|---|---|---|---|\n",
       "| 1 | X1911_62 | NBL 190 | 1 | AS_1 | AS_1_C.1 | 1 | F | B | NH | 47 | 23.7 | AS | C | Air   |\n",
       "| 2 | X1911_56 | NBL 190 | 1 | AS_1 | AS_1_F.1 | 1 | F | B | NH | 47 | 23.7 | AS | F | PGGLY |\n",
       "| 3 | X1911_20 | NBL 190 | 1 | AS_1 | AS_1_C.2 | 2 | F | B | NH | 47 | 23.7 | AS | C | Air   |\n",
       "| 4 | X1911_2  | NBL 190 | 1 | AS_1 | AS_1_S.1 | 1 | F | B | NH | 47 | 23.7 | AS | S | PGGLY |\n",
       "| 5 | X1911_64 | NBL 193 | 2 | AS_2 | AS_2_C.1 | 1 | F | W | NH | 19 | 19.5 | AS | C | Air   |\n",
       "| 6 | X1911_58 | NBL 193 | 2 | AS_2 | AS_2_F.1 | 1 | F | W | NH | 19 | 19.5 | AS | F | PGGLY |\n",
       "\n"
      ],
      "text/plain": [
       "  Original_Sample_ID Original_Subject_No Subject_No Subject_ID Sample_ID\n",
       "1 X1911_62           NBL 190             1          AS_1       AS_1_C.1 \n",
       "2 X1911_56           NBL 190             1          AS_1       AS_1_F.1 \n",
       "3 X1911_20           NBL 190             1          AS_1       AS_1_C.2 \n",
       "4 X1911_2            NBL 190             1          AS_1       AS_1_S.1 \n",
       "5 X1911_64           NBL 193             2          AS_2       AS_2_C.1 \n",
       "6 X1911_58           NBL 193             2          AS_2       AS_2_F.1 \n",
       "  Replicate Sex Race Ethnicity Age BMI  Disease_Status Exposure Medium\n",
       "1 1         F   B    NH        47  23.7 AS             C        Air   \n",
       "2 1         F   B    NH        47  23.7 AS             F        PGGLY \n",
       "3 2         F   B    NH        47  23.7 AS             C        Air   \n",
       "4 1         F   B    NH        47  23.7 AS             S        PGGLY \n",
       "5 1         F   W    NH        19  19.5 AS             C        Air   \n",
       "6 1         F   W    NH        19  19.5 AS             F        PGGLY "
      ]
     },
     "metadata": {},
     "output_type": "display_data"
    },
    {
     "data": {
      "text/html": [
       "<table class=\"dataframe\">\n",
       "<caption>A data.frame: 6 × 8</caption>\n",
       "<thead>\n",
       "\t<tr><th></th><th scope=col>Gene.Symbol</th><th scope=col>k</th><th scope=col>Hedges.g</th><th scope=col>std.error</th><th scope=col>tau.2</th><th scope=col>z.value</th><th scope=col>p.value</th><th scope=col>q.value</th></tr>\n",
       "\t<tr><th></th><th scope=col>&lt;chr&gt;</th><th scope=col>&lt;dbl&gt;</th><th scope=col>&lt;dbl&gt;</th><th scope=col>&lt;dbl&gt;</th><th scope=col>&lt;dbl&gt;</th><th scope=col>&lt;dbl&gt;</th><th scope=col>&lt;dbl&gt;</th><th scope=col>&lt;dbl&gt;</th></tr>\n",
       "</thead>\n",
       "<tbody>\n",
       "\t<tr><th scope=row>1</th><td>CEACAM5</td><td>8</td><td> 1.0939910</td><td>0.1100273</td><td>0.01261454</td><td> 9.942911</td><td>2.71e-23</td><td>1.00e-18</td></tr>\n",
       "\t<tr><th scope=row>2</th><td>C3     </td><td>8</td><td>-0.8490307</td><td>0.0983399</td><td>0.00000000</td><td>-8.633633</td><td>5.94e-18</td><td>1.10e-13</td></tr>\n",
       "\t<tr><th scope=row>3</th><td>MUC5AC </td><td>7</td><td> 0.8086030</td><td>0.1008032</td><td>0.00000000</td><td> 8.021602</td><td>1.04e-15</td><td>1.29e-11</td></tr>\n",
       "\t<tr><th scope=row>4</th><td>FUT3   </td><td>8</td><td> 0.7626832</td><td>0.0976211</td><td>0.00000000</td><td> 7.812685</td><td>5.60e-15</td><td>5.17e-11</td></tr>\n",
       "\t<tr><th scope=row>5</th><td>TCN1   </td><td>7</td><td> 0.7701838</td><td>0.1001925</td><td>0.00000000</td><td> 7.687039</td><td>1.51e-14</td><td>9.33e-11</td></tr>\n",
       "\t<tr><th scope=row>6</th><td>DQX1   </td><td>8</td><td> 0.7491184</td><td>0.0976080</td><td>0.00000000</td><td> 7.674763</td><td>1.66e-14</td><td>9.33e-11</td></tr>\n",
       "</tbody>\n",
       "</table>\n"
      ],
      "text/latex": [
       "A data.frame: 6 × 8\n",
       "\\begin{tabular}{r|llllllll}\n",
       "  & Gene.Symbol & k & Hedges.g & std.error & tau.2 & z.value & p.value & q.value\\\\\n",
       "  & <chr> & <dbl> & <dbl> & <dbl> & <dbl> & <dbl> & <dbl> & <dbl>\\\\\n",
       "\\hline\n",
       "\t1 & CEACAM5 & 8 &  1.0939910 & 0.1100273 & 0.01261454 &  9.942911 & 2.71e-23 & 1.00e-18\\\\\n",
       "\t2 & C3      & 8 & -0.8490307 & 0.0983399 & 0.00000000 & -8.633633 & 5.94e-18 & 1.10e-13\\\\\n",
       "\t3 & MUC5AC  & 7 &  0.8086030 & 0.1008032 & 0.00000000 &  8.021602 & 1.04e-15 & 1.29e-11\\\\\n",
       "\t4 & FUT3    & 8 &  0.7626832 & 0.0976211 & 0.00000000 &  7.812685 & 5.60e-15 & 5.17e-11\\\\\n",
       "\t5 & TCN1    & 7 &  0.7701838 & 0.1001925 & 0.00000000 &  7.687039 & 1.51e-14 & 9.33e-11\\\\\n",
       "\t6 & DQX1    & 8 &  0.7491184 & 0.0976080 & 0.00000000 &  7.674763 & 1.66e-14 & 9.33e-11\\\\\n",
       "\\end{tabular}\n"
      ],
      "text/markdown": [
       "\n",
       "A data.frame: 6 × 8\n",
       "\n",
       "| <!--/--> | Gene.Symbol &lt;chr&gt; | k &lt;dbl&gt; | Hedges.g &lt;dbl&gt; | std.error &lt;dbl&gt; | tau.2 &lt;dbl&gt; | z.value &lt;dbl&gt; | p.value &lt;dbl&gt; | q.value &lt;dbl&gt; |\n",
       "|---|---|---|---|---|---|---|---|---|\n",
       "| 1 | CEACAM5 | 8 |  1.0939910 | 0.1100273 | 0.01261454 |  9.942911 | 2.71e-23 | 1.00e-18 |\n",
       "| 2 | C3      | 8 | -0.8490307 | 0.0983399 | 0.00000000 | -8.633633 | 5.94e-18 | 1.10e-13 |\n",
       "| 3 | MUC5AC  | 7 |  0.8086030 | 0.1008032 | 0.00000000 |  8.021602 | 1.04e-15 | 1.29e-11 |\n",
       "| 4 | FUT3    | 8 |  0.7626832 | 0.0976211 | 0.00000000 |  7.812685 | 5.60e-15 | 5.17e-11 |\n",
       "| 5 | TCN1    | 7 |  0.7701838 | 0.1001925 | 0.00000000 |  7.687039 | 1.51e-14 | 9.33e-11 |\n",
       "| 6 | DQX1    | 8 |  0.7491184 | 0.0976080 | 0.00000000 |  7.674763 | 1.66e-14 | 9.33e-11 |\n",
       "\n"
      ],
      "text/plain": [
       "  Gene.Symbol k Hedges.g   std.error tau.2      z.value   p.value  q.value \n",
       "1 CEACAM5     8  1.0939910 0.1100273 0.01261454  9.942911 2.71e-23 1.00e-18\n",
       "2 C3          8 -0.8490307 0.0983399 0.00000000 -8.633633 5.94e-18 1.10e-13\n",
       "3 MUC5AC      7  0.8086030 0.1008032 0.00000000  8.021602 1.04e-15 1.29e-11\n",
       "4 FUT3        8  0.7626832 0.0976211 0.00000000  7.812685 5.60e-15 5.17e-11\n",
       "5 TCN1        7  0.7701838 0.1001925 0.00000000  7.687039 1.51e-14 9.33e-11\n",
       "6 DQX1        8  0.7491184 0.0976080 0.00000000  7.674763 1.66e-14 9.33e-11"
      ]
     },
     "metadata": {},
     "output_type": "display_data"
    }
   ],
   "source": [
    "head(count_df)\n",
    "head(subject_info_df)\n",
    "head(asthma_gene_list_df)"
   ]
  },
  {
   "cell_type": "markdown",
   "id": "1eecbdd0-a335-49d0-8567-35ee344ca0d1",
   "metadata": {},
   "source": [
    "Using DESeq2 to determine if there are genes differentially expressed between asthmatics vs. non-asthmatic subjects at baseline."
   ]
  },
  {
   "cell_type": "code",
   "execution_count": 3,
   "id": "d5ca5700-4dd9-40a4-8250-ef8498db5c02",
   "metadata": {},
   "outputs": [
    {
     "data": {
      "text/html": [
       "<table class=\"dataframe\">\n",
       "<caption>A data.frame: 6 × 40</caption>\n",
       "<thead>\n",
       "\t<tr><th></th><th scope=col>Gene</th><th scope=col>AS_1_C.1</th><th scope=col>AS_1_F.1</th><th scope=col>AS_1_C.2</th><th scope=col>AS_1_S.1</th><th scope=col>AS_2_C.1</th><th scope=col>AS_2_F.1</th><th scope=col>AS_2_C.2</th><th scope=col>AS_2_S.1</th><th scope=col>AS_3_C.1</th><th scope=col>⋯</th><th scope=col>NAS_8_C.2</th><th scope=col>NAS_8_S.1</th><th scope=col>NAS_9_C.1</th><th scope=col>NAS_9_F.1</th><th scope=col>NAS_9_C.2</th><th scope=col>NAS_9_S.1</th><th scope=col>NAS_10_C.1</th><th scope=col>NAS_10_F.1</th><th scope=col>NAS_10_C.2</th><th scope=col>NAS_10_S.1</th></tr>\n",
       "\t<tr><th></th><th scope=col>&lt;chr&gt;</th><th scope=col>&lt;dbl&gt;</th><th scope=col>&lt;dbl&gt;</th><th scope=col>&lt;dbl&gt;</th><th scope=col>&lt;dbl&gt;</th><th scope=col>&lt;dbl&gt;</th><th scope=col>&lt;dbl&gt;</th><th scope=col>&lt;dbl&gt;</th><th scope=col>&lt;dbl&gt;</th><th scope=col>&lt;dbl&gt;</th><th scope=col>⋯</th><th scope=col>&lt;dbl&gt;</th><th scope=col>&lt;dbl&gt;</th><th scope=col>&lt;dbl&gt;</th><th scope=col>&lt;dbl&gt;</th><th scope=col>&lt;dbl&gt;</th><th scope=col>&lt;dbl&gt;</th><th scope=col>&lt;dbl&gt;</th><th scope=col>&lt;dbl&gt;</th><th scope=col>&lt;dbl&gt;</th><th scope=col>&lt;dbl&gt;</th></tr>\n",
       "</thead>\n",
       "<tbody>\n",
       "\t<tr><th scope=row>1</th><td>STXBP1  </td><td> 106</td><td> 108</td><td> 120</td><td> 172</td><td>132</td><td>173</td><td> 77</td><td> 97</td><td>124</td><td>⋯</td><td>  95</td><td>  55</td><td> 124</td><td>213</td><td> 121</td><td> 200</td><td> 92</td><td>112</td><td>143</td><td> 109</td></tr>\n",
       "\t<tr><th scope=row>2</th><td>CTSL    </td><td> 197</td><td> 188</td><td> 224</td><td> 170</td><td>180</td><td>143</td><td>192</td><td>164</td><td>150</td><td>⋯</td><td> 141</td><td> 479</td><td> 234</td><td>179</td><td> 212</td><td> 298</td><td>108</td><td>164</td><td>165</td><td> 206</td></tr>\n",
       "\t<tr><th scope=row>3</th><td>ALDH18A1</td><td>  16</td><td>  17</td><td>  27</td><td>  40</td><td> 10</td><td> 21</td><td> 29</td><td> 18</td><td> 22</td><td>⋯</td><td>  22</td><td>  68</td><td>  12</td><td> 17</td><td>  19</td><td>  19</td><td> 29</td><td> 22</td><td> 32</td><td>  37</td></tr>\n",
       "\t<tr><th scope=row>4</th><td>ECH1    </td><td>   0</td><td>   5</td><td>   0</td><td>   0</td><td> 38</td><td> 53</td><td> 23</td><td> 47</td><td> 31</td><td>⋯</td><td>  24</td><td>  67</td><td>  24</td><td> 38</td><td>  24</td><td>  48</td><td> 26</td><td> 26</td><td> 10</td><td>  19</td></tr>\n",
       "\t<tr><th scope=row>5</th><td>C3      </td><td>1164</td><td>1576</td><td>1344</td><td>1268</td><td>179</td><td>206</td><td>422</td><td>301</td><td>525</td><td>⋯</td><td>1916</td><td>5037</td><td>1069</td><td>275</td><td>1551</td><td> 776</td><td>353</td><td>576</td><td>635</td><td>1446</td></tr>\n",
       "\t<tr><th scope=row>6</th><td>CASP7   </td><td> 790</td><td> 932</td><td> 964</td><td>1046</td><td>800</td><td>876</td><td>770</td><td>800</td><td>867</td><td>⋯</td><td> 728</td><td>1500</td><td> 853</td><td>892</td><td> 930</td><td>1051</td><td>814</td><td>973</td><td>904</td><td>1033</td></tr>\n",
       "</tbody>\n",
       "</table>\n"
      ],
      "text/latex": [
       "A data.frame: 6 × 40\n",
       "\\begin{tabular}{r|lllllllllllllllllllll}\n",
       "  & Gene & AS\\_1\\_C.1 & AS\\_1\\_F.1 & AS\\_1\\_C.2 & AS\\_1\\_S.1 & AS\\_2\\_C.1 & AS\\_2\\_F.1 & AS\\_2\\_C.2 & AS\\_2\\_S.1 & AS\\_3\\_C.1 & ⋯ & NAS\\_8\\_C.2 & NAS\\_8\\_S.1 & NAS\\_9\\_C.1 & NAS\\_9\\_F.1 & NAS\\_9\\_C.2 & NAS\\_9\\_S.1 & NAS\\_10\\_C.1 & NAS\\_10\\_F.1 & NAS\\_10\\_C.2 & NAS\\_10\\_S.1\\\\\n",
       "  & <chr> & <dbl> & <dbl> & <dbl> & <dbl> & <dbl> & <dbl> & <dbl> & <dbl> & <dbl> & ⋯ & <dbl> & <dbl> & <dbl> & <dbl> & <dbl> & <dbl> & <dbl> & <dbl> & <dbl> & <dbl>\\\\\n",
       "\\hline\n",
       "\t1 & STXBP1   &  106 &  108 &  120 &  172 & 132 & 173 &  77 &  97 & 124 & ⋯ &   95 &   55 &  124 & 213 &  121 &  200 &  92 & 112 & 143 &  109\\\\\n",
       "\t2 & CTSL     &  197 &  188 &  224 &  170 & 180 & 143 & 192 & 164 & 150 & ⋯ &  141 &  479 &  234 & 179 &  212 &  298 & 108 & 164 & 165 &  206\\\\\n",
       "\t3 & ALDH18A1 &   16 &   17 &   27 &   40 &  10 &  21 &  29 &  18 &  22 & ⋯ &   22 &   68 &   12 &  17 &   19 &   19 &  29 &  22 &  32 &   37\\\\\n",
       "\t4 & ECH1     &    0 &    5 &    0 &    0 &  38 &  53 &  23 &  47 &  31 & ⋯ &   24 &   67 &   24 &  38 &   24 &   48 &  26 &  26 &  10 &   19\\\\\n",
       "\t5 & C3       & 1164 & 1576 & 1344 & 1268 & 179 & 206 & 422 & 301 & 525 & ⋯ & 1916 & 5037 & 1069 & 275 & 1551 &  776 & 353 & 576 & 635 & 1446\\\\\n",
       "\t6 & CASP7    &  790 &  932 &  964 & 1046 & 800 & 876 & 770 & 800 & 867 & ⋯ &  728 & 1500 &  853 & 892 &  930 & 1051 & 814 & 973 & 904 & 1033\\\\\n",
       "\\end{tabular}\n"
      ],
      "text/markdown": [
       "\n",
       "A data.frame: 6 × 40\n",
       "\n",
       "| <!--/--> | Gene &lt;chr&gt; | AS_1_C.1 &lt;dbl&gt; | AS_1_F.1 &lt;dbl&gt; | AS_1_C.2 &lt;dbl&gt; | AS_1_S.1 &lt;dbl&gt; | AS_2_C.1 &lt;dbl&gt; | AS_2_F.1 &lt;dbl&gt; | AS_2_C.2 &lt;dbl&gt; | AS_2_S.1 &lt;dbl&gt; | AS_3_C.1 &lt;dbl&gt; | ⋯ ⋯ | NAS_8_C.2 &lt;dbl&gt; | NAS_8_S.1 &lt;dbl&gt; | NAS_9_C.1 &lt;dbl&gt; | NAS_9_F.1 &lt;dbl&gt; | NAS_9_C.2 &lt;dbl&gt; | NAS_9_S.1 &lt;dbl&gt; | NAS_10_C.1 &lt;dbl&gt; | NAS_10_F.1 &lt;dbl&gt; | NAS_10_C.2 &lt;dbl&gt; | NAS_10_S.1 &lt;dbl&gt; |\n",
       "|---|---|---|---|---|---|---|---|---|---|---|---|---|---|---|---|---|---|---|---|---|---|\n",
       "| 1 | STXBP1   |  106 |  108 |  120 |  172 | 132 | 173 |  77 |  97 | 124 | ⋯ |   95 |   55 |  124 | 213 |  121 |  200 |  92 | 112 | 143 |  109 |\n",
       "| 2 | CTSL     |  197 |  188 |  224 |  170 | 180 | 143 | 192 | 164 | 150 | ⋯ |  141 |  479 |  234 | 179 |  212 |  298 | 108 | 164 | 165 |  206 |\n",
       "| 3 | ALDH18A1 |   16 |   17 |   27 |   40 |  10 |  21 |  29 |  18 |  22 | ⋯ |   22 |   68 |   12 |  17 |   19 |   19 |  29 |  22 |  32 |   37 |\n",
       "| 4 | ECH1     |    0 |    5 |    0 |    0 |  38 |  53 |  23 |  47 |  31 | ⋯ |   24 |   67 |   24 |  38 |   24 |   48 |  26 |  26 |  10 |   19 |\n",
       "| 5 | C3       | 1164 | 1576 | 1344 | 1268 | 179 | 206 | 422 | 301 | 525 | ⋯ | 1916 | 5037 | 1069 | 275 | 1551 |  776 | 353 | 576 | 635 | 1446 |\n",
       "| 6 | CASP7    |  790 |  932 |  964 | 1046 | 800 | 876 | 770 | 800 | 867 | ⋯ |  728 | 1500 |  853 | 892 |  930 | 1051 | 814 | 973 | 904 | 1033 |\n",
       "\n"
      ],
      "text/plain": [
       "  Gene     AS_1_C.1 AS_1_F.1 AS_1_C.2 AS_1_S.1 AS_2_C.1 AS_2_F.1 AS_2_C.2\n",
       "1 STXBP1    106      108      120      172     132      173       77     \n",
       "2 CTSL      197      188      224      170     180      143      192     \n",
       "3 ALDH18A1   16       17       27       40      10       21       29     \n",
       "4 ECH1        0        5        0        0      38       53       23     \n",
       "5 C3       1164     1576     1344     1268     179      206      422     \n",
       "6 CASP7     790      932      964     1046     800      876      770     \n",
       "  AS_2_S.1 AS_3_C.1 ⋯ NAS_8_C.2 NAS_8_S.1 NAS_9_C.1 NAS_9_F.1 NAS_9_C.2\n",
       "1  97      124      ⋯   95        55       124      213        121     \n",
       "2 164      150      ⋯  141       479       234      179        212     \n",
       "3  18       22      ⋯   22        68        12       17         19     \n",
       "4  47       31      ⋯   24        67        24       38         24     \n",
       "5 301      525      ⋯ 1916      5037      1069      275       1551     \n",
       "6 800      867      ⋯  728      1500       853      892        930     \n",
       "  NAS_9_S.1 NAS_10_C.1 NAS_10_F.1 NAS_10_C.2 NAS_10_S.1\n",
       "1  200       92        112        143         109      \n",
       "2  298      108        164        165         206      \n",
       "3   19       29         22         32          37      \n",
       "4   48       26         26         10          19      \n",
       "5  776      353        576        635        1446      \n",
       "6 1051      814        973        904        1033      "
      ]
     },
     "metadata": {},
     "output_type": "display_data"
    }
   ],
   "source": [
    "# first replacing the column names in the count df with sample ids that are more descriptive of the subjects\n",
    "# also filtering for asthma genes\n",
    "cleaned_count_df = count_df %>%\n",
    "    separate(Gene, sep = \"_\", c(\"Gene\", NA)) %>%\n",
    "    # only subsetting for asthma genes we're interested in \n",
    "    filter(Gene %in% asthma_gene_list_df$Gene.Symbol) %>%\n",
    "    relocate(.after = Gene, subject_info_df$Original_Sample_ID) \n",
    "\n",
    "colnames(cleaned_count_df)[2:40] = subject_info_df$Sample_ID\n",
    "head(cleaned_count_df)"
   ]
  },
  {
   "cell_type": "code",
   "execution_count": 4,
   "id": "2f6868e9-81b9-4775-92b0-f29893a213fb",
   "metadata": {},
   "outputs": [
    {
     "data": {
      "text/html": [
       "<table class=\"dataframe\">\n",
       "<caption>A data.frame: 6 × 41</caption>\n",
       "<thead>\n",
       "\t<tr><th></th><th scope=col>Gene</th><th scope=col>Unique_Gene</th><th scope=col>AS_1_C.1</th><th scope=col>AS_1_F.1</th><th scope=col>AS_1_C.2</th><th scope=col>AS_1_S.1</th><th scope=col>AS_2_C.1</th><th scope=col>AS_2_F.1</th><th scope=col>AS_2_C.2</th><th scope=col>AS_2_S.1</th><th scope=col>⋯</th><th scope=col>NAS_8_C.2</th><th scope=col>NAS_8_S.1</th><th scope=col>NAS_9_C.1</th><th scope=col>NAS_9_F.1</th><th scope=col>NAS_9_C.2</th><th scope=col>NAS_9_S.1</th><th scope=col>NAS_10_C.1</th><th scope=col>NAS_10_F.1</th><th scope=col>NAS_10_C.2</th><th scope=col>NAS_10_S.1</th></tr>\n",
       "\t<tr><th></th><th scope=col>&lt;chr&gt;</th><th scope=col>&lt;chr&gt;</th><th scope=col>&lt;dbl&gt;</th><th scope=col>&lt;dbl&gt;</th><th scope=col>&lt;dbl&gt;</th><th scope=col>&lt;dbl&gt;</th><th scope=col>&lt;dbl&gt;</th><th scope=col>&lt;dbl&gt;</th><th scope=col>&lt;dbl&gt;</th><th scope=col>&lt;dbl&gt;</th><th scope=col>⋯</th><th scope=col>&lt;dbl&gt;</th><th scope=col>&lt;dbl&gt;</th><th scope=col>&lt;dbl&gt;</th><th scope=col>&lt;dbl&gt;</th><th scope=col>&lt;dbl&gt;</th><th scope=col>&lt;dbl&gt;</th><th scope=col>&lt;dbl&gt;</th><th scope=col>&lt;dbl&gt;</th><th scope=col>&lt;dbl&gt;</th><th scope=col>&lt;dbl&gt;</th></tr>\n",
       "</thead>\n",
       "<tbody>\n",
       "\t<tr><th scope=row>1</th><td>STXBP1  </td><td>STXBP1  </td><td> 106</td><td> 108</td><td> 120</td><td> 172</td><td>132</td><td>173</td><td> 77</td><td> 97</td><td>⋯</td><td>  95</td><td>  55</td><td> 124</td><td>213</td><td> 121</td><td> 200</td><td> 92</td><td>112</td><td>143</td><td> 109</td></tr>\n",
       "\t<tr><th scope=row>2</th><td>CTSL    </td><td>CTSL_1  </td><td> 197</td><td> 188</td><td> 224</td><td> 170</td><td>180</td><td>143</td><td>192</td><td>164</td><td>⋯</td><td> 141</td><td> 479</td><td> 234</td><td>179</td><td> 212</td><td> 298</td><td>108</td><td>164</td><td>165</td><td> 206</td></tr>\n",
       "\t<tr><th scope=row>3</th><td>ALDH18A1</td><td>ALDH18A1</td><td>  16</td><td>  17</td><td>  27</td><td>  40</td><td> 10</td><td> 21</td><td> 29</td><td> 18</td><td>⋯</td><td>  22</td><td>  68</td><td>  12</td><td> 17</td><td>  19</td><td>  19</td><td> 29</td><td> 22</td><td> 32</td><td>  37</td></tr>\n",
       "\t<tr><th scope=row>4</th><td>ECH1    </td><td>ECH1    </td><td>   0</td><td>   5</td><td>   0</td><td>   0</td><td> 38</td><td> 53</td><td> 23</td><td> 47</td><td>⋯</td><td>  24</td><td>  67</td><td>  24</td><td> 38</td><td>  24</td><td>  48</td><td> 26</td><td> 26</td><td> 10</td><td>  19</td></tr>\n",
       "\t<tr><th scope=row>5</th><td>C3      </td><td>C3      </td><td>1164</td><td>1576</td><td>1344</td><td>1268</td><td>179</td><td>206</td><td>422</td><td>301</td><td>⋯</td><td>1916</td><td>5037</td><td>1069</td><td>275</td><td>1551</td><td> 776</td><td>353</td><td>576</td><td>635</td><td>1446</td></tr>\n",
       "\t<tr><th scope=row>6</th><td>CASP7   </td><td>CASP7   </td><td> 790</td><td> 932</td><td> 964</td><td>1046</td><td>800</td><td>876</td><td>770</td><td>800</td><td>⋯</td><td> 728</td><td>1500</td><td> 853</td><td>892</td><td> 930</td><td>1051</td><td>814</td><td>973</td><td>904</td><td>1033</td></tr>\n",
       "</tbody>\n",
       "</table>\n"
      ],
      "text/latex": [
       "A data.frame: 6 × 41\n",
       "\\begin{tabular}{r|lllllllllllllllllllll}\n",
       "  & Gene & Unique\\_Gene & AS\\_1\\_C.1 & AS\\_1\\_F.1 & AS\\_1\\_C.2 & AS\\_1\\_S.1 & AS\\_2\\_C.1 & AS\\_2\\_F.1 & AS\\_2\\_C.2 & AS\\_2\\_S.1 & ⋯ & NAS\\_8\\_C.2 & NAS\\_8\\_S.1 & NAS\\_9\\_C.1 & NAS\\_9\\_F.1 & NAS\\_9\\_C.2 & NAS\\_9\\_S.1 & NAS\\_10\\_C.1 & NAS\\_10\\_F.1 & NAS\\_10\\_C.2 & NAS\\_10\\_S.1\\\\\n",
       "  & <chr> & <chr> & <dbl> & <dbl> & <dbl> & <dbl> & <dbl> & <dbl> & <dbl> & <dbl> & ⋯ & <dbl> & <dbl> & <dbl> & <dbl> & <dbl> & <dbl> & <dbl> & <dbl> & <dbl> & <dbl>\\\\\n",
       "\\hline\n",
       "\t1 & STXBP1   & STXBP1   &  106 &  108 &  120 &  172 & 132 & 173 &  77 &  97 & ⋯ &   95 &   55 &  124 & 213 &  121 &  200 &  92 & 112 & 143 &  109\\\\\n",
       "\t2 & CTSL     & CTSL\\_1   &  197 &  188 &  224 &  170 & 180 & 143 & 192 & 164 & ⋯ &  141 &  479 &  234 & 179 &  212 &  298 & 108 & 164 & 165 &  206\\\\\n",
       "\t3 & ALDH18A1 & ALDH18A1 &   16 &   17 &   27 &   40 &  10 &  21 &  29 &  18 & ⋯ &   22 &   68 &   12 &  17 &   19 &   19 &  29 &  22 &  32 &   37\\\\\n",
       "\t4 & ECH1     & ECH1     &    0 &    5 &    0 &    0 &  38 &  53 &  23 &  47 & ⋯ &   24 &   67 &   24 &  38 &   24 &   48 &  26 &  26 &  10 &   19\\\\\n",
       "\t5 & C3       & C3       & 1164 & 1576 & 1344 & 1268 & 179 & 206 & 422 & 301 & ⋯ & 1916 & 5037 & 1069 & 275 & 1551 &  776 & 353 & 576 & 635 & 1446\\\\\n",
       "\t6 & CASP7    & CASP7    &  790 &  932 &  964 & 1046 & 800 & 876 & 770 & 800 & ⋯ &  728 & 1500 &  853 & 892 &  930 & 1051 & 814 & 973 & 904 & 1033\\\\\n",
       "\\end{tabular}\n"
      ],
      "text/markdown": [
       "\n",
       "A data.frame: 6 × 41\n",
       "\n",
       "| <!--/--> | Gene &lt;chr&gt; | Unique_Gene &lt;chr&gt; | AS_1_C.1 &lt;dbl&gt; | AS_1_F.1 &lt;dbl&gt; | AS_1_C.2 &lt;dbl&gt; | AS_1_S.1 &lt;dbl&gt; | AS_2_C.1 &lt;dbl&gt; | AS_2_F.1 &lt;dbl&gt; | AS_2_C.2 &lt;dbl&gt; | AS_2_S.1 &lt;dbl&gt; | ⋯ ⋯ | NAS_8_C.2 &lt;dbl&gt; | NAS_8_S.1 &lt;dbl&gt; | NAS_9_C.1 &lt;dbl&gt; | NAS_9_F.1 &lt;dbl&gt; | NAS_9_C.2 &lt;dbl&gt; | NAS_9_S.1 &lt;dbl&gt; | NAS_10_C.1 &lt;dbl&gt; | NAS_10_F.1 &lt;dbl&gt; | NAS_10_C.2 &lt;dbl&gt; | NAS_10_S.1 &lt;dbl&gt; |\n",
       "|---|---|---|---|---|---|---|---|---|---|---|---|---|---|---|---|---|---|---|---|---|---|\n",
       "| 1 | STXBP1   | STXBP1   |  106 |  108 |  120 |  172 | 132 | 173 |  77 |  97 | ⋯ |   95 |   55 |  124 | 213 |  121 |  200 |  92 | 112 | 143 |  109 |\n",
       "| 2 | CTSL     | CTSL_1   |  197 |  188 |  224 |  170 | 180 | 143 | 192 | 164 | ⋯ |  141 |  479 |  234 | 179 |  212 |  298 | 108 | 164 | 165 |  206 |\n",
       "| 3 | ALDH18A1 | ALDH18A1 |   16 |   17 |   27 |   40 |  10 |  21 |  29 |  18 | ⋯ |   22 |   68 |   12 |  17 |   19 |   19 |  29 |  22 |  32 |   37 |\n",
       "| 4 | ECH1     | ECH1     |    0 |    5 |    0 |    0 |  38 |  53 |  23 |  47 | ⋯ |   24 |   67 |   24 |  38 |   24 |   48 |  26 |  26 |  10 |   19 |\n",
       "| 5 | C3       | C3       | 1164 | 1576 | 1344 | 1268 | 179 | 206 | 422 | 301 | ⋯ | 1916 | 5037 | 1069 | 275 | 1551 |  776 | 353 | 576 | 635 | 1446 |\n",
       "| 6 | CASP7    | CASP7    |  790 |  932 |  964 | 1046 | 800 | 876 | 770 | 800 | ⋯ |  728 | 1500 |  853 | 892 |  930 | 1051 | 814 | 973 | 904 | 1033 |\n",
       "\n"
      ],
      "text/plain": [
       "  Gene     Unique_Gene AS_1_C.1 AS_1_F.1 AS_1_C.2 AS_1_S.1 AS_2_C.1 AS_2_F.1\n",
       "1 STXBP1   STXBP1       106      108      120      172     132      173     \n",
       "2 CTSL     CTSL_1       197      188      224      170     180      143     \n",
       "3 ALDH18A1 ALDH18A1      16       17       27       40      10       21     \n",
       "4 ECH1     ECH1           0        5        0        0      38       53     \n",
       "5 C3       C3          1164     1576     1344     1268     179      206     \n",
       "6 CASP7    CASP7        790      932      964     1046     800      876     \n",
       "  AS_2_C.2 AS_2_S.1 ⋯ NAS_8_C.2 NAS_8_S.1 NAS_9_C.1 NAS_9_F.1 NAS_9_C.2\n",
       "1  77       97      ⋯   95        55       124      213        121     \n",
       "2 192      164      ⋯  141       479       234      179        212     \n",
       "3  29       18      ⋯   22        68        12       17         19     \n",
       "4  23       47      ⋯   24        67        24       38         24     \n",
       "5 422      301      ⋯ 1916      5037      1069      275       1551     \n",
       "6 770      800      ⋯  728      1500       853      892        930     \n",
       "  NAS_9_S.1 NAS_10_C.1 NAS_10_F.1 NAS_10_C.2 NAS_10_S.1\n",
       "1  200       92        112        143         109      \n",
       "2  298      108        164        165         206      \n",
       "3   19       29         22         32          37      \n",
       "4   48       26         26         10          19      \n",
       "5  776      353        576        635        1446      \n",
       "6 1051      814        973        904        1033      "
      ]
     },
     "metadata": {},
     "output_type": "display_data"
    }
   ],
   "source": [
    "# df now contains duplicate genes since the numbers were removed to match the asthma gene list\n",
    "# creating a new col that identifies unique genes\n",
    "make.unique = function(x, sep){\n",
    "    # Function for making unique names. Input = vector (x) and what separator you want to use (sep), \n",
    "    # output = vector with duplicate names made unique using the separator and numbers\n",
    "    ave(x, x, FUN = function(a){if(length(a) > 1){paste(a, 1:length(a), sep = sep)} \n",
    "                                else {a}})\n",
    "}\n",
    "\n",
    "# calling function\n",
    "cleaned_count_df <- cleaned_count_df %>%\n",
    "    mutate(Unique_Gene = make.unique(Gene, sep = \"_\")) %>%\n",
    "    relocate(Unique_Gene, .after = Gene) \n",
    "\n",
    "head(cleaned_count_df)"
   ]
  },
  {
   "cell_type": "code",
   "execution_count": 5,
   "id": "a6437809-638a-4b19-97c6-ed6e313f9a95",
   "metadata": {},
   "outputs": [
    {
     "name": "stderr",
     "output_type": "stream",
     "text": [
      "\u001b[1m\u001b[22mJoining with `by = join_by(Sample_ID)`\n",
      "\u001b[1m\u001b[22m`summarise()` has grouped output by 'Unique_Gene'. You can override using the\n",
      "`.groups` argument.\n"
     ]
    },
    {
     "data": {
      "text/html": [
       "<table class=\"dataframe\">\n",
       "<caption>A grouped_df: 6 × 3</caption>\n",
       "<thead>\n",
       "\t<tr><th scope=col>Unique_Gene</th><th scope=col>Sample_ID</th><th scope=col>Value</th></tr>\n",
       "\t<tr><th scope=col>&lt;chr&gt;</th><th scope=col>&lt;chr&gt;</th><th scope=col>&lt;dbl&gt;</th></tr>\n",
       "</thead>\n",
       "<tbody>\n",
       "\t<tr><td>A2M_1</td><td>AS_1_C</td><td>0</td></tr>\n",
       "\t<tr><td>A2M_1</td><td>AS_2_C</td><td>0</td></tr>\n",
       "\t<tr><td>A2M_1</td><td>AS_3_C</td><td>0</td></tr>\n",
       "\t<tr><td>A2M_1</td><td>AS_4_C</td><td>0</td></tr>\n",
       "\t<tr><td>A2M_1</td><td>AS_5_C</td><td>0</td></tr>\n",
       "\t<tr><td>A2M_1</td><td>AS_6_C</td><td>0</td></tr>\n",
       "</tbody>\n",
       "</table>\n"
      ],
      "text/latex": [
       "A grouped\\_df: 6 × 3\n",
       "\\begin{tabular}{lll}\n",
       " Unique\\_Gene & Sample\\_ID & Value\\\\\n",
       " <chr> & <chr> & <dbl>\\\\\n",
       "\\hline\n",
       "\t A2M\\_1 & AS\\_1\\_C & 0\\\\\n",
       "\t A2M\\_1 & AS\\_2\\_C & 0\\\\\n",
       "\t A2M\\_1 & AS\\_3\\_C & 0\\\\\n",
       "\t A2M\\_1 & AS\\_4\\_C & 0\\\\\n",
       "\t A2M\\_1 & AS\\_5\\_C & 0\\\\\n",
       "\t A2M\\_1 & AS\\_6\\_C & 0\\\\\n",
       "\\end{tabular}\n"
      ],
      "text/markdown": [
       "\n",
       "A grouped_df: 6 × 3\n",
       "\n",
       "| Unique_Gene &lt;chr&gt; | Sample_ID &lt;chr&gt; | Value &lt;dbl&gt; |\n",
       "|---|---|---|\n",
       "| A2M_1 | AS_1_C | 0 |\n",
       "| A2M_1 | AS_2_C | 0 |\n",
       "| A2M_1 | AS_3_C | 0 |\n",
       "| A2M_1 | AS_4_C | 0 |\n",
       "| A2M_1 | AS_5_C | 0 |\n",
       "| A2M_1 | AS_6_C | 0 |\n",
       "\n"
      ],
      "text/plain": [
       "  Unique_Gene Sample_ID Value\n",
       "1 A2M_1       AS_1_C    0    \n",
       "2 A2M_1       AS_2_C    0    \n",
       "3 A2M_1       AS_3_C    0    \n",
       "4 A2M_1       AS_4_C    0    \n",
       "5 A2M_1       AS_5_C    0    \n",
       "6 A2M_1       AS_6_C    0    "
      ]
     },
     "metadata": {},
     "output_type": "display_data"
    }
   ],
   "source": [
    "# pivoting longer to average the replicate control samples and filtering for baseline samples\n",
    "longer_count_df = cleaned_count_df %>%\n",
    "    #rownames_to_column(var = \"Gene\") %>%\n",
    "    pivot_longer(cols = 3:41, names_to = \"Sample_ID\", values_to = \"Value\") %>%\n",
    "    # averaging count data across the replicate genes\n",
    "    inner_join(subject_info_df[5:6]) %>%\n",
    "    separate(Sample_ID, sep = \"\\\\.\", c(\"Sample_ID\", NA)) %>%\n",
    "    group_by(Unique_Gene, Sample_ID) %>%\n",
    "    summarize(Value = round(mean(Value))) %>%\n",
    "    # filtering for samples taken at baseline\n",
    "    filter(grepl(\"_C\", Sample_ID))\n",
    "\n",
    "head(longer_count_df)"
   ]
  },
  {
   "cell_type": "code",
   "execution_count": 6,
   "id": "95d7459b-5dbd-4cbc-831d-f803c1c508a8",
   "metadata": {},
   "outputs": [
    {
     "data": {
      "text/plain": [
       "   Mode   FALSE \n",
       "logical   12840 "
      ]
     },
     "metadata": {},
     "output_type": "display_data"
    }
   ],
   "source": [
    "# checking for duplicates\n",
    "Dups = duplicated(longer_count_df)\n",
    "summary(Dups)"
   ]
  },
  {
   "cell_type": "markdown",
   "id": "7a083619-f852-457b-a07c-33fcc694c844",
   "metadata": {},
   "source": [
    "No duplicates. Now creating dataframes that are formatted for succeeding code, as well as DESeq2 functions."
   ]
  },
  {
   "cell_type": "code",
   "execution_count": 7,
   "id": "bdcf3156-00d8-41ff-9e44-9b6c1baa1b8f",
   "metadata": {},
   "outputs": [
    {
     "data": {
      "text/html": [
       "<table class=\"dataframe\">\n",
       "<caption>A data.frame: 6 × 11</caption>\n",
       "<thead>\n",
       "\t<tr><th></th><th scope=col>Subject_No</th><th scope=col>Subject_ID</th><th scope=col>Sample_ID</th><th scope=col>Sex</th><th scope=col>Race</th><th scope=col>Ethnicity</th><th scope=col>Age</th><th scope=col>BMI</th><th scope=col>Disease_Status</th><th scope=col>Exposure</th><th scope=col>Medium</th></tr>\n",
       "\t<tr><th></th><th scope=col>&lt;dbl&gt;</th><th scope=col>&lt;chr&gt;</th><th scope=col>&lt;chr&gt;</th><th scope=col>&lt;chr&gt;</th><th scope=col>&lt;chr&gt;</th><th scope=col>&lt;chr&gt;</th><th scope=col>&lt;chr&gt;</th><th scope=col>&lt;dbl&gt;</th><th scope=col>&lt;chr&gt;</th><th scope=col>&lt;chr&gt;</th><th scope=col>&lt;chr&gt;</th></tr>\n",
       "</thead>\n",
       "<tbody>\n",
       "\t<tr><th scope=row>1</th><td>1</td><td>AS_1</td><td>AS_1_C</td><td>F</td><td>B</td><td>NH</td><td>47</td><td>23.7</td><td>AS</td><td>C</td><td>Air</td></tr>\n",
       "\t<tr><th scope=row>3</th><td>2</td><td>AS_2</td><td>AS_2_C</td><td>F</td><td>W</td><td>NH</td><td>19</td><td>19.5</td><td>AS</td><td>C</td><td>Air</td></tr>\n",
       "\t<tr><th scope=row>5</th><td>3</td><td>AS_3</td><td>AS_3_C</td><td>F</td><td>W</td><td>NH</td><td>21</td><td>24.1</td><td>AS</td><td>C</td><td>Air</td></tr>\n",
       "\t<tr><th scope=row>7</th><td>4</td><td>AS_4</td><td>AS_4_C</td><td>M</td><td>B</td><td>NH</td><td>20</td><td>24.5</td><td>AS</td><td>C</td><td>Air</td></tr>\n",
       "\t<tr><th scope=row>8</th><td>5</td><td>AS_5</td><td>AS_5_C</td><td>F</td><td>W</td><td>NH</td><td>NA</td><td>27.0</td><td>AS</td><td>C</td><td>Air</td></tr>\n",
       "\t<tr><th scope=row>10</th><td>6</td><td>AS_6</td><td>AS_6_C</td><td>F</td><td>B</td><td>NH</td><td>NA</td><td>21.9</td><td>AS</td><td>C</td><td>Air</td></tr>\n",
       "</tbody>\n",
       "</table>\n"
      ],
      "text/latex": [
       "A data.frame: 6 × 11\n",
       "\\begin{tabular}{r|lllllllllll}\n",
       "  & Subject\\_No & Subject\\_ID & Sample\\_ID & Sex & Race & Ethnicity & Age & BMI & Disease\\_Status & Exposure & Medium\\\\\n",
       "  & <dbl> & <chr> & <chr> & <chr> & <chr> & <chr> & <chr> & <dbl> & <chr> & <chr> & <chr>\\\\\n",
       "\\hline\n",
       "\t1 & 1 & AS\\_1 & AS\\_1\\_C & F & B & NH & 47 & 23.7 & AS & C & Air\\\\\n",
       "\t3 & 2 & AS\\_2 & AS\\_2\\_C & F & W & NH & 19 & 19.5 & AS & C & Air\\\\\n",
       "\t5 & 3 & AS\\_3 & AS\\_3\\_C & F & W & NH & 21 & 24.1 & AS & C & Air\\\\\n",
       "\t7 & 4 & AS\\_4 & AS\\_4\\_C & M & B & NH & 20 & 24.5 & AS & C & Air\\\\\n",
       "\t8 & 5 & AS\\_5 & AS\\_5\\_C & F & W & NH & NA & 27.0 & AS & C & Air\\\\\n",
       "\t10 & 6 & AS\\_6 & AS\\_6\\_C & F & B & NH & NA & 21.9 & AS & C & Air\\\\\n",
       "\\end{tabular}\n"
      ],
      "text/markdown": [
       "\n",
       "A data.frame: 6 × 11\n",
       "\n",
       "| <!--/--> | Subject_No &lt;dbl&gt; | Subject_ID &lt;chr&gt; | Sample_ID &lt;chr&gt; | Sex &lt;chr&gt; | Race &lt;chr&gt; | Ethnicity &lt;chr&gt; | Age &lt;chr&gt; | BMI &lt;dbl&gt; | Disease_Status &lt;chr&gt; | Exposure &lt;chr&gt; | Medium &lt;chr&gt; |\n",
       "|---|---|---|---|---|---|---|---|---|---|---|---|\n",
       "| 1 | 1 | AS_1 | AS_1_C | F | B | NH | 47 | 23.7 | AS | C | Air |\n",
       "| 3 | 2 | AS_2 | AS_2_C | F | W | NH | 19 | 19.5 | AS | C | Air |\n",
       "| 5 | 3 | AS_3 | AS_3_C | F | W | NH | 21 | 24.1 | AS | C | Air |\n",
       "| 7 | 4 | AS_4 | AS_4_C | M | B | NH | 20 | 24.5 | AS | C | Air |\n",
       "| 8 | 5 | AS_5 | AS_5_C | F | W | NH | NA | 27.0 | AS | C | Air |\n",
       "| 10 | 6 | AS_6 | AS_6_C | F | B | NH | NA | 21.9 | AS | C | Air |\n",
       "\n"
      ],
      "text/plain": [
       "   Subject_No Subject_ID Sample_ID Sex Race Ethnicity Age BMI  Disease_Status\n",
       "1  1          AS_1       AS_1_C    F   B    NH        47  23.7 AS            \n",
       "3  2          AS_2       AS_2_C    F   W    NH        19  19.5 AS            \n",
       "5  3          AS_3       AS_3_C    F   W    NH        21  24.1 AS            \n",
       "7  4          AS_4       AS_4_C    M   B    NH        20  24.5 AS            \n",
       "8  5          AS_5       AS_5_C    F   W    NH        NA  27.0 AS            \n",
       "10 6          AS_6       AS_6_C    F   B    NH        NA  21.9 AS            \n",
       "   Exposure Medium\n",
       "1  C        Air   \n",
       "3  C        Air   \n",
       "5  C        Air   \n",
       "7  C        Air   \n",
       "8  C        Air   \n",
       "10 C        Air   "
      ]
     },
     "metadata": {},
     "output_type": "display_data"
    }
   ],
   "source": [
    "# first creating a `coldata` object that contains all the metadata for each sample\n",
    "coldata = subject_info_df[,c(3:5,6:14)] %>%\n",
    "    separate(Sample_ID, sep = \"\\\\.\", c(\"Sample_ID\", NA)) %>%\n",
    "    select(-Replicate) %>%\n",
    "    # filtering for samples taken at baseline\n",
    "    filter(grepl(\"_C\", Sample_ID)) %>%\n",
    "    unique() \n",
    "\n",
    "head(coldata)"
   ]
  },
  {
   "cell_type": "code",
   "execution_count": 8,
   "id": "c26ce50a-c03f-44d1-80ca-cc6951f6f44c",
   "metadata": {},
   "outputs": [
    {
     "data": {
      "text/html": [
       "<table class=\"dataframe\">\n",
       "<caption>A data.frame: 6 × 10</caption>\n",
       "<thead>\n",
       "\t<tr><th></th><th scope=col>AS_1_C</th><th scope=col>AS_2_C</th><th scope=col>AS_3_C</th><th scope=col>AS_4_C</th><th scope=col>AS_5_C</th><th scope=col>AS_6_C</th><th scope=col>NAS_10_C</th><th scope=col>NAS_7_C</th><th scope=col>NAS_8_C</th><th scope=col>NAS_9_C</th></tr>\n",
       "\t<tr><th></th><th scope=col>&lt;dbl&gt;</th><th scope=col>&lt;dbl&gt;</th><th scope=col>&lt;dbl&gt;</th><th scope=col>&lt;dbl&gt;</th><th scope=col>&lt;dbl&gt;</th><th scope=col>&lt;dbl&gt;</th><th scope=col>&lt;dbl&gt;</th><th scope=col>&lt;dbl&gt;</th><th scope=col>&lt;dbl&gt;</th><th scope=col>&lt;dbl&gt;</th></tr>\n",
       "</thead>\n",
       "<tbody>\n",
       "\t<tr><th scope=row>A2M_1</th><td>   0</td><td>   0</td><td>   0</td><td>   0</td><td>   0</td><td>   0</td><td>   0</td><td>   0</td><td>   0</td><td>   0</td></tr>\n",
       "\t<tr><th scope=row>A2M_2</th><td>   0</td><td>   0</td><td>   0</td><td>   0</td><td>   0</td><td>   0</td><td>   0</td><td>   0</td><td>   0</td><td>   0</td></tr>\n",
       "\t<tr><th scope=row>A4GALT</th><td>4229</td><td>3736</td><td>4570</td><td>2236</td><td>2999</td><td>3748</td><td>5229</td><td>3748</td><td>3006</td><td>3099</td></tr>\n",
       "\t<tr><th scope=row>AADAC</th><td>   5</td><td>  26</td><td>  79</td><td>  15</td><td>  86</td><td>  73</td><td>  20</td><td> 134</td><td>  12</td><td>  20</td></tr>\n",
       "\t<tr><th scope=row>AADAT</th><td>   7</td><td>   2</td><td>  10</td><td>  16</td><td>  10</td><td>  16</td><td>   8</td><td>  14</td><td>   6</td><td>   8</td></tr>\n",
       "\t<tr><th scope=row>ABCA13</th><td>  82</td><td> 368</td><td> 174</td><td>  48</td><td> 322</td><td> 116</td><td> 102</td><td> 466</td><td> 107</td><td>  88</td></tr>\n",
       "</tbody>\n",
       "</table>\n"
      ],
      "text/latex": [
       "A data.frame: 6 × 10\n",
       "\\begin{tabular}{r|llllllllll}\n",
       "  & AS\\_1\\_C & AS\\_2\\_C & AS\\_3\\_C & AS\\_4\\_C & AS\\_5\\_C & AS\\_6\\_C & NAS\\_10\\_C & NAS\\_7\\_C & NAS\\_8\\_C & NAS\\_9\\_C\\\\\n",
       "  & <dbl> & <dbl> & <dbl> & <dbl> & <dbl> & <dbl> & <dbl> & <dbl> & <dbl> & <dbl>\\\\\n",
       "\\hline\n",
       "\tA2M\\_1 &    0 &    0 &    0 &    0 &    0 &    0 &    0 &    0 &    0 &    0\\\\\n",
       "\tA2M\\_2 &    0 &    0 &    0 &    0 &    0 &    0 &    0 &    0 &    0 &    0\\\\\n",
       "\tA4GALT & 4229 & 3736 & 4570 & 2236 & 2999 & 3748 & 5229 & 3748 & 3006 & 3099\\\\\n",
       "\tAADAC &    5 &   26 &   79 &   15 &   86 &   73 &   20 &  134 &   12 &   20\\\\\n",
       "\tAADAT &    7 &    2 &   10 &   16 &   10 &   16 &    8 &   14 &    6 &    8\\\\\n",
       "\tABCA13 &   82 &  368 &  174 &   48 &  322 &  116 &  102 &  466 &  107 &   88\\\\\n",
       "\\end{tabular}\n"
      ],
      "text/markdown": [
       "\n",
       "A data.frame: 6 × 10\n",
       "\n",
       "| <!--/--> | AS_1_C &lt;dbl&gt; | AS_2_C &lt;dbl&gt; | AS_3_C &lt;dbl&gt; | AS_4_C &lt;dbl&gt; | AS_5_C &lt;dbl&gt; | AS_6_C &lt;dbl&gt; | NAS_10_C &lt;dbl&gt; | NAS_7_C &lt;dbl&gt; | NAS_8_C &lt;dbl&gt; | NAS_9_C &lt;dbl&gt; |\n",
       "|---|---|---|---|---|---|---|---|---|---|---|\n",
       "| A2M_1 |    0 |    0 |    0 |    0 |    0 |    0 |    0 |    0 |    0 |    0 |\n",
       "| A2M_2 |    0 |    0 |    0 |    0 |    0 |    0 |    0 |    0 |    0 |    0 |\n",
       "| A4GALT | 4229 | 3736 | 4570 | 2236 | 2999 | 3748 | 5229 | 3748 | 3006 | 3099 |\n",
       "| AADAC |    5 |   26 |   79 |   15 |   86 |   73 |   20 |  134 |   12 |   20 |\n",
       "| AADAT |    7 |    2 |   10 |   16 |   10 |   16 |    8 |   14 |    6 |    8 |\n",
       "| ABCA13 |   82 |  368 |  174 |   48 |  322 |  116 |  102 |  466 |  107 |   88 |\n",
       "\n"
      ],
      "text/plain": [
       "       AS_1_C AS_2_C AS_3_C AS_4_C AS_5_C AS_6_C NAS_10_C NAS_7_C NAS_8_C\n",
       "A2M_1     0      0      0      0      0      0      0        0       0   \n",
       "A2M_2     0      0      0      0      0      0      0        0       0   \n",
       "A4GALT 4229   3736   4570   2236   2999   3748   5229     3748    3006   \n",
       "AADAC     5     26     79     15     86     73     20      134      12   \n",
       "AADAT     7      2     10     16     10     16      8       14       6   \n",
       "ABCA13   82    368    174     48    322    116    102      466     107   \n",
       "       NAS_9_C\n",
       "A2M_1     0   \n",
       "A2M_2     0   \n",
       "A4GALT 3099   \n",
       "AADAC    20   \n",
       "AADAT     8   \n",
       "ABCA13   88   "
      ]
     },
     "metadata": {},
     "output_type": "display_data"
    }
   ],
   "source": [
    "# making a `countdata` obj that contains genes as rows and sample names as cols\n",
    "countdata = longer_count_df %>%\n",
    "    pivot_wider(names_from = \"Sample_ID\", values_from = \"Value\") %>%\n",
    "    column_to_rownames(var = \"Unique_Gene\")\n",
    "\n",
    "head(countdata)"
   ]
  },
  {
   "cell_type": "code",
   "execution_count": 9,
   "id": "70f0a9d3-e8e9-4baf-b114-2cfbb2bb56b2",
   "metadata": {},
   "outputs": [
    {
     "data": {
      "text/plain": [
       "   Mode   FALSE \n",
       "logical      10 "
      ]
     },
     "metadata": {},
     "output_type": "display_data"
    },
    {
     "data": {
      "text/plain": [
       "   Mode   FALSE    TRUE \n",
       "logical    1221      63 "
      ]
     },
     "metadata": {},
     "output_type": "display_data"
    },
    {
     "data": {
      "text/html": [
       "<style>\n",
       ".list-inline {list-style: none; margin:0; padding: 0}\n",
       ".list-inline>li {display: inline-block}\n",
       ".list-inline>li:not(:last-child)::after {content: \"\\00b7\"; padding: 0 .5ex}\n",
       "</style>\n",
       "<ol class=list-inline><li>10</li><li>11</li></ol>\n"
      ],
      "text/latex": [
       "\\begin{enumerate*}\n",
       "\\item 10\n",
       "\\item 11\n",
       "\\end{enumerate*}\n"
      ],
      "text/markdown": [
       "1. 10\n",
       "2. 11\n",
       "\n",
       "\n"
      ],
      "text/plain": [
       "[1] 10 11"
      ]
     },
     "metadata": {},
     "output_type": "display_data"
    },
    {
     "data": {
      "text/html": [
       "<style>\n",
       ".list-inline {list-style: none; margin:0; padding: 0}\n",
       ".list-inline>li {display: inline-block}\n",
       ".list-inline>li:not(:last-child)::after {content: \"\\00b7\"; padding: 0 .5ex}\n",
       "</style>\n",
       "<ol class=list-inline><li>1284</li><li>10</li></ol>\n"
      ],
      "text/latex": [
       "\\begin{enumerate*}\n",
       "\\item 1284\n",
       "\\item 10\n",
       "\\end{enumerate*}\n"
      ],
      "text/markdown": [
       "1. 1284\n",
       "2. 10\n",
       "\n",
       "\n"
      ],
      "text/plain": [
       "[1] 1284   10"
      ]
     },
     "metadata": {},
     "output_type": "display_data"
    }
   ],
   "source": [
    "# checking for duplicates\n",
    "summary(duplicated(coldata))\n",
    "summary(duplicated(countdata))\n",
    "\n",
    "# getting dimensions\n",
    "dim(coldata)\n",
    "dim(countdata)"
   ]
  },
  {
   "cell_type": "code",
   "execution_count": 10,
   "id": "4f5c0197-1c98-4f60-9a03-b36a0c263112",
   "metadata": {},
   "outputs": [
    {
     "data": {
      "text/html": [
       "<table class=\"dataframe\">\n",
       "<caption>A data.frame: 6 × 10</caption>\n",
       "<thead>\n",
       "\t<tr><th></th><th scope=col>AS_1_C</th><th scope=col>AS_2_C</th><th scope=col>AS_3_C</th><th scope=col>AS_4_C</th><th scope=col>AS_5_C</th><th scope=col>AS_6_C</th><th scope=col>NAS_10_C</th><th scope=col>NAS_7_C</th><th scope=col>NAS_8_C</th><th scope=col>NAS_9_C</th></tr>\n",
       "\t<tr><th></th><th scope=col>&lt;dbl&gt;</th><th scope=col>&lt;dbl&gt;</th><th scope=col>&lt;dbl&gt;</th><th scope=col>&lt;dbl&gt;</th><th scope=col>&lt;dbl&gt;</th><th scope=col>&lt;dbl&gt;</th><th scope=col>&lt;dbl&gt;</th><th scope=col>&lt;dbl&gt;</th><th scope=col>&lt;dbl&gt;</th><th scope=col>&lt;dbl&gt;</th></tr>\n",
       "</thead>\n",
       "<tbody>\n",
       "\t<tr><th scope=row>A2M_2</th><td>0</td><td>0</td><td>0</td><td>0</td><td>0</td><td>0</td><td>0</td><td>0</td><td>0</td><td>0</td></tr>\n",
       "\t<tr><th scope=row>AHSG</th><td>0</td><td>0</td><td>0</td><td>0</td><td>0</td><td>0</td><td>0</td><td>0</td><td>0</td><td>0</td></tr>\n",
       "\t<tr><th scope=row>BDNF_1</th><td>0</td><td>0</td><td>0</td><td>0</td><td>0</td><td>0</td><td>0</td><td>0</td><td>0</td><td>0</td></tr>\n",
       "\t<tr><th scope=row>C3orf22</th><td>0</td><td>0</td><td>0</td><td>0</td><td>0</td><td>0</td><td>0</td><td>0</td><td>0</td><td>0</td></tr>\n",
       "\t<tr><th scope=row>CD28</th><td>0</td><td>0</td><td>0</td><td>0</td><td>0</td><td>0</td><td>0</td><td>0</td><td>0</td><td>0</td></tr>\n",
       "\t<tr><th scope=row>CGREF1_1</th><td>0</td><td>0</td><td>0</td><td>0</td><td>0</td><td>0</td><td>0</td><td>0</td><td>0</td><td>0</td></tr>\n",
       "</tbody>\n",
       "</table>\n"
      ],
      "text/latex": [
       "A data.frame: 6 × 10\n",
       "\\begin{tabular}{r|llllllllll}\n",
       "  & AS\\_1\\_C & AS\\_2\\_C & AS\\_3\\_C & AS\\_4\\_C & AS\\_5\\_C & AS\\_6\\_C & NAS\\_10\\_C & NAS\\_7\\_C & NAS\\_8\\_C & NAS\\_9\\_C\\\\\n",
       "  & <dbl> & <dbl> & <dbl> & <dbl> & <dbl> & <dbl> & <dbl> & <dbl> & <dbl> & <dbl>\\\\\n",
       "\\hline\n",
       "\tA2M\\_2 & 0 & 0 & 0 & 0 & 0 & 0 & 0 & 0 & 0 & 0\\\\\n",
       "\tAHSG & 0 & 0 & 0 & 0 & 0 & 0 & 0 & 0 & 0 & 0\\\\\n",
       "\tBDNF\\_1 & 0 & 0 & 0 & 0 & 0 & 0 & 0 & 0 & 0 & 0\\\\\n",
       "\tC3orf22 & 0 & 0 & 0 & 0 & 0 & 0 & 0 & 0 & 0 & 0\\\\\n",
       "\tCD28 & 0 & 0 & 0 & 0 & 0 & 0 & 0 & 0 & 0 & 0\\\\\n",
       "\tCGREF1\\_1 & 0 & 0 & 0 & 0 & 0 & 0 & 0 & 0 & 0 & 0\\\\\n",
       "\\end{tabular}\n"
      ],
      "text/markdown": [
       "\n",
       "A data.frame: 6 × 10\n",
       "\n",
       "| <!--/--> | AS_1_C &lt;dbl&gt; | AS_2_C &lt;dbl&gt; | AS_3_C &lt;dbl&gt; | AS_4_C &lt;dbl&gt; | AS_5_C &lt;dbl&gt; | AS_6_C &lt;dbl&gt; | NAS_10_C &lt;dbl&gt; | NAS_7_C &lt;dbl&gt; | NAS_8_C &lt;dbl&gt; | NAS_9_C &lt;dbl&gt; |\n",
       "|---|---|---|---|---|---|---|---|---|---|---|\n",
       "| A2M_2 | 0 | 0 | 0 | 0 | 0 | 0 | 0 | 0 | 0 | 0 |\n",
       "| AHSG | 0 | 0 | 0 | 0 | 0 | 0 | 0 | 0 | 0 | 0 |\n",
       "| BDNF_1 | 0 | 0 | 0 | 0 | 0 | 0 | 0 | 0 | 0 | 0 |\n",
       "| C3orf22 | 0 | 0 | 0 | 0 | 0 | 0 | 0 | 0 | 0 | 0 |\n",
       "| CD28 | 0 | 0 | 0 | 0 | 0 | 0 | 0 | 0 | 0 | 0 |\n",
       "| CGREF1_1 | 0 | 0 | 0 | 0 | 0 | 0 | 0 | 0 | 0 | 0 |\n",
       "\n"
      ],
      "text/plain": [
       "         AS_1_C AS_2_C AS_3_C AS_4_C AS_5_C AS_6_C NAS_10_C NAS_7_C NAS_8_C\n",
       "A2M_2    0      0      0      0      0      0      0        0       0      \n",
       "AHSG     0      0      0      0      0      0      0        0       0      \n",
       "BDNF_1   0      0      0      0      0      0      0        0       0      \n",
       "C3orf22  0      0      0      0      0      0      0        0       0      \n",
       "CD28     0      0      0      0      0      0      0        0       0      \n",
       "CGREF1_1 0      0      0      0      0      0      0        0       0      \n",
       "         NAS_9_C\n",
       "A2M_2    0      \n",
       "AHSG     0      \n",
       "BDNF_1   0      \n",
       "C3orf22  0      \n",
       "CD28     0      \n",
       "CGREF1_1 0      "
      ]
     },
     "metadata": {},
     "output_type": "display_data"
    }
   ],
   "source": [
    "# checking duplicates\n",
    "dups = rownames(countdata)[duplicated(countdata)]\n",
    "head(countdata[dups,])"
   ]
  },
  {
   "cell_type": "markdown",
   "id": "10051942-3098-4c0f-aef2-6c001fed3b83",
   "metadata": {},
   "source": [
    "These are considered duplicates since all the data contains zeros, but the df doesn't actually contain duplicate genes or columns. "
   ]
  },
  {
   "cell_type": "code",
   "execution_count": 11,
   "id": "a851d909-e8cd-4b2d-9eff-92a3baf899b5",
   "metadata": {},
   "outputs": [
    {
     "data": {
      "text/html": [
       "<table class=\"dataframe\">\n",
       "<caption>A data.frame: 6 × 10</caption>\n",
       "<thead>\n",
       "\t<tr><th></th><th scope=col>AS_1_C</th><th scope=col>AS_2_C</th><th scope=col>AS_3_C</th><th scope=col>AS_4_C</th><th scope=col>AS_5_C</th><th scope=col>AS_6_C</th><th scope=col>NAS_7_C</th><th scope=col>NAS_8_C</th><th scope=col>NAS_9_C</th><th scope=col>NAS_10_C</th></tr>\n",
       "\t<tr><th></th><th scope=col>&lt;dbl&gt;</th><th scope=col>&lt;dbl&gt;</th><th scope=col>&lt;dbl&gt;</th><th scope=col>&lt;dbl&gt;</th><th scope=col>&lt;dbl&gt;</th><th scope=col>&lt;dbl&gt;</th><th scope=col>&lt;dbl&gt;</th><th scope=col>&lt;dbl&gt;</th><th scope=col>&lt;dbl&gt;</th><th scope=col>&lt;dbl&gt;</th></tr>\n",
       "</thead>\n",
       "<tbody>\n",
       "\t<tr><th scope=row>A2M_1</th><td>   0</td><td>   0</td><td>   0</td><td>   0</td><td>   0</td><td>   0</td><td>   0</td><td>   0</td><td>   0</td><td>   0</td></tr>\n",
       "\t<tr><th scope=row>A2M_2</th><td>   0</td><td>   0</td><td>   0</td><td>   0</td><td>   0</td><td>   0</td><td>   0</td><td>   0</td><td>   0</td><td>   0</td></tr>\n",
       "\t<tr><th scope=row>A4GALT</th><td>4229</td><td>3736</td><td>4570</td><td>2236</td><td>2999</td><td>3748</td><td>3748</td><td>3006</td><td>3099</td><td>5229</td></tr>\n",
       "\t<tr><th scope=row>AADAC</th><td>   5</td><td>  26</td><td>  79</td><td>  15</td><td>  86</td><td>  73</td><td> 134</td><td>  12</td><td>  20</td><td>  20</td></tr>\n",
       "\t<tr><th scope=row>AADAT</th><td>   7</td><td>   2</td><td>  10</td><td>  16</td><td>  10</td><td>  16</td><td>  14</td><td>   6</td><td>   8</td><td>   8</td></tr>\n",
       "\t<tr><th scope=row>ABCA13</th><td>  82</td><td> 368</td><td> 174</td><td>  48</td><td> 322</td><td> 116</td><td> 466</td><td> 107</td><td>  88</td><td> 102</td></tr>\n",
       "</tbody>\n",
       "</table>\n"
      ],
      "text/latex": [
       "A data.frame: 6 × 10\n",
       "\\begin{tabular}{r|llllllllll}\n",
       "  & AS\\_1\\_C & AS\\_2\\_C & AS\\_3\\_C & AS\\_4\\_C & AS\\_5\\_C & AS\\_6\\_C & NAS\\_7\\_C & NAS\\_8\\_C & NAS\\_9\\_C & NAS\\_10\\_C\\\\\n",
       "  & <dbl> & <dbl> & <dbl> & <dbl> & <dbl> & <dbl> & <dbl> & <dbl> & <dbl> & <dbl>\\\\\n",
       "\\hline\n",
       "\tA2M\\_1 &    0 &    0 &    0 &    0 &    0 &    0 &    0 &    0 &    0 &    0\\\\\n",
       "\tA2M\\_2 &    0 &    0 &    0 &    0 &    0 &    0 &    0 &    0 &    0 &    0\\\\\n",
       "\tA4GALT & 4229 & 3736 & 4570 & 2236 & 2999 & 3748 & 3748 & 3006 & 3099 & 5229\\\\\n",
       "\tAADAC &    5 &   26 &   79 &   15 &   86 &   73 &  134 &   12 &   20 &   20\\\\\n",
       "\tAADAT &    7 &    2 &   10 &   16 &   10 &   16 &   14 &    6 &    8 &    8\\\\\n",
       "\tABCA13 &   82 &  368 &  174 &   48 &  322 &  116 &  466 &  107 &   88 &  102\\\\\n",
       "\\end{tabular}\n"
      ],
      "text/markdown": [
       "\n",
       "A data.frame: 6 × 10\n",
       "\n",
       "| <!--/--> | AS_1_C &lt;dbl&gt; | AS_2_C &lt;dbl&gt; | AS_3_C &lt;dbl&gt; | AS_4_C &lt;dbl&gt; | AS_5_C &lt;dbl&gt; | AS_6_C &lt;dbl&gt; | NAS_7_C &lt;dbl&gt; | NAS_8_C &lt;dbl&gt; | NAS_9_C &lt;dbl&gt; | NAS_10_C &lt;dbl&gt; |\n",
       "|---|---|---|---|---|---|---|---|---|---|---|\n",
       "| A2M_1 |    0 |    0 |    0 |    0 |    0 |    0 |    0 |    0 |    0 |    0 |\n",
       "| A2M_2 |    0 |    0 |    0 |    0 |    0 |    0 |    0 |    0 |    0 |    0 |\n",
       "| A4GALT | 4229 | 3736 | 4570 | 2236 | 2999 | 3748 | 3748 | 3006 | 3099 | 5229 |\n",
       "| AADAC |    5 |   26 |   79 |   15 |   86 |   73 |  134 |   12 |   20 |   20 |\n",
       "| AADAT |    7 |    2 |   10 |   16 |   10 |   16 |   14 |    6 |    8 |    8 |\n",
       "| ABCA13 |   82 |  368 |  174 |   48 |  322 |  116 |  466 |  107 |   88 |  102 |\n",
       "\n"
      ],
      "text/plain": [
       "       AS_1_C AS_2_C AS_3_C AS_4_C AS_5_C AS_6_C NAS_7_C NAS_8_C NAS_9_C\n",
       "A2M_1     0      0      0      0      0      0      0       0       0   \n",
       "A2M_2     0      0      0      0      0      0      0       0       0   \n",
       "A4GALT 4229   3736   4570   2236   2999   3748   3748    3006    3099   \n",
       "AADAC     5     26     79     15     86     73    134      12      20   \n",
       "AADAT     7      2     10     16     10     16     14       6       8   \n",
       "ABCA13   82    368    174     48    322    116    466     107      88   \n",
       "       NAS_10_C\n",
       "A2M_1     0    \n",
       "A2M_2     0    \n",
       "A4GALT 5229    \n",
       "AADAC    20    \n",
       "AADAT     8    \n",
       "ABCA13  102    "
      ]
     },
     "metadata": {},
     "output_type": "display_data"
    }
   ],
   "source": [
    "# Set the rownames of coldata and column names of countdata to be in the same order \n",
    "countdata <- setcolorder(countdata, as.character(coldata$Sample_ID))\n",
    "\n",
    "head(countdata)"
   ]
  },
  {
   "cell_type": "code",
   "execution_count": 12,
   "id": "40021e92-179e-4ef7-86c6-0eaec48e6d76",
   "metadata": {},
   "outputs": [
    {
     "data": {
      "text/html": [
       "TRUE"
      ],
      "text/latex": [
       "TRUE"
      ],
      "text/markdown": [
       "TRUE"
      ],
      "text/plain": [
       "[1] TRUE"
      ]
     },
     "metadata": {},
     "output_type": "display_data"
    },
    {
     "data": {
      "text/html": [
       "TRUE"
      ],
      "text/latex": [
       "TRUE"
      ],
      "text/markdown": [
       "TRUE"
      ],
      "text/plain": [
       "[1] TRUE"
      ]
     },
     "metadata": {},
     "output_type": "display_data"
    }
   ],
   "source": [
    "# Double checking that the same variables appear between the two dataframes\n",
    "setequal(as.character(coldata$Sample_ID), colnames(countdata))\n",
    "\n",
    "# Additionally checking that not only the sets of variables are the same, but that they are in the same order\n",
    "identical(as.character(coldata$Sample_ID), colnames(countdata))"
   ]
  },
  {
   "cell_type": "markdown",
   "id": "1e6633ba-f5ba-4511-83cb-0e6b7335b1a7",
   "metadata": {},
   "source": [
    "# Transcriptomics QA/QC \n",
    "Performed on raw count data to identify potential outlier samples. Starting by filtering lowly expressed genes."
   ]
  },
  {
   "cell_type": "code",
   "execution_count": 13,
   "id": "6e2b881d-dbab-4f0f-9c19-4c5449993b13",
   "metadata": {},
   "outputs": [
    {
     "data": {
      "text/html": [
       "<table class=\"dataframe\">\n",
       "<caption>A data.frame: 6 × 11</caption>\n",
       "<thead>\n",
       "\t<tr><th></th><th scope=col>Gene</th><th scope=col>AS_1_C</th><th scope=col>AS_2_C</th><th scope=col>AS_3_C</th><th scope=col>AS_4_C</th><th scope=col>AS_5_C</th><th scope=col>AS_6_C</th><th scope=col>NAS_7_C</th><th scope=col>NAS_8_C</th><th scope=col>NAS_9_C</th><th scope=col>NAS_10_C</th></tr>\n",
       "\t<tr><th></th><th scope=col>&lt;chr&gt;</th><th scope=col>&lt;dbl&gt;</th><th scope=col>&lt;dbl&gt;</th><th scope=col>&lt;dbl&gt;</th><th scope=col>&lt;dbl&gt;</th><th scope=col>&lt;dbl&gt;</th><th scope=col>&lt;dbl&gt;</th><th scope=col>&lt;dbl&gt;</th><th scope=col>&lt;dbl&gt;</th><th scope=col>&lt;dbl&gt;</th><th scope=col>&lt;dbl&gt;</th></tr>\n",
       "</thead>\n",
       "<tbody>\n",
       "\t<tr><th scope=row>1</th><td>A2M_1 </td><td>   0</td><td>   0</td><td>   0</td><td>   0</td><td>   0</td><td>   0</td><td>   0</td><td>   0</td><td>   0</td><td>   0</td></tr>\n",
       "\t<tr><th scope=row>2</th><td>A2M_2 </td><td>   0</td><td>   0</td><td>   0</td><td>   0</td><td>   0</td><td>   0</td><td>   0</td><td>   0</td><td>   0</td><td>   0</td></tr>\n",
       "\t<tr><th scope=row>3</th><td>A4GALT</td><td>4229</td><td>3736</td><td>4570</td><td>2236</td><td>2999</td><td>3748</td><td>3748</td><td>3006</td><td>3099</td><td>5229</td></tr>\n",
       "\t<tr><th scope=row>4</th><td>AADAC </td><td>   5</td><td>  26</td><td>  79</td><td>  15</td><td>  86</td><td>  73</td><td> 134</td><td>  12</td><td>  20</td><td>  20</td></tr>\n",
       "\t<tr><th scope=row>5</th><td>AADAT </td><td>   7</td><td>   2</td><td>  10</td><td>  16</td><td>  10</td><td>  16</td><td>  14</td><td>   6</td><td>   8</td><td>   8</td></tr>\n",
       "\t<tr><th scope=row>6</th><td>ABCA13</td><td>  82</td><td> 368</td><td> 174</td><td>  48</td><td> 322</td><td> 116</td><td> 466</td><td> 107</td><td>  88</td><td> 102</td></tr>\n",
       "</tbody>\n",
       "</table>\n"
      ],
      "text/latex": [
       "A data.frame: 6 × 11\n",
       "\\begin{tabular}{r|lllllllllll}\n",
       "  & Gene & AS\\_1\\_C & AS\\_2\\_C & AS\\_3\\_C & AS\\_4\\_C & AS\\_5\\_C & AS\\_6\\_C & NAS\\_7\\_C & NAS\\_8\\_C & NAS\\_9\\_C & NAS\\_10\\_C\\\\\n",
       "  & <chr> & <dbl> & <dbl> & <dbl> & <dbl> & <dbl> & <dbl> & <dbl> & <dbl> & <dbl> & <dbl>\\\\\n",
       "\\hline\n",
       "\t1 & A2M\\_1  &    0 &    0 &    0 &    0 &    0 &    0 &    0 &    0 &    0 &    0\\\\\n",
       "\t2 & A2M\\_2  &    0 &    0 &    0 &    0 &    0 &    0 &    0 &    0 &    0 &    0\\\\\n",
       "\t3 & A4GALT & 4229 & 3736 & 4570 & 2236 & 2999 & 3748 & 3748 & 3006 & 3099 & 5229\\\\\n",
       "\t4 & AADAC  &    5 &   26 &   79 &   15 &   86 &   73 &  134 &   12 &   20 &   20\\\\\n",
       "\t5 & AADAT  &    7 &    2 &   10 &   16 &   10 &   16 &   14 &    6 &    8 &    8\\\\\n",
       "\t6 & ABCA13 &   82 &  368 &  174 &   48 &  322 &  116 &  466 &  107 &   88 &  102\\\\\n",
       "\\end{tabular}\n"
      ],
      "text/markdown": [
       "\n",
       "A data.frame: 6 × 11\n",
       "\n",
       "| <!--/--> | Gene &lt;chr&gt; | AS_1_C &lt;dbl&gt; | AS_2_C &lt;dbl&gt; | AS_3_C &lt;dbl&gt; | AS_4_C &lt;dbl&gt; | AS_5_C &lt;dbl&gt; | AS_6_C &lt;dbl&gt; | NAS_7_C &lt;dbl&gt; | NAS_8_C &lt;dbl&gt; | NAS_9_C &lt;dbl&gt; | NAS_10_C &lt;dbl&gt; |\n",
       "|---|---|---|---|---|---|---|---|---|---|---|---|\n",
       "| 1 | A2M_1  |    0 |    0 |    0 |    0 |    0 |    0 |    0 |    0 |    0 |    0 |\n",
       "| 2 | A2M_2  |    0 |    0 |    0 |    0 |    0 |    0 |    0 |    0 |    0 |    0 |\n",
       "| 3 | A4GALT | 4229 | 3736 | 4570 | 2236 | 2999 | 3748 | 3748 | 3006 | 3099 | 5229 |\n",
       "| 4 | AADAC  |    5 |   26 |   79 |   15 |   86 |   73 |  134 |   12 |   20 |   20 |\n",
       "| 5 | AADAT  |    7 |    2 |   10 |   16 |   10 |   16 |   14 |    6 |    8 |    8 |\n",
       "| 6 | ABCA13 |   82 |  368 |  174 |   48 |  322 |  116 |  466 |  107 |   88 |  102 |\n",
       "\n"
      ],
      "text/plain": [
       "  Gene   AS_1_C AS_2_C AS_3_C AS_4_C AS_5_C AS_6_C NAS_7_C NAS_8_C NAS_9_C\n",
       "1 A2M_1     0      0      0      0      0      0      0       0       0   \n",
       "2 A2M_2     0      0      0      0      0      0      0       0       0   \n",
       "3 A4GALT 4229   3736   4570   2236   2999   3748   3748    3006    3099   \n",
       "4 AADAC     5     26     79     15     86     73    134      12      20   \n",
       "5 AADAT     7      2     10     16     10     16     14       6       8   \n",
       "6 ABCA13   82    368    174     48    322    116    466     107      88   \n",
       "  NAS_10_C\n",
       "1    0    \n",
       "2    0    \n",
       "3 5229    \n",
       "4   20    \n",
       "5    8    \n",
       "6  102    "
      ]
     },
     "metadata": {},
     "output_type": "display_data"
    }
   ],
   "source": [
    "# First count the total number of samples and save it as a value in the global environment\n",
    "nsamp <- ncol(countdata)\n",
    "\n",
    "# Then, calculate the median expression level across all genes and all samples and save it as a value\n",
    "total_median <- median(as.matrix(countdata), na.rm = TRUE)\n",
    "\n",
    "# We need to temporarily add back in the gene column to the countdata \n",
    "# so we can filter for genes that pass the background filter\n",
    "countdata <- countdata %>% \n",
    "    rownames_to_column(\"Gene\")\n",
    "\n",
    "head(countdata)"
   ]
  },
  {
   "cell_type": "code",
   "execution_count": 14,
   "id": "d0db57b1-58ab-49e9-a11a-a87b343be24d",
   "metadata": {},
   "outputs": [
    {
     "data": {
      "text/html": [
       "<style>\n",
       ".list-inline {list-style: none; margin:0; padding: 0}\n",
       ".list-inline>li {display: inline-block}\n",
       ".list-inline>li:not(:last-child)::after {content: \"\\00b7\"; padding: 0 .5ex}\n",
       "</style>\n",
       "<ol class=list-inline><li>724</li><li>11</li></ol>\n"
      ],
      "text/latex": [
       "\\begin{enumerate*}\n",
       "\\item 724\n",
       "\\item 11\n",
       "\\end{enumerate*}\n"
      ],
      "text/markdown": [
       "1. 724\n",
       "2. 11\n",
       "\n",
       "\n"
      ],
      "text/plain": [
       "[1] 724  11"
      ]
     },
     "metadata": {},
     "output_type": "display_data"
    }
   ],
   "source": [
    "# filtering for genes that have an expression greater than the total median in at least 20% of the samples\n",
    "genes_above_background <- countdata %>% \n",
    "    pivot_longer(cols =! Gene, names_to = \"sampleID\", values_to = \"expression\") %>% \n",
    "    # indicates whether the expression of a gene for the corresponding exposure condition is above (1) or not \n",
    "    # above (0) the median of all count data\n",
    "    mutate(above_median = ifelse(expression > total_median, 1, 0)) %>% \n",
    "    group_by(Gene) %>% \n",
    "    # For each gene, count the number of exposure conditions where the expression was greater than the median \n",
    "    # of all count data\n",
    "    summarize(total_above_median = sum(above_median)) %>% \n",
    "    # Filter for genes that have expression above the median in at least 20% of the samples\n",
    "    filter(total_above_median >= 0.2*nsamp) %>% \n",
    "    select(Gene) \n",
    "\n",
    "# Then filter the original 'countdata' dataframe for only the genes above background. \n",
    "countdata <- left_join(genes_above_background, countdata, by = \"Gene\")\n",
    "\n",
    "dim(countdata)"
   ]
  },
  {
   "cell_type": "markdown",
   "id": "b6cdccca-fa53-40d3-b014-632a9a40a486",
   "metadata": {},
   "source": [
    "This dataframe went from having 1,123 genes to 724 genes. Now filtering samples with no expression. "
   ]
  },
  {
   "cell_type": "code",
   "execution_count": 15,
   "id": "28dddc49-88d3-47c5-9124-2612a6d96c60",
   "metadata": {},
   "outputs": [
    {
     "data": {
      "text/html": [
       "<style>\n",
       ".list-inline {list-style: none; margin:0; padding: 0}\n",
       ".list-inline>li {display: inline-block}\n",
       ".list-inline>li:not(:last-child)::after {content: \"\\00b7\"; padding: 0 .5ex}\n",
       "</style>\n",
       "<ol class=list-inline><li>724</li><li>10</li></ol>\n"
      ],
      "text/latex": [
       "\\begin{enumerate*}\n",
       "\\item 724\n",
       "\\item 10\n",
       "\\end{enumerate*}\n"
      ],
      "text/markdown": [
       "1. 724\n",
       "2. 10\n",
       "\n",
       "\n"
      ],
      "text/plain": [
       "[1] 724  10"
      ]
     },
     "metadata": {},
     "output_type": "display_data"
    }
   ],
   "source": [
    "countdata_T <- countdata %>% \n",
    "  pivot_longer(cols =! Gene, names_to = \"sampleID\",values_to = \"expression\") %>% \n",
    "  pivot_wider(names_from = Gene, values_from = expression)\n",
    "\n",
    "# Then add in a column to the transposed countdata dataframe that sums expression across all genes for each \n",
    "# exposure condition\n",
    "countdata_T$rowsum <- rowSums(countdata_T[2:ncol(countdata_T)])\n",
    "\n",
    "# Remove samples that have no expression\n",
    "countdata_T <- countdata_T %>% \n",
    "    filter(rowsum != 0)\n",
    "\n",
    "# Take the count data filtered for correct samples, remove the 'rowsums' column\n",
    "countdata_T <- countdata_T %>% \n",
    "    select(!rowsum) \n",
    "\n",
    "# Then, transpose it back to the correct format for analysis\n",
    "countdata <- countdata_T %>%\n",
    "  pivot_longer(cols =! sampleID, names_to = \"Gene\", values_to = \"expression\") %>% \n",
    "  pivot_wider(names_from = sampleID, values_from = \"expression\") %>%\n",
    "    column_to_rownames(var = \"Gene\")\n",
    "\n",
    "dim(countdata)"
   ]
  },
  {
   "cell_type": "markdown",
   "id": "03bc031f-dc89-4eac-82fe-1e44f95f97b7",
   "metadata": {},
   "source": [
    "No samples were removed. Now finding and removing sample outliers using PCA and hierarchical clustering."
   ]
  },
  {
   "cell_type": "code",
   "execution_count": 16,
   "id": "5e17f729-61fa-45dd-8a10-1f2ed69bda63",
   "metadata": {},
   "outputs": [
    {
     "data": {
      "image/png": "[encoded data removed]",
      "text/plain": [
       "plot without title"
      ]
     },
     "metadata": {
      "image/png": {
       "height": 300,
       "width": 600
      }
     },
     "output_type": "display_data"
    }
   ],
   "source": [
    "# PCA helps in identifying outlying samples for quality control and gives a feeling for the principal causes of \n",
    "# variation in a dataset\n",
    "\n",
    "# Calculate principal components using transposed count data\n",
    "pca <- prcomp(t(countdata))\n",
    "\n",
    "options(repr.plot.width = 10, repr.plot.height = 5) #changing size\n",
    "fviz_eig(pca, addlabels = TRUE)"
   ]
  },
  {
   "cell_type": "code",
   "execution_count": 17,
   "id": "f1e190e0-b499-447a-8461-8a866bba4be4",
   "metadata": {},
   "outputs": [
    {
     "data": {
      "text/html": [
       "<table class=\"dataframe\">\n",
       "<caption>A data.frame: 6 × 11</caption>\n",
       "<thead>\n",
       "\t<tr><th></th><th scope=col>Subject_No</th><th scope=col>Subject_ID</th><th scope=col>Sample_ID</th><th scope=col>Sex</th><th scope=col>Race</th><th scope=col>Ethnicity</th><th scope=col>Age</th><th scope=col>BMI</th><th scope=col>Disease_Status</th><th scope=col>Exposure</th><th scope=col>Medium</th></tr>\n",
       "\t<tr><th></th><th scope=col>&lt;dbl&gt;</th><th scope=col>&lt;chr&gt;</th><th scope=col>&lt;chr&gt;</th><th scope=col>&lt;chr&gt;</th><th scope=col>&lt;chr&gt;</th><th scope=col>&lt;chr&gt;</th><th scope=col>&lt;chr&gt;</th><th scope=col>&lt;dbl&gt;</th><th scope=col>&lt;chr&gt;</th><th scope=col>&lt;chr&gt;</th><th scope=col>&lt;chr&gt;</th></tr>\n",
       "</thead>\n",
       "<tbody>\n",
       "\t<tr><th scope=row>1</th><td>1</td><td>AS_1</td><td>AS_1_C</td><td>F</td><td>B</td><td>NH</td><td>47</td><td>23.7</td><td>AS</td><td>C</td><td>Air</td></tr>\n",
       "\t<tr><th scope=row>3</th><td>2</td><td>AS_2</td><td>AS_2_C</td><td>F</td><td>W</td><td>NH</td><td>19</td><td>19.5</td><td>AS</td><td>C</td><td>Air</td></tr>\n",
       "\t<tr><th scope=row>5</th><td>3</td><td>AS_3</td><td>AS_3_C</td><td>F</td><td>W</td><td>NH</td><td>21</td><td>24.1</td><td>AS</td><td>C</td><td>Air</td></tr>\n",
       "\t<tr><th scope=row>7</th><td>4</td><td>AS_4</td><td>AS_4_C</td><td>M</td><td>B</td><td>NH</td><td>20</td><td>24.5</td><td>AS</td><td>C</td><td>Air</td></tr>\n",
       "\t<tr><th scope=row>8</th><td>5</td><td>AS_5</td><td>AS_5_C</td><td>F</td><td>W</td><td>NH</td><td>NA</td><td>27.0</td><td>AS</td><td>C</td><td>Air</td></tr>\n",
       "\t<tr><th scope=row>10</th><td>6</td><td>AS_6</td><td>AS_6_C</td><td>F</td><td>B</td><td>NH</td><td>NA</td><td>21.9</td><td>AS</td><td>C</td><td>Air</td></tr>\n",
       "</tbody>\n",
       "</table>\n"
      ],
      "text/latex": [
       "A data.frame: 6 × 11\n",
       "\\begin{tabular}{r|lllllllllll}\n",
       "  & Subject\\_No & Subject\\_ID & Sample\\_ID & Sex & Race & Ethnicity & Age & BMI & Disease\\_Status & Exposure & Medium\\\\\n",
       "  & <dbl> & <chr> & <chr> & <chr> & <chr> & <chr> & <chr> & <dbl> & <chr> & <chr> & <chr>\\\\\n",
       "\\hline\n",
       "\t1 & 1 & AS\\_1 & AS\\_1\\_C & F & B & NH & 47 & 23.7 & AS & C & Air\\\\\n",
       "\t3 & 2 & AS\\_2 & AS\\_2\\_C & F & W & NH & 19 & 19.5 & AS & C & Air\\\\\n",
       "\t5 & 3 & AS\\_3 & AS\\_3\\_C & F & W & NH & 21 & 24.1 & AS & C & Air\\\\\n",
       "\t7 & 4 & AS\\_4 & AS\\_4\\_C & M & B & NH & 20 & 24.5 & AS & C & Air\\\\\n",
       "\t8 & 5 & AS\\_5 & AS\\_5\\_C & F & W & NH & NA & 27.0 & AS & C & Air\\\\\n",
       "\t10 & 6 & AS\\_6 & AS\\_6\\_C & F & B & NH & NA & 21.9 & AS & C & Air\\\\\n",
       "\\end{tabular}\n"
      ],
      "text/markdown": [
       "\n",
       "A data.frame: 6 × 11\n",
       "\n",
       "| <!--/--> | Subject_No &lt;dbl&gt; | Subject_ID &lt;chr&gt; | Sample_ID &lt;chr&gt; | Sex &lt;chr&gt; | Race &lt;chr&gt; | Ethnicity &lt;chr&gt; | Age &lt;chr&gt; | BMI &lt;dbl&gt; | Disease_Status &lt;chr&gt; | Exposure &lt;chr&gt; | Medium &lt;chr&gt; |\n",
       "|---|---|---|---|---|---|---|---|---|---|---|---|\n",
       "| 1 | 1 | AS_1 | AS_1_C | F | B | NH | 47 | 23.7 | AS | C | Air |\n",
       "| 3 | 2 | AS_2 | AS_2_C | F | W | NH | 19 | 19.5 | AS | C | Air |\n",
       "| 5 | 3 | AS_3 | AS_3_C | F | W | NH | 21 | 24.1 | AS | C | Air |\n",
       "| 7 | 4 | AS_4 | AS_4_C | M | B | NH | 20 | 24.5 | AS | C | Air |\n",
       "| 8 | 5 | AS_5 | AS_5_C | F | W | NH | NA | 27.0 | AS | C | Air |\n",
       "| 10 | 6 | AS_6 | AS_6_C | F | B | NH | NA | 21.9 | AS | C | Air |\n",
       "\n"
      ],
      "text/plain": [
       "   Subject_No Subject_ID Sample_ID Sex Race Ethnicity Age BMI  Disease_Status\n",
       "1  1          AS_1       AS_1_C    F   B    NH        47  23.7 AS            \n",
       "3  2          AS_2       AS_2_C    F   W    NH        19  19.5 AS            \n",
       "5  3          AS_3       AS_3_C    F   W    NH        21  24.1 AS            \n",
       "7  4          AS_4       AS_4_C    M   B    NH        20  24.5 AS            \n",
       "8  5          AS_5       AS_5_C    F   W    NH        NA  27.0 AS            \n",
       "10 6          AS_6       AS_6_C    F   B    NH        NA  21.9 AS            \n",
       "   Exposure Medium\n",
       "1  C        Air   \n",
       "3  C        Air   \n",
       "5  C        Air   \n",
       "7  C        Air   \n",
       "8  C        Air   \n",
       "10 C        Air   "
      ]
     },
     "metadata": {},
     "output_type": "display_data"
    }
   ],
   "source": [
    "head(coldata)"
   ]
  },
  {
   "cell_type": "code",
   "execution_count": 18,
   "id": "77bc9e9d-739a-4cb3-bd8c-378abf4adc69",
   "metadata": {},
   "outputs": [
    {
     "name": "stderr",
     "output_type": "stream",
     "text": [
      "\u001b[1m\u001b[22mJoining with `by = join_by(Sample_ID)`\n"
     ]
    },
    {
     "data": {
      "text/html": [
       "<table class=\"dataframe\">\n",
       "<caption>A data.frame: 6 × 13</caption>\n",
       "<thead>\n",
       "\t<tr><th></th><th scope=col>PC1</th><th scope=col>PC2</th><th scope=col>Sample_ID</th><th scope=col>Subject_No</th><th scope=col>Subject_ID</th><th scope=col>Sex</th><th scope=col>Race</th><th scope=col>Ethnicity</th><th scope=col>Age</th><th scope=col>BMI</th><th scope=col>Disease_Status</th><th scope=col>Exposure</th><th scope=col>Medium</th></tr>\n",
       "\t<tr><th></th><th scope=col>&lt;dbl&gt;</th><th scope=col>&lt;dbl&gt;</th><th scope=col>&lt;chr&gt;</th><th scope=col>&lt;dbl&gt;</th><th scope=col>&lt;chr&gt;</th><th scope=col>&lt;chr&gt;</th><th scope=col>&lt;chr&gt;</th><th scope=col>&lt;chr&gt;</th><th scope=col>&lt;chr&gt;</th><th scope=col>&lt;dbl&gt;</th><th scope=col>&lt;chr&gt;</th><th scope=col>&lt;chr&gt;</th><th scope=col>&lt;chr&gt;</th></tr>\n",
       "</thead>\n",
       "<tbody>\n",
       "\t<tr><th scope=row>1</th><td> -61327.89</td><td> 32249.331</td><td>AS_1_C</td><td>1</td><td>AS_1</td><td>F</td><td>B</td><td>NH</td><td>47</td><td>23.7</td><td>AS</td><td>C</td><td>Air</td></tr>\n",
       "\t<tr><th scope=row>2</th><td>-192906.12</td><td> 24219.066</td><td>AS_2_C</td><td>2</td><td>AS_2</td><td>F</td><td>W</td><td>NH</td><td>19</td><td>19.5</td><td>AS</td><td>C</td><td>Air</td></tr>\n",
       "\t<tr><th scope=row>3</th><td>-100704.04</td><td>-79618.288</td><td>AS_3_C</td><td>3</td><td>AS_3</td><td>F</td><td>W</td><td>NH</td><td>21</td><td>24.1</td><td>AS</td><td>C</td><td>Air</td></tr>\n",
       "\t<tr><th scope=row>4</th><td> 281964.85</td><td>-39464.420</td><td>AS_4_C</td><td>4</td><td>AS_4</td><td>M</td><td>B</td><td>NH</td><td>20</td><td>24.5</td><td>AS</td><td>C</td><td>Air</td></tr>\n",
       "\t<tr><th scope=row>5</th><td>-236020.87</td><td>  9418.914</td><td>AS_5_C</td><td>5</td><td>AS_5</td><td>F</td><td>W</td><td>NH</td><td>NA</td><td>27.0</td><td>AS</td><td>C</td><td>Air</td></tr>\n",
       "\t<tr><th scope=row>6</th><td> 205266.29</td><td>-71940.682</td><td>AS_6_C</td><td>6</td><td>AS_6</td><td>F</td><td>B</td><td>NH</td><td>NA</td><td>21.9</td><td>AS</td><td>C</td><td>Air</td></tr>\n",
       "</tbody>\n",
       "</table>\n"
      ],
      "text/latex": [
       "A data.frame: 6 × 13\n",
       "\\begin{tabular}{r|lllllllllllll}\n",
       "  & PC1 & PC2 & Sample\\_ID & Subject\\_No & Subject\\_ID & Sex & Race & Ethnicity & Age & BMI & Disease\\_Status & Exposure & Medium\\\\\n",
       "  & <dbl> & <dbl> & <chr> & <dbl> & <chr> & <chr> & <chr> & <chr> & <chr> & <dbl> & <chr> & <chr> & <chr>\\\\\n",
       "\\hline\n",
       "\t1 &  -61327.89 &  32249.331 & AS\\_1\\_C & 1 & AS\\_1 & F & B & NH & 47 & 23.7 & AS & C & Air\\\\\n",
       "\t2 & -192906.12 &  24219.066 & AS\\_2\\_C & 2 & AS\\_2 & F & W & NH & 19 & 19.5 & AS & C & Air\\\\\n",
       "\t3 & -100704.04 & -79618.288 & AS\\_3\\_C & 3 & AS\\_3 & F & W & NH & 21 & 24.1 & AS & C & Air\\\\\n",
       "\t4 &  281964.85 & -39464.420 & AS\\_4\\_C & 4 & AS\\_4 & M & B & NH & 20 & 24.5 & AS & C & Air\\\\\n",
       "\t5 & -236020.87 &   9418.914 & AS\\_5\\_C & 5 & AS\\_5 & F & W & NH & NA & 27.0 & AS & C & Air\\\\\n",
       "\t6 &  205266.29 & -71940.682 & AS\\_6\\_C & 6 & AS\\_6 & F & B & NH & NA & 21.9 & AS & C & Air\\\\\n",
       "\\end{tabular}\n"
      ],
      "text/markdown": [
       "\n",
       "A data.frame: 6 × 13\n",
       "\n",
       "| <!--/--> | PC1 &lt;dbl&gt; | PC2 &lt;dbl&gt; | Sample_ID &lt;chr&gt; | Subject_No &lt;dbl&gt; | Subject_ID &lt;chr&gt; | Sex &lt;chr&gt; | Race &lt;chr&gt; | Ethnicity &lt;chr&gt; | Age &lt;chr&gt; | BMI &lt;dbl&gt; | Disease_Status &lt;chr&gt; | Exposure &lt;chr&gt; | Medium &lt;chr&gt; |\n",
       "|---|---|---|---|---|---|---|---|---|---|---|---|---|---|\n",
       "| 1 |  -61327.89 |  32249.331 | AS_1_C | 1 | AS_1 | F | B | NH | 47 | 23.7 | AS | C | Air |\n",
       "| 2 | -192906.12 |  24219.066 | AS_2_C | 2 | AS_2 | F | W | NH | 19 | 19.5 | AS | C | Air |\n",
       "| 3 | -100704.04 | -79618.288 | AS_3_C | 3 | AS_3 | F | W | NH | 21 | 24.1 | AS | C | Air |\n",
       "| 4 |  281964.85 | -39464.420 | AS_4_C | 4 | AS_4 | M | B | NH | 20 | 24.5 | AS | C | Air |\n",
       "| 5 | -236020.87 |   9418.914 | AS_5_C | 5 | AS_5 | F | W | NH | NA | 27.0 | AS | C | Air |\n",
       "| 6 |  205266.29 | -71940.682 | AS_6_C | 6 | AS_6 | F | B | NH | NA | 21.9 | AS | C | Air |\n",
       "\n"
      ],
      "text/plain": [
       "  PC1        PC2        Sample_ID Subject_No Subject_ID Sex Race Ethnicity Age\n",
       "1  -61327.89  32249.331 AS_1_C    1          AS_1       F   B    NH        47 \n",
       "2 -192906.12  24219.066 AS_2_C    2          AS_2       F   W    NH        19 \n",
       "3 -100704.04 -79618.288 AS_3_C    3          AS_3       F   W    NH        21 \n",
       "4  281964.85 -39464.420 AS_4_C    4          AS_4       M   B    NH        20 \n",
       "5 -236020.87   9418.914 AS_5_C    5          AS_5       F   W    NH        NA \n",
       "6  205266.29 -71940.682 AS_6_C    6          AS_6       F   B    NH        NA \n",
       "  BMI  Disease_Status Exposure Medium\n",
       "1 23.7 AS             C        Air   \n",
       "2 19.5 AS             C        Air   \n",
       "3 24.1 AS             C        Air   \n",
       "4 24.5 AS             C        Air   \n",
       "5 27.0 AS             C        Air   \n",
       "6 21.9 AS             C        Air   "
      ]
     },
     "metadata": {},
     "output_type": "display_data"
    }
   ],
   "source": [
    "# Make dataframe for PCA plot generation using first two components and the sample name\n",
    "pca_df <- data.frame(PC1 = pca$x[,1], PC2 = pca$x[,2], Sample_ID = colnames(countdata))\n",
    "\n",
    "# Calculating percent of the variation that is captured by each principal component\n",
    "pca_percent <- round(100 * pca$sdev^2/sum(pca$sdev^2), 1)\n",
    "\n",
    "# Organize dataframe so we can color our points by burn condition\n",
    "pca_df <- pca_df %>% \n",
    "    inner_join(coldata)\n",
    "\n",
    "head(pca_df)"
   ]
  },
  {
   "cell_type": "code",
   "execution_count": 19,
   "id": "3d06ade8-ee81-4dc2-8b5f-c8a4c914f3c8",
   "metadata": {},
   "outputs": [
    {
     "data": {
      "image/png": "[encoded data removed]",
      "text/plain": [
       "plot without title"
      ]
     },
     "metadata": {
      "image/png": {
       "height": 420,
       "width": 720
      }
     },
     "output_type": "display_data"
    }
   ],
   "source": [
    "options(repr.plot.width=12, repr.plot.height=7) #changing size\n",
    "\n",
    "ggplot(pca_df, aes(PC1, PC2)) +\n",
    "  geom_point(size = 4) +\n",
    "  geom_text_repel(aes(label = Sample_ID), size = 4) +\n",
    "  labs(x = paste0(\"PC1 (\",pca_percent[1],\"%)\"), y = paste0(\"PC2 (\",pca_percent[2],\"%)\"))"
   ]
  },
  {
   "cell_type": "code",
   "execution_count": 20,
   "id": "91ef639f-34c8-44e1-ad12-e54f65ca080c",
   "metadata": {},
   "outputs": [
    {
     "data": {
      "image/png": "[encoded data removed]",
      "text/plain": [
       "plot without title"
      ]
     },
     "metadata": {
      "image/png": {
       "height": 420,
       "width": 720
      }
     },
     "output_type": "display_data"
    }
   ],
   "source": [
    "countdata_for_clustering <- t(countdata)\n",
    "\n",
    "pheatmap(scale(countdata_for_clustering), \n",
    "         cluster_rows = TRUE, cluster_cols = FALSE, fontsize_col = 7, treeheight_row = 60, show_colnames = FALSE)"
   ]
  },
  {
   "cell_type": "markdown",
   "id": "67d30abf-2eec-4a71-a64b-60eb5908af67",
   "metadata": {},
   "source": [
    "There were no clear sample outliers from PCA or hierarchical clustering, so now we'll use a quantitative approach. The standard way to detect outliers in genetics is the criterion of being “more than 6 standard deviations away from the mean”. [source](https://privefl.github.io/blog/detecting-outlier-samples-in-pca/)"
   ]
  },
  {
   "cell_type": "code",
   "execution_count": 21,
   "id": "59362652-4314-4de7-9fa3-71a1c6f2848d",
   "metadata": {},
   "outputs": [],
   "source": [
    "outlier_detection = function(pca_df){\n",
    "    # \"\"\"\n",
    "    # Creating a scoring function for to detect PCA sample outliers. \n",
    "    # :param (input): PCA df (df)\n",
    "    # :output: outlier names\n",
    "    # \"\"\"\n",
    "    \n",
    "    # getting scores\n",
    "    scores = pca_df$x\n",
    "    # identifying samples that are > 6 standard deviations away from the mean\n",
    "    outlier_indices = apply(scores, 2, function(x) which( abs(x - mean(x)) > (6 * sd(x)) )) %>%\n",
    "        Reduce(union, .)\n",
    "    # getting sample names\n",
    "    outliers = rownames(scores)[outlier_indices]\n",
    "    \n",
    "    return(outliers)\n",
    "}\n",
    "\n",
    "# calling fn\n",
    "gene_outliers = outlier_detection(pca)  "
   ]
  },
  {
   "cell_type": "code",
   "execution_count": 22,
   "id": "789e54d2-84c3-4e1b-ac3c-9a7462835582",
   "metadata": {},
   "outputs": [
    {
     "data": {
      "text/html": [
       "0"
      ],
      "text/latex": [
       "0"
      ],
      "text/markdown": [
       "0"
      ],
      "text/plain": [
       "[1] 0"
      ]
     },
     "metadata": {},
     "output_type": "display_data"
    }
   ],
   "source": [
    "# getting length\n",
    "length(gene_outliers)"
   ]
  },
  {
   "cell_type": "markdown",
   "id": "eaa60de6-c54e-40e0-8009-11737ddf96b6",
   "metadata": {},
   "source": [
    "# DESeq2 Experiment"
   ]
  },
  {
   "cell_type": "code",
   "execution_count": 23,
   "id": "b0fb3225-e74c-4e5a-a7c1-f2a9d4dc4a04",
   "metadata": {},
   "outputs": [],
   "source": [
    "# Starting with putting variables into factors\n",
    "coldata$Disease_Status = factor(coldata$Disease_Status)\n",
    "coldata$Sex = factor(coldata$Sex)"
   ]
  },
  {
   "cell_type": "code",
   "execution_count": 24,
   "id": "f996824a-8737-4be2-8878-b1372987847c",
   "metadata": {},
   "outputs": [
    {
     "data": {
      "text/html": [
       "<table class=\"dataframe\">\n",
       "<caption>A data.frame: 6 × 10</caption>\n",
       "<thead>\n",
       "\t<tr><th></th><th scope=col>AS_1_C</th><th scope=col>AS_2_C</th><th scope=col>AS_3_C</th><th scope=col>AS_4_C</th><th scope=col>AS_5_C</th><th scope=col>AS_6_C</th><th scope=col>NAS_7_C</th><th scope=col>NAS_8_C</th><th scope=col>NAS_9_C</th><th scope=col>NAS_10_C</th></tr>\n",
       "\t<tr><th></th><th scope=col>&lt;dbl&gt;</th><th scope=col>&lt;dbl&gt;</th><th scope=col>&lt;dbl&gt;</th><th scope=col>&lt;dbl&gt;</th><th scope=col>&lt;dbl&gt;</th><th scope=col>&lt;dbl&gt;</th><th scope=col>&lt;dbl&gt;</th><th scope=col>&lt;dbl&gt;</th><th scope=col>&lt;dbl&gt;</th><th scope=col>&lt;dbl&gt;</th></tr>\n",
       "</thead>\n",
       "<tbody>\n",
       "\t<tr><th scope=row>A4GALT</th><td>4229</td><td>3736</td><td>4570</td><td>2236</td><td>2999</td><td>3748</td><td>3748</td><td>3006</td><td>3099</td><td>5229</td></tr>\n",
       "\t<tr><th scope=row>AADAC</th><td>   5</td><td>  26</td><td>  79</td><td>  15</td><td>  86</td><td>  73</td><td> 134</td><td>  12</td><td>  20</td><td>  20</td></tr>\n",
       "\t<tr><th scope=row>ABCA13</th><td>  82</td><td> 368</td><td> 174</td><td>  48</td><td> 322</td><td> 116</td><td> 466</td><td> 107</td><td>  88</td><td> 102</td></tr>\n",
       "\t<tr><th scope=row>ABHD17C</th><td> 556</td><td> 816</td><td>1344</td><td> 298</td><td> 752</td><td> 668</td><td>1009</td><td> 518</td><td> 583</td><td>1018</td></tr>\n",
       "\t<tr><th scope=row>ABHD2</th><td>1135</td><td> 791</td><td> 840</td><td> 674</td><td> 846</td><td>1300</td><td> 757</td><td> 906</td><td>1350</td><td> 964</td></tr>\n",
       "\t<tr><th scope=row>ABRACL</th><td>2518</td><td>1840</td><td>2594</td><td>3759</td><td>1944</td><td>3453</td><td>1760</td><td>2684</td><td>2078</td><td>2968</td></tr>\n",
       "</tbody>\n",
       "</table>\n"
      ],
      "text/latex": [
       "A data.frame: 6 × 10\n",
       "\\begin{tabular}{r|llllllllll}\n",
       "  & AS\\_1\\_C & AS\\_2\\_C & AS\\_3\\_C & AS\\_4\\_C & AS\\_5\\_C & AS\\_6\\_C & NAS\\_7\\_C & NAS\\_8\\_C & NAS\\_9\\_C & NAS\\_10\\_C\\\\\n",
       "  & <dbl> & <dbl> & <dbl> & <dbl> & <dbl> & <dbl> & <dbl> & <dbl> & <dbl> & <dbl>\\\\\n",
       "\\hline\n",
       "\tA4GALT & 4229 & 3736 & 4570 & 2236 & 2999 & 3748 & 3748 & 3006 & 3099 & 5229\\\\\n",
       "\tAADAC &    5 &   26 &   79 &   15 &   86 &   73 &  134 &   12 &   20 &   20\\\\\n",
       "\tABCA13 &   82 &  368 &  174 &   48 &  322 &  116 &  466 &  107 &   88 &  102\\\\\n",
       "\tABHD17C &  556 &  816 & 1344 &  298 &  752 &  668 & 1009 &  518 &  583 & 1018\\\\\n",
       "\tABHD2 & 1135 &  791 &  840 &  674 &  846 & 1300 &  757 &  906 & 1350 &  964\\\\\n",
       "\tABRACL & 2518 & 1840 & 2594 & 3759 & 1944 & 3453 & 1760 & 2684 & 2078 & 2968\\\\\n",
       "\\end{tabular}\n"
      ],
      "text/markdown": [
       "\n",
       "A data.frame: 6 × 10\n",
       "\n",
       "| <!--/--> | AS_1_C &lt;dbl&gt; | AS_2_C &lt;dbl&gt; | AS_3_C &lt;dbl&gt; | AS_4_C &lt;dbl&gt; | AS_5_C &lt;dbl&gt; | AS_6_C &lt;dbl&gt; | NAS_7_C &lt;dbl&gt; | NAS_8_C &lt;dbl&gt; | NAS_9_C &lt;dbl&gt; | NAS_10_C &lt;dbl&gt; |\n",
       "|---|---|---|---|---|---|---|---|---|---|---|\n",
       "| A4GALT | 4229 | 3736 | 4570 | 2236 | 2999 | 3748 | 3748 | 3006 | 3099 | 5229 |\n",
       "| AADAC |    5 |   26 |   79 |   15 |   86 |   73 |  134 |   12 |   20 |   20 |\n",
       "| ABCA13 |   82 |  368 |  174 |   48 |  322 |  116 |  466 |  107 |   88 |  102 |\n",
       "| ABHD17C |  556 |  816 | 1344 |  298 |  752 |  668 | 1009 |  518 |  583 | 1018 |\n",
       "| ABHD2 | 1135 |  791 |  840 |  674 |  846 | 1300 |  757 |  906 | 1350 |  964 |\n",
       "| ABRACL | 2518 | 1840 | 2594 | 3759 | 1944 | 3453 | 1760 | 2684 | 2078 | 2968 |\n",
       "\n"
      ],
      "text/plain": [
       "        AS_1_C AS_2_C AS_3_C AS_4_C AS_5_C AS_6_C NAS_7_C NAS_8_C NAS_9_C\n",
       "A4GALT  4229   3736   4570   2236   2999   3748   3748    3006    3099   \n",
       "AADAC      5     26     79     15     86     73    134      12      20   \n",
       "ABCA13    82    368    174     48    322    116    466     107      88   \n",
       "ABHD17C  556    816   1344    298    752    668   1009     518     583   \n",
       "ABHD2   1135    791    840    674    846   1300    757     906    1350   \n",
       "ABRACL  2518   1840   2594   3759   1944   3453   1760    2684    2078   \n",
       "        NAS_10_C\n",
       "A4GALT  5229    \n",
       "AADAC     20    \n",
       "ABCA13   102    \n",
       "ABHD17C 1018    \n",
       "ABHD2    964    \n",
       "ABRACL  2968    "
      ]
     },
     "metadata": {},
     "output_type": "display_data"
    },
    {
     "data": {
      "text/html": [
       "<table class=\"dataframe\">\n",
       "<caption>A data.frame: 6 × 11</caption>\n",
       "<thead>\n",
       "\t<tr><th></th><th scope=col>Subject_No</th><th scope=col>Subject_ID</th><th scope=col>Sample_ID</th><th scope=col>Sex</th><th scope=col>Race</th><th scope=col>Ethnicity</th><th scope=col>Age</th><th scope=col>BMI</th><th scope=col>Disease_Status</th><th scope=col>Exposure</th><th scope=col>Medium</th></tr>\n",
       "\t<tr><th></th><th scope=col>&lt;dbl&gt;</th><th scope=col>&lt;chr&gt;</th><th scope=col>&lt;chr&gt;</th><th scope=col>&lt;fct&gt;</th><th scope=col>&lt;chr&gt;</th><th scope=col>&lt;chr&gt;</th><th scope=col>&lt;chr&gt;</th><th scope=col>&lt;dbl&gt;</th><th scope=col>&lt;fct&gt;</th><th scope=col>&lt;chr&gt;</th><th scope=col>&lt;chr&gt;</th></tr>\n",
       "</thead>\n",
       "<tbody>\n",
       "\t<tr><th scope=row>1</th><td>1</td><td>AS_1</td><td>AS_1_C</td><td>F</td><td>B</td><td>NH</td><td>47</td><td>23.7</td><td>AS</td><td>C</td><td>Air</td></tr>\n",
       "\t<tr><th scope=row>3</th><td>2</td><td>AS_2</td><td>AS_2_C</td><td>F</td><td>W</td><td>NH</td><td>19</td><td>19.5</td><td>AS</td><td>C</td><td>Air</td></tr>\n",
       "\t<tr><th scope=row>5</th><td>3</td><td>AS_3</td><td>AS_3_C</td><td>F</td><td>W</td><td>NH</td><td>21</td><td>24.1</td><td>AS</td><td>C</td><td>Air</td></tr>\n",
       "\t<tr><th scope=row>7</th><td>4</td><td>AS_4</td><td>AS_4_C</td><td>M</td><td>B</td><td>NH</td><td>20</td><td>24.5</td><td>AS</td><td>C</td><td>Air</td></tr>\n",
       "\t<tr><th scope=row>8</th><td>5</td><td>AS_5</td><td>AS_5_C</td><td>F</td><td>W</td><td>NH</td><td>NA</td><td>27.0</td><td>AS</td><td>C</td><td>Air</td></tr>\n",
       "\t<tr><th scope=row>10</th><td>6</td><td>AS_6</td><td>AS_6_C</td><td>F</td><td>B</td><td>NH</td><td>NA</td><td>21.9</td><td>AS</td><td>C</td><td>Air</td></tr>\n",
       "</tbody>\n",
       "</table>\n"
      ],
      "text/latex": [
       "A data.frame: 6 × 11\n",
       "\\begin{tabular}{r|lllllllllll}\n",
       "  & Subject\\_No & Subject\\_ID & Sample\\_ID & Sex & Race & Ethnicity & Age & BMI & Disease\\_Status & Exposure & Medium\\\\\n",
       "  & <dbl> & <chr> & <chr> & <fct> & <chr> & <chr> & <chr> & <dbl> & <fct> & <chr> & <chr>\\\\\n",
       "\\hline\n",
       "\t1 & 1 & AS\\_1 & AS\\_1\\_C & F & B & NH & 47 & 23.7 & AS & C & Air\\\\\n",
       "\t3 & 2 & AS\\_2 & AS\\_2\\_C & F & W & NH & 19 & 19.5 & AS & C & Air\\\\\n",
       "\t5 & 3 & AS\\_3 & AS\\_3\\_C & F & W & NH & 21 & 24.1 & AS & C & Air\\\\\n",
       "\t7 & 4 & AS\\_4 & AS\\_4\\_C & M & B & NH & 20 & 24.5 & AS & C & Air\\\\\n",
       "\t8 & 5 & AS\\_5 & AS\\_5\\_C & F & W & NH & NA & 27.0 & AS & C & Air\\\\\n",
       "\t10 & 6 & AS\\_6 & AS\\_6\\_C & F & B & NH & NA & 21.9 & AS & C & Air\\\\\n",
       "\\end{tabular}\n"
      ],
      "text/markdown": [
       "\n",
       "A data.frame: 6 × 11\n",
       "\n",
       "| <!--/--> | Subject_No &lt;dbl&gt; | Subject_ID &lt;chr&gt; | Sample_ID &lt;chr&gt; | Sex &lt;fct&gt; | Race &lt;chr&gt; | Ethnicity &lt;chr&gt; | Age &lt;chr&gt; | BMI &lt;dbl&gt; | Disease_Status &lt;fct&gt; | Exposure &lt;chr&gt; | Medium &lt;chr&gt; |\n",
       "|---|---|---|---|---|---|---|---|---|---|---|---|\n",
       "| 1 | 1 | AS_1 | AS_1_C | F | B | NH | 47 | 23.7 | AS | C | Air |\n",
       "| 3 | 2 | AS_2 | AS_2_C | F | W | NH | 19 | 19.5 | AS | C | Air |\n",
       "| 5 | 3 | AS_3 | AS_3_C | F | W | NH | 21 | 24.1 | AS | C | Air |\n",
       "| 7 | 4 | AS_4 | AS_4_C | M | B | NH | 20 | 24.5 | AS | C | Air |\n",
       "| 8 | 5 | AS_5 | AS_5_C | F | W | NH | NA | 27.0 | AS | C | Air |\n",
       "| 10 | 6 | AS_6 | AS_6_C | F | B | NH | NA | 21.9 | AS | C | Air |\n",
       "\n"
      ],
      "text/plain": [
       "   Subject_No Subject_ID Sample_ID Sex Race Ethnicity Age BMI  Disease_Status\n",
       "1  1          AS_1       AS_1_C    F   B    NH        47  23.7 AS            \n",
       "3  2          AS_2       AS_2_C    F   W    NH        19  19.5 AS            \n",
       "5  3          AS_3       AS_3_C    F   W    NH        21  24.1 AS            \n",
       "7  4          AS_4       AS_4_C    M   B    NH        20  24.5 AS            \n",
       "8  5          AS_5       AS_5_C    F   W    NH        NA  27.0 AS            \n",
       "10 6          AS_6       AS_6_C    F   B    NH        NA  21.9 AS            \n",
       "   Exposure Medium\n",
       "1  C        Air   \n",
       "3  C        Air   \n",
       "5  C        Air   \n",
       "7  C        Air   \n",
       "8  C        Air   \n",
       "10 C        Air   "
      ]
     },
     "metadata": {},
     "output_type": "display_data"
    }
   ],
   "source": [
    "head(countdata)\n",
    "head(coldata)"
   ]
  },
  {
   "cell_type": "markdown",
   "id": "3d1256cc-9357-4769-b559-447cccf18109",
   "metadata": {},
   "source": [
    "We're interested in comparing non-asthmatics to asthmatics at baseline and throwing in sex as a covariate. \n",
    "\n",
    "> Design #1: Disease Status\n",
    "> \n",
    "> Design #2: Disease Status + Sex"
   ]
  },
  {
   "cell_type": "code",
   "execution_count": 25,
   "id": "afb87fb3-5f47-4dfa-b4d7-0165a271fece",
   "metadata": {},
   "outputs": [
    {
     "name": "stderr",
     "output_type": "stream",
     "text": [
      "converting counts to integer mode\n",
      "\n"
     ]
    },
    {
     "data": {
      "text/plain": [
       "class: DESeqDataSet \n",
       "dim: 724 10 \n",
       "metadata(1): version\n",
       "assays(1): counts\n",
       "rownames(724): A4GALT AADAC ... ZNF841_1 ZNF841_2\n",
       "rowData names(0):\n",
       "colnames(10): AS_1_C AS_2_C ... NAS_9_C NAS_10_C\n",
       "colData names(11): Subject_No Subject_ID ... Exposure Medium"
      ]
     },
     "metadata": {},
     "output_type": "display_data"
    }
   ],
   "source": [
    "# Our design indicates that our count data is dependent on the exposure condition \n",
    "# (Exposure variable) and our factor of unwanted variation, and we have specified \n",
    "# that there not be an intercept term through the use of '~0'\n",
    "\n",
    "# crude model\n",
    "dds <- DESeqDataSetFromMatrix(countData = countdata, colData = coldata, design = ~Sex) \n",
    "\n",
    "# View what the experiment contains\n",
    "dds"
   ]
  },
  {
   "cell_type": "code",
   "execution_count": 26,
   "id": "2ba921e0-4170-4a49-a638-fbb330ed05b2",
   "metadata": {},
   "outputs": [
    {
     "data": {
      "text/html": [
       "<style>\n",
       ".dl-inline {width: auto; margin:0; padding: 0}\n",
       ".dl-inline>dt, .dl-inline>dd {float: none; width: auto; display: inline-block}\n",
       ".dl-inline>dt::after {content: \":\\0020\"; padding-right: .5ex}\n",
       ".dl-inline>dt:not(:first-of-type) {padding-left: .5ex}\n",
       "</style><dl class=dl-inline><dt>AS_1_C</dt><dd>0.949406562644106</dd><dt>AS_2_C</dt><dd>0.917369338659632</dd><dt>AS_3_C</dt><dd>1.14584986729988</dd><dt>AS_4_C</dt><dd>1.11025655953656</dd><dt>AS_5_C</dt><dd>0.826220652199525</dd><dt>AS_6_C</dt><dd>1.18648381608031</dd><dt>NAS_7_C</dt><dd>0.981631094001925</dd><dt>NAS_8_C</dt><dd>0.952141720219244</dd><dt>NAS_9_C</dt><dd>0.977269708094099</dd><dt>NAS_10_C</dt><dd>1.08032611140199</dd></dl>\n"
      ],
      "text/latex": [
       "\\begin{description*}\n",
       "\\item[AS\\textbackslash{}\\_1\\textbackslash{}\\_C] 0.949406562644106\n",
       "\\item[AS\\textbackslash{}\\_2\\textbackslash{}\\_C] 0.917369338659632\n",
       "\\item[AS\\textbackslash{}\\_3\\textbackslash{}\\_C] 1.14584986729988\n",
       "\\item[AS\\textbackslash{}\\_4\\textbackslash{}\\_C] 1.11025655953656\n",
       "\\item[AS\\textbackslash{}\\_5\\textbackslash{}\\_C] 0.826220652199525\n",
       "\\item[AS\\textbackslash{}\\_6\\textbackslash{}\\_C] 1.18648381608031\n",
       "\\item[NAS\\textbackslash{}\\_7\\textbackslash{}\\_C] 0.981631094001925\n",
       "\\item[NAS\\textbackslash{}\\_8\\textbackslash{}\\_C] 0.952141720219244\n",
       "\\item[NAS\\textbackslash{}\\_9\\textbackslash{}\\_C] 0.977269708094099\n",
       "\\item[NAS\\textbackslash{}\\_10\\textbackslash{}\\_C] 1.08032611140199\n",
       "\\end{description*}\n"
      ],
      "text/markdown": [
       "AS_1_C\n",
       ":   0.949406562644106AS_2_C\n",
       ":   0.917369338659632AS_3_C\n",
       ":   1.14584986729988AS_4_C\n",
       ":   1.11025655953656AS_5_C\n",
       ":   0.826220652199525AS_6_C\n",
       ":   1.18648381608031NAS_7_C\n",
       ":   0.981631094001925NAS_8_C\n",
       ":   0.952141720219244NAS_9_C\n",
       ":   0.977269708094099NAS_10_C\n",
       ":   1.08032611140199\n",
       "\n"
      ],
      "text/plain": [
       "   AS_1_C    AS_2_C    AS_3_C    AS_4_C    AS_5_C    AS_6_C   NAS_7_C   NAS_8_C \n",
       "0.9494066 0.9173693 1.1458499 1.1102566 0.8262207 1.1864838 0.9816311 0.9521417 \n",
       "  NAS_9_C  NAS_10_C \n",
       "0.9772697 1.0803261 "
      ]
     },
     "metadata": {},
     "output_type": "display_data"
    }
   ],
   "source": [
    "# make sure that we have the main contrast in the order we want to calculate appropriate fold change values\n",
    "# dds$Disease_Status <- relevel (dds$Disease_Status, \"AS\")\n",
    "# dds_sex$Disease_Status <- relevel (dds_sex$Disease_Status, \"AS\")\n",
    "\n",
    "# estimate the size factors, since size factors are used to normalize the counts (next step)\n",
    "# The \"iterate\" estimator iterates between estimating the dispersion with a design of ~1, and finding a size factor vector by numerically \n",
    "# optimizing the likelihood of the ~1 model.\n",
    "dds <- estimateSizeFactors(dds)\n",
    "\n",
    "sizeFactors(dds) "
   ]
  },
  {
   "cell_type": "code",
   "execution_count": 27,
   "id": "8fdfdd12-c63b-4232-96a2-1bacce961ce3",
   "metadata": {},
   "outputs": [],
   "source": [
    "# normalized counts\n",
    "normcounts <- counts(dds, normalized = TRUE)\n",
    "\n",
    "# log2 pseudocounts\n",
    "log2normcounts <- log2(normcounts + 1)"
   ]
  },
  {
   "cell_type": "code",
   "execution_count": 28,
   "id": "82298470-0e11-42a6-83f7-b5281f55aeea",
   "metadata": {},
   "outputs": [
    {
     "data": {
      "text/html": [
       "724"
      ],
      "text/latex": [
       "724"
      ],
      "text/markdown": [
       "724"
      ],
      "text/plain": [
       "[1] 724"
      ]
     },
     "metadata": {},
     "output_type": "display_data"
    }
   ],
   "source": [
    "# Background filter: remove rows with only zeros or only a single count across all samples\n",
    "idx <- rowSums(normcounts) > 1     \n",
    "CountsAboveBack <- normcounts[idx,]\n",
    "nrow(CountsAboveBack)\n",
    "    \n",
    "# Also need to filter in the entire DESeq2 experiment\n",
    "dds <- dds[rowSums(counts(dds, normalized = TRUE)) > 1, ]"
   ]
  },
  {
   "cell_type": "markdown",
   "id": "c29204db-28e5-4c6f-8af7-d080eadfdfef",
   "metadata": {},
   "source": [
    "No genes were removed. \n",
    "# Statistical Analysis to detect Differentially Expressed Genes"
   ]
  },
  {
   "cell_type": "code",
   "execution_count": 29,
   "id": "d12ec113-f213-4f30-86d9-925b5151abb7",
   "metadata": {},
   "outputs": [
    {
     "name": "stderr",
     "output_type": "stream",
     "text": [
      "using pre-existing size factors\n",
      "\n",
      "estimating dispersions\n",
      "\n",
      "gene-wise dispersion estimates\n",
      "\n",
      "mean-dispersion relationship\n",
      "\n",
      "final dispersion estimates\n",
      "\n",
      "fitting model and testing\n",
      "\n",
      "-- replacing outliers and refitting for 2 genes\n",
      "-- DESeq argument 'minReplicatesForReplace' = 7 \n",
      "-- original counts are preserved in counts(dds)\n",
      "\n",
      "estimating dispersions\n",
      "\n",
      "fitting model and testing\n",
      "\n"
     ]
    }
   ],
   "source": [
    "# Running the differential expression statistical pipeline\n",
    "# because we used a user-defined model matrix, need to set betaPrior = FALSE\n",
    "dds <- DESeq(dds, betaPrior = FALSE) "
   ]
  },
  {
   "cell_type": "code",
   "execution_count": 30,
   "id": "0aa1be9c-d31d-490a-b13d-929c91b42a3e",
   "metadata": {},
   "outputs": [
    {
     "data": {
      "text/html": [
       "<table class=\"dataframe\">\n",
       "<caption>A data.frame: 6 × 8</caption>\n",
       "<thead>\n",
       "\t<tr><th></th><th scope=col>Gene</th><th scope=col>baseMean</th><th scope=col>log2FoldChange</th><th scope=col>lfcSE</th><th scope=col>stat</th><th scope=col>pvalue</th><th scope=col>padj</th><th scope=col>Covariates</th></tr>\n",
       "\t<tr><th></th><th scope=col>&lt;chr&gt;</th><th scope=col>&lt;dbl&gt;</th><th scope=col>&lt;dbl&gt;</th><th scope=col>&lt;dbl&gt;</th><th scope=col>&lt;dbl&gt;</th><th scope=col>&lt;dbl&gt;</th><th scope=col>&lt;dbl&gt;</th><th scope=col>&lt;chr&gt;</th></tr>\n",
       "</thead>\n",
       "<tbody>\n",
       "\t<tr><th scope=row>1</th><td>CD44   </td><td>1697.67472</td><td> 1.2713034</td><td>0.2701262</td><td> 4.706331</td><td>2.522155e-06</td><td>0.001823518</td><td>None</td></tr>\n",
       "\t<tr><th scope=row>2</th><td>SLC22A4</td><td> 342.32727</td><td>-1.8746593</td><td>0.4321823</td><td>-4.337658</td><td>1.440088e-05</td><td>0.005205920</td><td>None</td></tr>\n",
       "\t<tr><th scope=row>3</th><td>CLTB_2 </td><td>1108.55851</td><td> 0.7668610</td><td>0.2031132</td><td> 3.775535</td><td>1.596647e-04</td><td>0.036359849</td><td>None</td></tr>\n",
       "\t<tr><th scope=row>4</th><td>POC1B  </td><td> 999.19410</td><td>-0.6296842</td><td>0.1693813</td><td>-3.717554</td><td>2.011610e-04</td><td>0.036359849</td><td>None</td></tr>\n",
       "\t<tr><th scope=row>5</th><td>ADAT3  </td><td>  82.01363</td><td>-1.0676138</td><td>0.3152156</td><td>-3.386932</td><td>7.067879e-04</td><td>0.060120576</td><td>None</td></tr>\n",
       "\t<tr><th scope=row>6</th><td>BTBD3_2</td><td> 425.77714</td><td>-0.9171631</td><td>0.2857807</td><td>-3.209325</td><td>1.330469e-03</td><td>0.060120576</td><td>None</td></tr>\n",
       "</tbody>\n",
       "</table>\n"
      ],
      "text/latex": [
       "A data.frame: 6 × 8\n",
       "\\begin{tabular}{r|llllllll}\n",
       "  & Gene & baseMean & log2FoldChange & lfcSE & stat & pvalue & padj & Covariates\\\\\n",
       "  & <chr> & <dbl> & <dbl> & <dbl> & <dbl> & <dbl> & <dbl> & <chr>\\\\\n",
       "\\hline\n",
       "\t1 & CD44    & 1697.67472 &  1.2713034 & 0.2701262 &  4.706331 & 2.522155e-06 & 0.001823518 & None\\\\\n",
       "\t2 & SLC22A4 &  342.32727 & -1.8746593 & 0.4321823 & -4.337658 & 1.440088e-05 & 0.005205920 & None\\\\\n",
       "\t3 & CLTB\\_2  & 1108.55851 &  0.7668610 & 0.2031132 &  3.775535 & 1.596647e-04 & 0.036359849 & None\\\\\n",
       "\t4 & POC1B   &  999.19410 & -0.6296842 & 0.1693813 & -3.717554 & 2.011610e-04 & 0.036359849 & None\\\\\n",
       "\t5 & ADAT3   &   82.01363 & -1.0676138 & 0.3152156 & -3.386932 & 7.067879e-04 & 0.060120576 & None\\\\\n",
       "\t6 & BTBD3\\_2 &  425.77714 & -0.9171631 & 0.2857807 & -3.209325 & 1.330469e-03 & 0.060120576 & None\\\\\n",
       "\\end{tabular}\n"
      ],
      "text/markdown": [
       "\n",
       "A data.frame: 6 × 8\n",
       "\n",
       "| <!--/--> | Gene &lt;chr&gt; | baseMean &lt;dbl&gt; | log2FoldChange &lt;dbl&gt; | lfcSE &lt;dbl&gt; | stat &lt;dbl&gt; | pvalue &lt;dbl&gt; | padj &lt;dbl&gt; | Covariates &lt;chr&gt; |\n",
       "|---|---|---|---|---|---|---|---|---|\n",
       "| 1 | CD44    | 1697.67472 |  1.2713034 | 0.2701262 |  4.706331 | 2.522155e-06 | 0.001823518 | None |\n",
       "| 2 | SLC22A4 |  342.32727 | -1.8746593 | 0.4321823 | -4.337658 | 1.440088e-05 | 0.005205920 | None |\n",
       "| 3 | CLTB_2  | 1108.55851 |  0.7668610 | 0.2031132 |  3.775535 | 1.596647e-04 | 0.036359849 | None |\n",
       "| 4 | POC1B   |  999.19410 | -0.6296842 | 0.1693813 | -3.717554 | 2.011610e-04 | 0.036359849 | None |\n",
       "| 5 | ADAT3   |   82.01363 | -1.0676138 | 0.3152156 | -3.386932 | 7.067879e-04 | 0.060120576 | None |\n",
       "| 6 | BTBD3_2 |  425.77714 | -0.9171631 | 0.2857807 | -3.209325 | 1.330469e-03 | 0.060120576 | None |\n",
       "\n"
      ],
      "text/plain": [
       "  Gene    baseMean   log2FoldChange lfcSE     stat      pvalue      \n",
       "1 CD44    1697.67472  1.2713034     0.2701262  4.706331 2.522155e-06\n",
       "2 SLC22A4  342.32727 -1.8746593     0.4321823 -4.337658 1.440088e-05\n",
       "3 CLTB_2  1108.55851  0.7668610     0.2031132  3.775535 1.596647e-04\n",
       "4 POC1B    999.19410 -0.6296842     0.1693813 -3.717554 2.011610e-04\n",
       "5 ADAT3     82.01363 -1.0676138     0.3152156 -3.386932 7.067879e-04\n",
       "6 BTBD3_2  425.77714 -0.9171631     0.2857807 -3.209325 1.330469e-03\n",
       "  padj        Covariates\n",
       "1 0.001823518 None      \n",
       "2 0.005205920 None      \n",
       "3 0.036359849 None      \n",
       "4 0.036359849 None      \n",
       "5 0.060120576 None      \n",
       "6 0.060120576 None      "
      ]
     },
     "metadata": {},
     "output_type": "display_data"
    }
   ],
   "source": [
    "#start of running loop to compare all samples\n",
    "statistical_results = function(dds_experiment, covariates){\n",
    "    \n",
    "# Pulling statistical results\n",
    "#Statistical output with multiple test correction by the default, BH (aka FDR)\n",
    "res <- results(dds_experiment, pAdjustMethod = \"BH\", contrast = c(\"Sex\", \"M\", \"F\"))\n",
    "\n",
    "# Exporting statistical results\n",
    "res_df = data.frame(res)[order(res$padj),] \n",
    "filtered_res_df = res_df  %>%\n",
    "    # adding a col for covariates\n",
    "    mutate(Covariates = covariates) %>%\n",
    "    rownames_to_column(var = \"Gene\")\n",
    "    \n",
    "    return(filtered_res_df)\n",
    "}\n",
    "\n",
    "# calling function \n",
    "genes_df = statistical_results(dds, \"None\")\n",
    "\n",
    "head(genes_df)"
   ]
  },
  {
   "cell_type": "code",
   "execution_count": 31,
   "id": "a6ce7111-f516-445e-81b2-b14033a3ecfb",
   "metadata": {},
   "outputs": [
    {
     "data": {
      "text/html": [
       "<table class=\"dataframe\">\n",
       "<caption>A tibble: 1 × 2</caption>\n",
       "<thead>\n",
       "\t<tr><th scope=col>Covariates</th><th scope=col>n()</th></tr>\n",
       "\t<tr><th scope=col>&lt;chr&gt;</th><th scope=col>&lt;int&gt;</th></tr>\n",
       "</thead>\n",
       "<tbody>\n",
       "\t<tr><td>None</td><td>155</td></tr>\n",
       "</tbody>\n",
       "</table>\n"
      ],
      "text/latex": [
       "A tibble: 1 × 2\n",
       "\\begin{tabular}{ll}\n",
       " Covariates & n()\\\\\n",
       " <chr> & <int>\\\\\n",
       "\\hline\n",
       "\t None & 155\\\\\n",
       "\\end{tabular}\n"
      ],
      "text/markdown": [
       "\n",
       "A tibble: 1 × 2\n",
       "\n",
       "| Covariates &lt;chr&gt; | n() &lt;int&gt; |\n",
       "|---|---|\n",
       "| None | 155 |\n",
       "\n"
      ],
      "text/plain": [
       "  Covariates n()\n",
       "1 None       155"
      ]
     },
     "metadata": {},
     "output_type": "display_data"
    }
   ],
   "source": [
    "# total significant gene counts\n",
    "sig_genes_count_df = genes_df %>%\n",
    "    # filtering for only sig genes\n",
    "    filter(pvalue < 0.05) %>%\n",
    "    group_by(Covariates) %>%\n",
    "    summarize(n())\n",
    "\n",
    "sig_genes_count_df"
   ]
  },
  {
   "cell_type": "code",
   "execution_count": 32,
   "id": "926ce858-cdf8-4e40-a403-24a0b7ef3d27",
   "metadata": {},
   "outputs": [],
   "source": [
    "# exporting\n",
    "write.xlsx(genes_df, paste0(Output,\"/\", \"Baseline_Sex_DESeq2_\", cur_date, \".xlsx\"), \n",
    "           rowNames = FALSE)"
   ]
  },
  {
   "cell_type": "code",
   "execution_count": null,
   "id": "7f23c138-ef9e-49ca-a1d8-a347e65d23d3",
   "metadata": {},
   "outputs": [],
   "source": []
  }
 ],
 "metadata": {
  "kernelspec": {
   "display_name": "R",
   "language": "R",
   "name": "ir"
  },
  "language_info": {
   "codemirror_mode": "r",
   "file_extension": ".r",
   "mimetype": "text/x-r-source",
   "name": "R",
   "pygments_lexer": "r",
   "version": "4.3.1"
  }
 },
 "nbformat": 4,
 "nbformat_minor": 5
}
