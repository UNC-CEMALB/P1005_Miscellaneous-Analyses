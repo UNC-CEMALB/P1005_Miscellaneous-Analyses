{
 "cells": [
  {
   "cell_type": "code",
   "execution_count": 1,
   "id": "85b194a5",
   "metadata": {},
   "outputs": [
    {
     "name": "stderr",
     "output_type": "stream",
     "text": [
      "── \u001b[1mAttaching core tidyverse packages\u001b[22m ──────────────────────── tidyverse 2.0.0 ──\n",
      "\u001b[32m✔\u001b[39m \u001b[34mdplyr    \u001b[39m 1.1.3     \u001b[32m✔\u001b[39m \u001b[34mreadr    \u001b[39m 2.1.4\n",
      "\u001b[32m✔\u001b[39m \u001b[34mforcats  \u001b[39m 1.0.0     \u001b[32m✔\u001b[39m \u001b[34mstringr  \u001b[39m 1.5.0\n",
      "\u001b[32m✔\u001b[39m \u001b[34mggplot2  \u001b[39m 3.4.3     \u001b[32m✔\u001b[39m \u001b[34mtibble   \u001b[39m 3.2.1\n",
      "\u001b[32m✔\u001b[39m \u001b[34mlubridate\u001b[39m 1.9.2     \u001b[32m✔\u001b[39m \u001b[34mtidyr    \u001b[39m 1.3.0\n",
      "\u001b[32m✔\u001b[39m \u001b[34mpurrr    \u001b[39m 1.0.2     \n",
      "── \u001b[1mConflicts\u001b[22m ────────────────────────────────────────── tidyverse_conflicts() ──\n",
      "\u001b[31m✖\u001b[39m \u001b[34mdplyr\u001b[39m::\u001b[32mfilter()\u001b[39m masks \u001b[34mstats\u001b[39m::filter()\n",
      "\u001b[31m✖\u001b[39m \u001b[34mdplyr\u001b[39m::\u001b[32mlag()\u001b[39m    masks \u001b[34mstats\u001b[39m::lag()\n",
      "\u001b[36mℹ\u001b[39m Use the conflicted package (\u001b[3m\u001b[34m<http://conflicted.r-lib.org/>\u001b[39m\u001b[23m) to force all conflicts to become errors\n",
      "\n",
      "Attaching package: ‘reshape2’\n",
      "\n",
      "\n",
      "The following object is masked from ‘package:tidyr’:\n",
      "\n",
      "    smiths\n",
      "\n",
      "\n"
     ]
    },
    {
     "data": {
      "text/html": [
       "<table class=\"dataframe\">\n",
       "<caption>A data.frame: 6 × 11</caption>\n",
       "<thead>\n",
       "\t<tr><th></th><th scope=col>Protein_Accession</th><th scope=col>Gene_Name</th><th scope=col>Protein_Descriptions</th><th scope=col>Protein_Name</th><th scope=col>Number_Unique_Peptides</th><th scope=col>Subject_ID</th><th scope=col>Sample_ID</th><th scope=col>Intensity</th><th scope=col>Imputed_Norm_Intensity</th><th scope=col>Subject_No</th><th scope=col>PrevPost</th></tr>\n",
       "\t<tr><th></th><th scope=col>&lt;chr&gt;</th><th scope=col>&lt;chr&gt;</th><th scope=col>&lt;chr&gt;</th><th scope=col>&lt;chr&gt;</th><th scope=col>&lt;dbl&gt;</th><th scope=col>&lt;chr&gt;</th><th scope=col>&lt;chr&gt;</th><th scope=col>&lt;dbl&gt;</th><th scope=col>&lt;dbl&gt;</th><th scope=col>&lt;dbl&gt;</th><th scope=col>&lt;chr&gt;</th></tr>\n",
       "</thead>\n",
       "<tbody>\n",
       "\t<tr><th scope=row>1</th><td>P61626</td><td>LYZ</td><td>Lysozyme C</td><td>LYSC_HUMAN</td><td>21</td><td>NR_1</td><td>Post_1</td><td>64819128</td><td>73788697</td><td> 1</td><td>Post</td></tr>\n",
       "\t<tr><th scope=row>2</th><td>P61626</td><td>LYZ</td><td>Lysozyme C</td><td>LYSC_HUMAN</td><td>21</td><td>NR_1</td><td>Pre_2 </td><td>88131664</td><td>81867431</td><td> 1</td><td>Pre </td></tr>\n",
       "\t<tr><th scope=row>3</th><td>P61626</td><td>LYZ</td><td>Lysozyme C</td><td>LYSC_HUMAN</td><td>21</td><td>NR_2</td><td>Post_3</td><td>30396704</td><td>32521079</td><td> 2</td><td>Post</td></tr>\n",
       "\t<tr><th scope=row>4</th><td>P61626</td><td>LYZ</td><td>Lysozyme C</td><td>LYSC_HUMAN</td><td>21</td><td>NR_2</td><td>Pre_4 </td><td>38267072</td><td>69466046</td><td> 2</td><td>Pre </td></tr>\n",
       "\t<tr><th scope=row>5</th><td>P61626</td><td>LYZ</td><td>Lysozyme C</td><td>LYSC_HUMAN</td><td>21</td><td>R_16</td><td>Post_5</td><td>68394088</td><td>67261697</td><td>16</td><td>Post</td></tr>\n",
       "\t<tr><th scope=row>6</th><td>P61626</td><td>LYZ</td><td>Lysozyme C</td><td>LYSC_HUMAN</td><td>21</td><td>R_16</td><td>Pre_6 </td><td>50484084</td><td>54090668</td><td>16</td><td>Pre </td></tr>\n",
       "</tbody>\n",
       "</table>\n"
      ],
      "text/latex": [
       "A data.frame: 6 × 11\n",
       "\\begin{tabular}{r|lllllllllll}\n",
       "  & Protein\\_Accession & Gene\\_Name & Protein\\_Descriptions & Protein\\_Name & Number\\_Unique\\_Peptides & Subject\\_ID & Sample\\_ID & Intensity & Imputed\\_Norm\\_Intensity & Subject\\_No & PrevPost\\\\\n",
       "  & <chr> & <chr> & <chr> & <chr> & <dbl> & <chr> & <chr> & <dbl> & <dbl> & <dbl> & <chr>\\\\\n",
       "\\hline\n",
       "\t1 & P61626 & LYZ & Lysozyme C & LYSC\\_HUMAN & 21 & NR\\_1 & Post\\_1 & 64819128 & 73788697 &  1 & Post\\\\\n",
       "\t2 & P61626 & LYZ & Lysozyme C & LYSC\\_HUMAN & 21 & NR\\_1 & Pre\\_2  & 88131664 & 81867431 &  1 & Pre \\\\\n",
       "\t3 & P61626 & LYZ & Lysozyme C & LYSC\\_HUMAN & 21 & NR\\_2 & Post\\_3 & 30396704 & 32521079 &  2 & Post\\\\\n",
       "\t4 & P61626 & LYZ & Lysozyme C & LYSC\\_HUMAN & 21 & NR\\_2 & Pre\\_4  & 38267072 & 69466046 &  2 & Pre \\\\\n",
       "\t5 & P61626 & LYZ & Lysozyme C & LYSC\\_HUMAN & 21 & R\\_16 & Post\\_5 & 68394088 & 67261697 & 16 & Post\\\\\n",
       "\t6 & P61626 & LYZ & Lysozyme C & LYSC\\_HUMAN & 21 & R\\_16 & Pre\\_6  & 50484084 & 54090668 & 16 & Pre \\\\\n",
       "\\end{tabular}\n"
      ],
      "text/markdown": [
       "\n",
       "A data.frame: 6 × 11\n",
       "\n",
       "| <!--/--> | Protein_Accession &lt;chr&gt; | Gene_Name &lt;chr&gt; | Protein_Descriptions &lt;chr&gt; | Protein_Name &lt;chr&gt; | Number_Unique_Peptides &lt;dbl&gt; | Subject_ID &lt;chr&gt; | Sample_ID &lt;chr&gt; | Intensity &lt;dbl&gt; | Imputed_Norm_Intensity &lt;dbl&gt; | Subject_No &lt;dbl&gt; | PrevPost &lt;chr&gt; |\n",
       "|---|---|---|---|---|---|---|---|---|---|---|---|\n",
       "| 1 | P61626 | LYZ | Lysozyme C | LYSC_HUMAN | 21 | NR_1 | Post_1 | 64819128 | 73788697 |  1 | Post |\n",
       "| 2 | P61626 | LYZ | Lysozyme C | LYSC_HUMAN | 21 | NR_1 | Pre_2  | 88131664 | 81867431 |  1 | Pre  |\n",
       "| 3 | P61626 | LYZ | Lysozyme C | LYSC_HUMAN | 21 | NR_2 | Post_3 | 30396704 | 32521079 |  2 | Post |\n",
       "| 4 | P61626 | LYZ | Lysozyme C | LYSC_HUMAN | 21 | NR_2 | Pre_4  | 38267072 | 69466046 |  2 | Pre  |\n",
       "| 5 | P61626 | LYZ | Lysozyme C | LYSC_HUMAN | 21 | R_16 | Post_5 | 68394088 | 67261697 | 16 | Post |\n",
       "| 6 | P61626 | LYZ | Lysozyme C | LYSC_HUMAN | 21 | R_16 | Pre_6  | 50484084 | 54090668 | 16 | Pre  |\n",
       "\n"
      ],
      "text/plain": [
       "  Protein_Accession Gene_Name Protein_Descriptions Protein_Name\n",
       "1 P61626            LYZ       Lysozyme C           LYSC_HUMAN  \n",
       "2 P61626            LYZ       Lysozyme C           LYSC_HUMAN  \n",
       "3 P61626            LYZ       Lysozyme C           LYSC_HUMAN  \n",
       "4 P61626            LYZ       Lysozyme C           LYSC_HUMAN  \n",
       "5 P61626            LYZ       Lysozyme C           LYSC_HUMAN  \n",
       "6 P61626            LYZ       Lysozyme C           LYSC_HUMAN  \n",
       "  Number_Unique_Peptides Subject_ID Sample_ID Intensity Imputed_Norm_Intensity\n",
       "1 21                     NR_1       Post_1    64819128  73788697              \n",
       "2 21                     NR_1       Pre_2     88131664  81867431              \n",
       "3 21                     NR_2       Post_3    30396704  32521079              \n",
       "4 21                     NR_2       Pre_4     38267072  69466046              \n",
       "5 21                     R_16       Post_5    68394088  67261697              \n",
       "6 21                     R_16       Pre_6     50484084  54090668              \n",
       "  Subject_No PrevPost\n",
       "1  1         Post    \n",
       "2  1         Pre     \n",
       "3  2         Post    \n",
       "4  2         Pre     \n",
       "5 16         Post    \n",
       "6 16         Pre     "
      ]
     },
     "metadata": {},
     "output_type": "display_data"
    }
   ],
   "source": [
    "library(readxl)\n",
    "library(tidyverse)\n",
    "library(reshape2)\n",
    "\n",
    "\n",
    "#reading in file\n",
    "proteomics_df <- data.frame(read_excel(\"011023_Processed_Proteomics_Data.xlsx\"))\n",
    "head(proteomics_df)"
   ]
  },
  {
   "cell_type": "code",
   "execution_count": 2,
   "id": "9033f135",
   "metadata": {},
   "outputs": [
    {
     "data": {
      "text/html": [
       "<table class=\"dataframe\">\n",
       "<caption>A data.frame: 6 × 13</caption>\n",
       "<thead>\n",
       "\t<tr><th></th><th scope=col>Protein_Accession</th><th scope=col>Gene_Name</th><th scope=col>Protein_Descriptions</th><th scope=col>Protein_Name</th><th scope=col>Number_Unique_Peptides</th><th scope=col>R_NR</th><th scope=col>ID</th><th scope=col>Time_Point</th><th scope=col>ID_2</th><th scope=col>Intensity</th><th scope=col>Imputed_Norm_Intensity</th><th scope=col>Subject_No</th><th scope=col>PrevPost</th></tr>\n",
       "\t<tr><th></th><th scope=col>&lt;chr&gt;</th><th scope=col>&lt;chr&gt;</th><th scope=col>&lt;chr&gt;</th><th scope=col>&lt;chr&gt;</th><th scope=col>&lt;dbl&gt;</th><th scope=col>&lt;chr&gt;</th><th scope=col>&lt;chr&gt;</th><th scope=col>&lt;chr&gt;</th><th scope=col>&lt;chr&gt;</th><th scope=col>&lt;dbl&gt;</th><th scope=col>&lt;dbl&gt;</th><th scope=col>&lt;dbl&gt;</th><th scope=col>&lt;chr&gt;</th></tr>\n",
       "</thead>\n",
       "<tbody>\n",
       "\t<tr><th scope=row>1</th><td>P61626</td><td>LYZ</td><td>Lysozyme C</td><td>LYSC_HUMAN</td><td>21</td><td>NR</td><td>1 </td><td>Post</td><td>1</td><td>64819128</td><td>73788697</td><td> 1</td><td>Post</td></tr>\n",
       "\t<tr><th scope=row>2</th><td>P61626</td><td>LYZ</td><td>Lysozyme C</td><td>LYSC_HUMAN</td><td>21</td><td>NR</td><td>1 </td><td>Pre </td><td>2</td><td>88131664</td><td>81867431</td><td> 1</td><td>Pre </td></tr>\n",
       "\t<tr><th scope=row>3</th><td>P61626</td><td>LYZ</td><td>Lysozyme C</td><td>LYSC_HUMAN</td><td>21</td><td>NR</td><td>2 </td><td>Post</td><td>3</td><td>30396704</td><td>32521079</td><td> 2</td><td>Post</td></tr>\n",
       "\t<tr><th scope=row>4</th><td>P61626</td><td>LYZ</td><td>Lysozyme C</td><td>LYSC_HUMAN</td><td>21</td><td>NR</td><td>2 </td><td>Pre </td><td>4</td><td>38267072</td><td>69466046</td><td> 2</td><td>Pre </td></tr>\n",
       "\t<tr><th scope=row>5</th><td>P61626</td><td>LYZ</td><td>Lysozyme C</td><td>LYSC_HUMAN</td><td>21</td><td>R </td><td>16</td><td>Post</td><td>5</td><td>68394088</td><td>67261697</td><td>16</td><td>Post</td></tr>\n",
       "\t<tr><th scope=row>6</th><td>P61626</td><td>LYZ</td><td>Lysozyme C</td><td>LYSC_HUMAN</td><td>21</td><td>R </td><td>16</td><td>Pre </td><td>6</td><td>50484084</td><td>54090668</td><td>16</td><td>Pre </td></tr>\n",
       "</tbody>\n",
       "</table>\n"
      ],
      "text/latex": [
       "A data.frame: 6 × 13\n",
       "\\begin{tabular}{r|lllllllllllll}\n",
       "  & Protein\\_Accession & Gene\\_Name & Protein\\_Descriptions & Protein\\_Name & Number\\_Unique\\_Peptides & R\\_NR & ID & Time\\_Point & ID\\_2 & Intensity & Imputed\\_Norm\\_Intensity & Subject\\_No & PrevPost\\\\\n",
       "  & <chr> & <chr> & <chr> & <chr> & <dbl> & <chr> & <chr> & <chr> & <chr> & <dbl> & <dbl> & <dbl> & <chr>\\\\\n",
       "\\hline\n",
       "\t1 & P61626 & LYZ & Lysozyme C & LYSC\\_HUMAN & 21 & NR & 1  & Post & 1 & 64819128 & 73788697 &  1 & Post\\\\\n",
       "\t2 & P61626 & LYZ & Lysozyme C & LYSC\\_HUMAN & 21 & NR & 1  & Pre  & 2 & 88131664 & 81867431 &  1 & Pre \\\\\n",
       "\t3 & P61626 & LYZ & Lysozyme C & LYSC\\_HUMAN & 21 & NR & 2  & Post & 3 & 30396704 & 32521079 &  2 & Post\\\\\n",
       "\t4 & P61626 & LYZ & Lysozyme C & LYSC\\_HUMAN & 21 & NR & 2  & Pre  & 4 & 38267072 & 69466046 &  2 & Pre \\\\\n",
       "\t5 & P61626 & LYZ & Lysozyme C & LYSC\\_HUMAN & 21 & R  & 16 & Post & 5 & 68394088 & 67261697 & 16 & Post\\\\\n",
       "\t6 & P61626 & LYZ & Lysozyme C & LYSC\\_HUMAN & 21 & R  & 16 & Pre  & 6 & 50484084 & 54090668 & 16 & Pre \\\\\n",
       "\\end{tabular}\n"
      ],
      "text/markdown": [
       "\n",
       "A data.frame: 6 × 13\n",
       "\n",
       "| <!--/--> | Protein_Accession &lt;chr&gt; | Gene_Name &lt;chr&gt; | Protein_Descriptions &lt;chr&gt; | Protein_Name &lt;chr&gt; | Number_Unique_Peptides &lt;dbl&gt; | R_NR &lt;chr&gt; | ID &lt;chr&gt; | Time_Point &lt;chr&gt; | ID_2 &lt;chr&gt; | Intensity &lt;dbl&gt; | Imputed_Norm_Intensity &lt;dbl&gt; | Subject_No &lt;dbl&gt; | PrevPost &lt;chr&gt; |\n",
       "|---|---|---|---|---|---|---|---|---|---|---|---|---|---|\n",
       "| 1 | P61626 | LYZ | Lysozyme C | LYSC_HUMAN | 21 | NR | 1  | Post | 1 | 64819128 | 73788697 |  1 | Post |\n",
       "| 2 | P61626 | LYZ | Lysozyme C | LYSC_HUMAN | 21 | NR | 1  | Pre  | 2 | 88131664 | 81867431 |  1 | Pre  |\n",
       "| 3 | P61626 | LYZ | Lysozyme C | LYSC_HUMAN | 21 | NR | 2  | Post | 3 | 30396704 | 32521079 |  2 | Post |\n",
       "| 4 | P61626 | LYZ | Lysozyme C | LYSC_HUMAN | 21 | NR | 2  | Pre  | 4 | 38267072 | 69466046 |  2 | Pre  |\n",
       "| 5 | P61626 | LYZ | Lysozyme C | LYSC_HUMAN | 21 | R  | 16 | Post | 5 | 68394088 | 67261697 | 16 | Post |\n",
       "| 6 | P61626 | LYZ | Lysozyme C | LYSC_HUMAN | 21 | R  | 16 | Pre  | 6 | 50484084 | 54090668 | 16 | Pre  |\n",
       "\n"
      ],
      "text/plain": [
       "  Protein_Accession Gene_Name Protein_Descriptions Protein_Name\n",
       "1 P61626            LYZ       Lysozyme C           LYSC_HUMAN  \n",
       "2 P61626            LYZ       Lysozyme C           LYSC_HUMAN  \n",
       "3 P61626            LYZ       Lysozyme C           LYSC_HUMAN  \n",
       "4 P61626            LYZ       Lysozyme C           LYSC_HUMAN  \n",
       "5 P61626            LYZ       Lysozyme C           LYSC_HUMAN  \n",
       "6 P61626            LYZ       Lysozyme C           LYSC_HUMAN  \n",
       "  Number_Unique_Peptides R_NR ID Time_Point ID_2 Intensity\n",
       "1 21                     NR   1  Post       1    64819128 \n",
       "2 21                     NR   1  Pre        2    88131664 \n",
       "3 21                     NR   2  Post       3    30396704 \n",
       "4 21                     NR   2  Pre        4    38267072 \n",
       "5 21                     R    16 Post       5    68394088 \n",
       "6 21                     R    16 Pre        6    50484084 \n",
       "  Imputed_Norm_Intensity Subject_No PrevPost\n",
       "1 73788697                1         Post    \n",
       "2 81867431                1         Pre     \n",
       "3 32521079                2         Post    \n",
       "4 69466046                2         Pre     \n",
       "5 67261697               16         Post    \n",
       "6 54090668               16         Pre     "
      ]
     },
     "metadata": {},
     "output_type": "display_data"
    }
   ],
   "source": [
    "proteomics_df = proteomics_df %>%\n",
    "    # just want a column that specifies the treatment and exposure separately\n",
    "  separate(Subject_ID, c(\"R_NR\", \"ID\"), sep = \"_\") %>%   \n",
    "  separate(Sample_ID, c(\"Time_Point\", \"ID_2\"), sep = \"_\") \n",
    "\n",
    "head(proteomics_df)"
   ]
  },
  {
   "cell_type": "code",
   "execution_count": 9,
   "id": "99dbf7e0-39e0-4aef-a37c-a4ea8346cf43",
   "metadata": {},
   "outputs": [
    {
     "data": {
      "text/html": [
       "<table class=\"dataframe\">\n",
       "<caption>A data.frame: 6 × 5</caption>\n",
       "<thead>\n",
       "\t<tr><th></th><th scope=col>V1</th><th scope=col>FC</th><th scope=col>V3</th><th scope=col>V4</th><th scope=col>p.adj</th></tr>\n",
       "\t<tr><th></th><th scope=col>&lt;chr&gt;</th><th scope=col>&lt;chr&gt;</th><th scope=col>&lt;chr&gt;</th><th scope=col>&lt;chr&gt;</th><th scope=col>&lt;dbl&gt;</th></tr>\n",
       "</thead>\n",
       "<tbody>\n",
       "\t<tr><th scope=row>t</th><td>P61626</td><td>-0.0728486146255378</td><td>0.585411887241969 </td><td>0.560815096066013</td><td>0.7958692</td></tr>\n",
       "\t<tr><th scope=row>t1</th><td>P01877</td><td>0.212111161818743  </td><td>-1.17593644942288 </td><td>0.245514975976604</td><td>0.6021921</td></tr>\n",
       "\t<tr><th scope=row>t2</th><td>P01876</td><td>0.148517136427489  </td><td>-0.982069487757299</td><td>0.33080863361061 </td><td>0.6587227</td></tr>\n",
       "\t<tr><th scope=row>t3</th><td>P02768</td><td>-0.16409331368835  </td><td>0.678951578641631 </td><td>0.500869057582336</td><td>0.7684498</td></tr>\n",
       "\t<tr><th scope=row>t4</th><td>P01834</td><td>0.014972216724404  </td><td>-0.108493302294183</td><td>0.914024918562897</td><td>0.9551508</td></tr>\n",
       "\t<tr><th scope=row>t5</th><td>Q8TDL5</td><td>-0.132675814878414 </td><td>0.590566484071262 </td><td>0.557377293224984</td><td>0.7958692</td></tr>\n",
       "</tbody>\n",
       "</table>\n"
      ],
      "text/latex": [
       "A data.frame: 6 × 5\n",
       "\\begin{tabular}{r|lllll}\n",
       "  & V1 & FC & V3 & V4 & p.adj\\\\\n",
       "  & <chr> & <chr> & <chr> & <chr> & <dbl>\\\\\n",
       "\\hline\n",
       "\tt & P61626 & -0.0728486146255378 & 0.585411887241969  & 0.560815096066013 & 0.7958692\\\\\n",
       "\tt1 & P01877 & 0.212111161818743   & -1.17593644942288  & 0.245514975976604 & 0.6021921\\\\\n",
       "\tt2 & P01876 & 0.148517136427489   & -0.982069487757299 & 0.33080863361061  & 0.6587227\\\\\n",
       "\tt3 & P02768 & -0.16409331368835   & 0.678951578641631  & 0.500869057582336 & 0.7684498\\\\\n",
       "\tt4 & P01834 & 0.014972216724404   & -0.108493302294183 & 0.914024918562897 & 0.9551508\\\\\n",
       "\tt5 & Q8TDL5 & -0.132675814878414  & 0.590566484071262  & 0.557377293224984 & 0.7958692\\\\\n",
       "\\end{tabular}\n"
      ],
      "text/markdown": [
       "\n",
       "A data.frame: 6 × 5\n",
       "\n",
       "| <!--/--> | V1 &lt;chr&gt; | FC &lt;chr&gt; | V3 &lt;chr&gt; | V4 &lt;chr&gt; | p.adj &lt;dbl&gt; |\n",
       "|---|---|---|---|---|---|\n",
       "| t | P61626 | -0.0728486146255378 | 0.585411887241969  | 0.560815096066013 | 0.7958692 |\n",
       "| t1 | P01877 | 0.212111161818743   | -1.17593644942288  | 0.245514975976604 | 0.6021921 |\n",
       "| t2 | P01876 | 0.148517136427489   | -0.982069487757299 | 0.33080863361061  | 0.6587227 |\n",
       "| t3 | P02768 | -0.16409331368835   | 0.678951578641631  | 0.500869057582336 | 0.7684498 |\n",
       "| t4 | P01834 | 0.014972216724404   | -0.108493302294183 | 0.914024918562897 | 0.9551508 |\n",
       "| t5 | Q8TDL5 | -0.132675814878414  | 0.590566484071262  | 0.557377293224984 | 0.7958692 |\n",
       "\n"
      ],
      "text/plain": [
       "   V1     FC                  V3                 V4                p.adj    \n",
       "t  P61626 -0.0728486146255378 0.585411887241969  0.560815096066013 0.7958692\n",
       "t1 P01877 0.212111161818743   -1.17593644942288  0.245514975976604 0.6021921\n",
       "t2 P01876 0.148517136427489   -0.982069487757299 0.33080863361061  0.6587227\n",
       "t3 P02768 -0.16409331368835   0.678951578641631  0.500869057582336 0.7684498\n",
       "t4 P01834 0.014972216724404   -0.108493302294183 0.914024918562897 0.9551508\n",
       "t5 Q8TDL5 -0.132675814878414  0.590566484071262  0.557377293224984 0.7958692"
      ]
     },
     "metadata": {},
     "output_type": "display_data"
    }
   ],
   "source": [
    "proteins <- unique(proteomics_df$Protein_Accession)\n",
    "#proteins list will hold unique protein accession names from Protein_Accession column of the proteomics_df\n",
    "\n",
    "values_df <- data.frame()\n",
    "#create an empty dataframe for the loop function to place values into\n",
    "\n",
    "for (i in 1:length(proteins)) {\n",
    "  #head of for loop  defines a collection of objects such as the elements of a vector or a list\n",
    "  \n",
    "  #we are specifying within the head of the for-loop that we want to run through a vector      containing elements from the first element [1], through the entire length of the proteins vector\n",
    "    \n",
    "     # unexposed df\n",
    "    unexposed_df = proteomics_df %>%\n",
    "        filter(Time_Point == \"Pre\", Protein_Accession == proteins[i])\n",
    "    # exposed df\n",
    "    exposed_df = proteomics_df %>%\n",
    "        filter(Time_Point == \"Post\", Protein_Accession == proteins[i])\n",
    "\n",
    "    # t test\n",
    "    t_test = t.test(unexposed_df$Imputed_Norm_Intensity, exposed_df$Imputed_Norm_Intensity)\n",
    "    \n",
    "    # calculating FC to get directionality\n",
    "    FC = log2(mean(exposed_df$Imputed_Norm_Intensity)/mean(unexposed_df$Imputed_Norm_Intensity))\n",
    "\n",
    "    # contains ??? u stat, and p value\n",
    "    values_vector = cbind(proteins[i], FC, t_test$statistic, t_test$p.value)\n",
    "    values_df = rbind(values_df, values_vector)\n",
    "}    \n",
    "\n",
    "values_df$p.adj <- p.adjust(values_df$V4, method = \"BH\")\n",
    "\n",
    "#empty_df <-  empty_df[,c(2, 5, 1, 3, 4)]\n",
    "head(values_df)"
   ]
  },
  {
   "cell_type": "code",
   "execution_count": 14,
   "id": "7d276095-a2da-4445-9ccd-795ad36cc461",
   "metadata": {},
   "outputs": [
    {
     "data": {
      "text/html": [
       "<table class=\"dataframe\">\n",
       "<caption>A data.frame: 0 × 5</caption>\n",
       "<thead>\n",
       "\t<tr><th scope=col>V1</th><th scope=col>FC</th><th scope=col>V3</th><th scope=col>V4</th><th scope=col>p.adj</th></tr>\n",
       "\t<tr><th scope=col>&lt;chr&gt;</th><th scope=col>&lt;chr&gt;</th><th scope=col>&lt;chr&gt;</th><th scope=col>&lt;chr&gt;</th><th scope=col>&lt;dbl&gt;</th></tr>\n",
       "</thead>\n",
       "<tbody>\n",
       "</tbody>\n",
       "</table>\n"
      ],
      "text/latex": [
       "A data.frame: 0 × 5\n",
       "\\begin{tabular}{lllll}\n",
       " V1 & FC & V3 & V4 & p.adj\\\\\n",
       " <chr> & <chr> & <chr> & <chr> & <dbl>\\\\\n",
       "\\hline\n",
       "\\end{tabular}\n"
      ],
      "text/markdown": [
       "\n",
       "A data.frame: 0 × 5\n",
       "\n",
       "| V1 &lt;chr&gt; | FC &lt;chr&gt; | V3 &lt;chr&gt; | V4 &lt;chr&gt; | p.adj &lt;dbl&gt; |\n",
       "|---|---|---|---|---|\n",
       "\n"
      ],
      "text/plain": [
       "     V1 FC V3 V4 p.adj"
      ]
     },
     "metadata": {},
     "output_type": "display_data"
    }
   ],
   "source": [
    "values_df %>%\n",
    "    filter(p.adj < 0.1 & FC < 0)"
   ]
  },
  {
   "cell_type": "code",
   "execution_count": null,
   "id": "b9e78889-4bba-473f-844c-1412da9452f8",
   "metadata": {},
   "outputs": [],
   "source": [
    "#make a new data frame that looks within the proteomics_df and the filter function will retain all rows that satisfy the conditions when the Protein_Accession variable is the same as the variable from the proteins list.\n",
    "  #The i in proteins[i] is specify that the loop filters through this filter step through the entirety of the proteins list\n",
    "  \n",
    "#   pre <- filtered %>%\n",
    "#     filter(pre_post == \"Pre\") \n",
    "  \n",
    "# #Now we will make another data frame, we will filter for rows from the 'filtered' df when the pre_post variable is \"Pre\"\n",
    "#   #In this step, we also want to specify that the intensity values from this new 'Pre' filtered data frame are 'pre'... so we will rename the Intensity column in this df to 'Intesity_Pre'\n",
    "  \n",
    "#   post <- filtered %>%\n",
    "#    filter(pre_post == \"Post\")\n",
    "  \n",
    "  \n",
    "  # pre_and_post <- pre %>%\n",
    "  #   right_join(post, by = \"ID\")\n",
    "  \n",
    "  # head(pre_and_post)\n",
    "    #Now that the intensity has been filtered and renamed for either pre or post values, we will join these data frames together using right_join() To include all the rows of data frame 'pre' and only those from 'post' that match by \"ID\", specify y=TRUE.\n",
    "    \n",
    "#making a df for columns related to information about the proteins\n",
    "   protein_info <- filtered %>% \n",
    "     select(Protein_Accession, Protein_Name, Protein_Descriptions)\n",
    "     \n",
    "   protein_info <- protein_info[!duplicated(protein_info), ]\n",
    "   \n",
    "#I only need one row of description for each protein, so I deleted the duplicate rows\n",
    "  \n",
    "   head(protein_info)\n",
    "\n",
    "  ttes_res <- t.test(pre_and_post$Intensity_Pre, pre_and_post$Intensity_Post, paired = TRUE)\n",
    "#from our new pre_and_post data frame, we can finally do t-tests because the pre and post values are stratified.\n",
    "  #The t.test function generates a long and informative list, we can subset for specific information from this list by setting it as a ttes_res object and selecting for values like p.value\n",
    "\n",
    "  pval <- ttes_res$p.value\n",
    "  #pval object is a list that selects for the p.values generated from the ttes_res object\n",
    "  \n",
    "  Protein_Accession <- proteins[i] \n",
    "   \n",
    "  res <- data.frame(pval, Protein_Accession)\n",
    "  \n",
    "  #This new object 'res' will be a data frame that contains the list object 'pval' where the Protein_Accession for this data frame will be from the entire characterized vector 'proteins'\n",
    "  \n",
    "  res2 <- merge(res, protein_info, by = \"Protein_Accession\") \n",
    "#Let's join our res data frame with the protein_info data frame     \n",
    "  \n",
    "  head(res2)\n",
    "  \n",
    "  empty_df <- rbind(empty_df, res2)\n",
    "#Lastly, we will merge the res2 data frame with our empty data frame \"empty_df\" that we made before starting the loop\n",
    " \n",
    "  \n",
    "}"
   ]
  },
  {
   "cell_type": "code",
   "execution_count": 10,
   "id": "424b002b",
   "metadata": {},
   "outputs": [
    {
     "data": {
      "text/html": [
       "<table class=\"dataframe\">\n",
       "<caption>A data.frame: 6 × 5</caption>\n",
       "<thead>\n",
       "\t<tr><th></th><th scope=col>pval</th><th scope=col>p.adj</th><th scope=col>Protein_Accession</th><th scope=col>Protein_Name</th><th scope=col>Protein_Descriptions</th></tr>\n",
       "\t<tr><th></th><th scope=col>&lt;dbl&gt;</th><th scope=col>&lt;dbl&gt;</th><th scope=col>&lt;chr&gt;</th><th scope=col>&lt;chr&gt;</th><th scope=col>&lt;chr&gt;</th></tr>\n",
       "</thead>\n",
       "<tbody>\n",
       "\t<tr><th scope=row>1</th><td>0.4518037</td><td>0.6666139</td><td>P61626</td><td>LYSC_HUMAN </td><td>Lysozyme C                           </td></tr>\n",
       "\t<tr><th scope=row>2</th><td>0.1072175</td><td>0.3487203</td><td>P01877</td><td>IGHA2_HUMAN</td><td>Immunoglobulin heavy constant alpha 2</td></tr>\n",
       "\t<tr><th scope=row>3</th><td>0.1933458</td><td>0.4515158</td><td>P01876</td><td>IGHA1_HUMAN</td><td>Immunoglobulin heavy constant alpha 1</td></tr>\n",
       "\t<tr><th scope=row>4</th><td>0.4300396</td><td>0.6594605</td><td>P02768</td><td>ALBU_HUMAN </td><td>Albumin                              </td></tr>\n",
       "\t<tr><th scope=row>5</th><td>0.8893501</td><td>0.9329493</td><td>P01834</td><td>IGKC_HUMAN </td><td>Immunoglobulin kappa constant        </td></tr>\n",
       "\t<tr><th scope=row>6</th><td>0.3978241</td><td>0.6333211</td><td>Q8TDL5</td><td>BPIB1_HUMAN</td><td>BPI fold-containing family B member 1</td></tr>\n",
       "</tbody>\n",
       "</table>\n"
      ],
      "text/latex": [
       "A data.frame: 6 × 5\n",
       "\\begin{tabular}{r|lllll}\n",
       "  & pval & p.adj & Protein\\_Accession & Protein\\_Name & Protein\\_Descriptions\\\\\n",
       "  & <dbl> & <dbl> & <chr> & <chr> & <chr>\\\\\n",
       "\\hline\n",
       "\t1 & 0.4518037 & 0.6666139 & P61626 & LYSC\\_HUMAN  & Lysozyme C                           \\\\\n",
       "\t2 & 0.1072175 & 0.3487203 & P01877 & IGHA2\\_HUMAN & Immunoglobulin heavy constant alpha 2\\\\\n",
       "\t3 & 0.1933458 & 0.4515158 & P01876 & IGHA1\\_HUMAN & Immunoglobulin heavy constant alpha 1\\\\\n",
       "\t4 & 0.4300396 & 0.6594605 & P02768 & ALBU\\_HUMAN  & Albumin                              \\\\\n",
       "\t5 & 0.8893501 & 0.9329493 & P01834 & IGKC\\_HUMAN  & Immunoglobulin kappa constant        \\\\\n",
       "\t6 & 0.3978241 & 0.6333211 & Q8TDL5 & BPIB1\\_HUMAN & BPI fold-containing family B member 1\\\\\n",
       "\\end{tabular}\n"
      ],
      "text/markdown": [
       "\n",
       "A data.frame: 6 × 5\n",
       "\n",
       "| <!--/--> | pval &lt;dbl&gt; | p.adj &lt;dbl&gt; | Protein_Accession &lt;chr&gt; | Protein_Name &lt;chr&gt; | Protein_Descriptions &lt;chr&gt; |\n",
       "|---|---|---|---|---|---|\n",
       "| 1 | 0.4518037 | 0.6666139 | P61626 | LYSC_HUMAN  | Lysozyme C                            |\n",
       "| 2 | 0.1072175 | 0.3487203 | P01877 | IGHA2_HUMAN | Immunoglobulin heavy constant alpha 2 |\n",
       "| 3 | 0.1933458 | 0.4515158 | P01876 | IGHA1_HUMAN | Immunoglobulin heavy constant alpha 1 |\n",
       "| 4 | 0.4300396 | 0.6594605 | P02768 | ALBU_HUMAN  | Albumin                               |\n",
       "| 5 | 0.8893501 | 0.9329493 | P01834 | IGKC_HUMAN  | Immunoglobulin kappa constant         |\n",
       "| 6 | 0.3978241 | 0.6333211 | Q8TDL5 | BPIB1_HUMAN | BPI fold-containing family B member 1 |\n",
       "\n"
      ],
      "text/plain": [
       "  pval      p.adj     Protein_Accession Protein_Name\n",
       "1 0.4518037 0.6666139 P61626            LYSC_HUMAN  \n",
       "2 0.1072175 0.3487203 P01877            IGHA2_HUMAN \n",
       "3 0.1933458 0.4515158 P01876            IGHA1_HUMAN \n",
       "4 0.4300396 0.6594605 P02768            ALBU_HUMAN  \n",
       "5 0.8893501 0.9329493 P01834            IGKC_HUMAN  \n",
       "6 0.3978241 0.6333211 Q8TDL5            BPIB1_HUMAN \n",
       "  Protein_Descriptions                 \n",
       "1 Lysozyme C                           \n",
       "2 Immunoglobulin heavy constant alpha 2\n",
       "3 Immunoglobulin heavy constant alpha 1\n",
       "4 Albumin                              \n",
       "5 Immunoglobulin kappa constant        \n",
       "6 BPI fold-containing family B member 1"
      ]
     },
     "metadata": {},
     "output_type": "display_data"
    }
   ],
   "source": [
    "empty_df$p.adj <- p.adjust(empty_df$pval, method = \"BH\")\n",
    "\n",
    "empty_df <-  empty_df[,c(2, 5, 1, 3, 4)]\n",
    "head(empty_df)"
   ]
  },
  {
   "cell_type": "code",
   "execution_count": 15,
   "id": "bb9ea4cb",
   "metadata": {},
   "outputs": [
    {
     "data": {
      "text/html": [
       "<table class=\"dataframe\">\n",
       "<caption>A data.frame: 6 × 3</caption>\n",
       "<thead>\n",
       "\t<tr><th></th><th scope=col>V1</th><th scope=col>V2</th><th scope=col>V3</th></tr>\n",
       "\t<tr><th></th><th scope=col>&lt;chr&gt;</th><th scope=col>&lt;chr&gt;</th><th scope=col>&lt;chr&gt;</th></tr>\n",
       "</thead>\n",
       "<tbody>\n",
       "\t<tr><th scope=row>t</th><td>P61626</td><td>0.763900384218391 </td><td>0.45180368319395 </td></tr>\n",
       "\t<tr><th scope=row>t1</th><td>P01877</td><td>-1.66849627654674 </td><td>0.107217512843925</td></tr>\n",
       "\t<tr><th scope=row>t2</th><td>P01876</td><td>-1.33531905511343 </td><td>0.193345800152901</td></tr>\n",
       "\t<tr><th scope=row>t3</th><td>P02768</td><td>0.801618323692519 </td><td>0.430039553680159</td></tr>\n",
       "\t<tr><th scope=row>t4</th><td>P01834</td><td>-0.140496993367947</td><td>0.889350148622099</td></tr>\n",
       "\t<tr><th scope=row>t5</th><td>Q8TDL5</td><td>0.859678075417709 </td><td>0.397824079015538</td></tr>\n",
       "</tbody>\n",
       "</table>\n"
      ],
      "text/latex": [
       "A data.frame: 6 × 3\n",
       "\\begin{tabular}{r|lll}\n",
       "  & V1 & V2 & V3\\\\\n",
       "  & <chr> & <chr> & <chr>\\\\\n",
       "\\hline\n",
       "\tt & P61626 & 0.763900384218391  & 0.45180368319395 \\\\\n",
       "\tt1 & P01877 & -1.66849627654674  & 0.107217512843925\\\\\n",
       "\tt2 & P01876 & -1.33531905511343  & 0.193345800152901\\\\\n",
       "\tt3 & P02768 & 0.801618323692519  & 0.430039553680159\\\\\n",
       "\tt4 & P01834 & -0.140496993367947 & 0.889350148622099\\\\\n",
       "\tt5 & Q8TDL5 & 0.859678075417709  & 0.397824079015538\\\\\n",
       "\\end{tabular}\n"
      ],
      "text/markdown": [
       "\n",
       "A data.frame: 6 × 3\n",
       "\n",
       "| <!--/--> | V1 &lt;chr&gt; | V2 &lt;chr&gt; | V3 &lt;chr&gt; |\n",
       "|---|---|---|---|\n",
       "| t | P61626 | 0.763900384218391  | 0.45180368319395  |\n",
       "| t1 | P01877 | -1.66849627654674  | 0.107217512843925 |\n",
       "| t2 | P01876 | -1.33531905511343  | 0.193345800152901 |\n",
       "| t3 | P02768 | 0.801618323692519  | 0.430039553680159 |\n",
       "| t4 | P01834 | -0.140496993367947 | 0.889350148622099 |\n",
       "| t5 | Q8TDL5 | 0.859678075417709  | 0.397824079015538 |\n",
       "\n"
      ],
      "text/plain": [
       "   V1     V2                 V3               \n",
       "t  P61626 0.763900384218391  0.45180368319395 \n",
       "t1 P01877 -1.66849627654674  0.107217512843925\n",
       "t2 P01876 -1.33531905511343  0.193345800152901\n",
       "t3 P02768 0.801618323692519  0.430039553680159\n",
       "t4 P01834 -0.140496993367947 0.889350148622099\n",
       "t5 Q8TDL5 0.859678075417709  0.397824079015538"
      ]
     },
     "metadata": {},
     "output_type": "display_data"
    }
   ],
   "source": [
    "values_df = data.frame()\n",
    "for (i in 1:length(proteins)){\n",
    "    pre_df = proteomics_df %>%\n",
    "        filter(pre_post == \"Pre\", Protein_Accession == proteins[i])\n",
    "    post_df = proteomics_df %>%\n",
    "        filter(pre_post == \"Post\", Protein_Accession == proteins[i])\n",
    "    \n",
    "    t_test = t.test(pre_df$Imputed_Norm_Intensity, post_df$Imputed_Norm_Intensity, paired = TRUE)\n",
    "    values_vector = cbind(proteins[i], t_test$statistic, t_test$p.value)\n",
    "    \n",
    "    values_df = rbind(values_df, values_vector)\n",
    "}\n",
    "\n",
    "head(values_df)"
   ]
  },
  {
   "cell_type": "markdown",
   "id": "e72a66c5",
   "metadata": {},
   "source": [
    "# Take 2"
   ]
  },
  {
   "cell_type": "code",
   "execution_count": 7,
   "id": "cb3c13d1",
   "metadata": {},
   "outputs": [
    {
     "data": {
      "text/html": [
       "<style>\n",
       ".list-inline {list-style: none; margin:0; padding: 0}\n",
       ".list-inline>li {display: inline-block}\n",
       ".list-inline>li:not(:last-child)::after {content: \"\\00b7\"; padding: 0 .5ex}\n",
       "</style>\n",
       "<ol class=list-inline><li>100116</li><li>11</li></ol>\n"
      ],
      "text/latex": [
       "\\begin{enumerate*}\n",
       "\\item 100116\n",
       "\\item 11\n",
       "\\end{enumerate*}\n"
      ],
      "text/markdown": [
       "1. 100116\n",
       "2. 11\n",
       "\n",
       "\n"
      ],
      "text/plain": [
       "[1] 100116     11"
      ]
     },
     "metadata": {},
     "output_type": "display_data"
    }
   ],
   "source": [
    "dim(proteomics_df)"
   ]
  },
  {
   "cell_type": "code",
   "execution_count": 8,
   "id": "32fd02f5",
   "metadata": {},
   "outputs": [
    {
     "data": {
      "text/html": [
       "1854"
      ],
      "text/latex": [
       "1854"
      ],
      "text/markdown": [
       "1854"
      ],
      "text/plain": [
       "[1] 1854"
      ]
     },
     "metadata": {},
     "output_type": "display_data"
    }
   ],
   "source": [
    "length(unique(proteomics_df$Protein_Accession))"
   ]
  },
  {
   "cell_type": "code",
   "execution_count": 9,
   "id": "6306fe2a",
   "metadata": {},
   "outputs": [
    {
     "data": {
      "text/html": [
       "27"
      ],
      "text/latex": [
       "27"
      ],
      "text/markdown": [
       "27"
      ],
      "text/plain": [
       "[1] 27"
      ]
     },
     "metadata": {},
     "output_type": "display_data"
    }
   ],
   "source": [
    "length(unique(proteomics_df$Subject_ID))"
   ]
  },
  {
   "cell_type": "code",
   "execution_count": 11,
   "id": "affaf03d",
   "metadata": {},
   "outputs": [
    {
     "data": {
      "text/html": [
       "1854"
      ],
      "text/latex": [
       "1854"
      ],
      "text/markdown": [
       "1854"
      ],
      "text/plain": [
       "[1] 1854"
      ]
     },
     "metadata": {},
     "output_type": "display_data"
    }
   ],
   "source": [
    "(dim(proteomics_df)[1]/2)/27"
   ]
  },
  {
   "cell_type": "code",
   "execution_count": null,
   "id": "3abf139d",
   "metadata": {},
   "outputs": [],
   "source": []
  }
 ],
 "metadata": {
  "kernelspec": {
   "display_name": "R",
   "language": "R",
   "name": "ir"
  },
  "language_info": {
   "codemirror_mode": "r",
   "file_extension": ".r",
   "mimetype": "text/x-r-source",
   "name": "R",
   "pygments_lexer": "r",
   "version": "4.3.1"
  }
 },
 "nbformat": 4,
 "nbformat_minor": 5
}
